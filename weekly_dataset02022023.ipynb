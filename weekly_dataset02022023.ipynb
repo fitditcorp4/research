{
  "nbformat": 4,
  "nbformat_minor": 0,
  "metadata": {
    "colab": {
      "provenance": [],
      "authorship_tag": "ABX9TyOr8DYI2U8v4YtGEfx4K5+8",
      "include_colab_link": true
    },
    "kernelspec": {
      "name": "python3",
      "display_name": "Python 3"
    },
    "language_info": {
      "name": "python"
    }
  },
  "cells": [
    {
      "cell_type": "markdown",
      "metadata": {
        "id": "view-in-github",
        "colab_type": "text"
      },
      "source": [
        "<a href=\"https://colab.research.google.com/github/fitditcorp4/research/blob/main/weekly_dataset02022023.ipynb\" target=\"_parent\"><img src=\"https://colab.research.google.com/assets/colab-badge.svg\" alt=\"Open In Colab\"/></a>"
      ]
    },
    {
      "cell_type": "code",
      "execution_count": null,
      "metadata": {
        "id": "y-iUEG8KMJSN"
      },
      "outputs": [],
      "source": [
        "# imports library\n",
        "import pandas as pd\n",
        "import datetime as dt\n",
        "import matplotlib.pyplot as plt\n",
        "from matplotlib import pyplot\n",
        "import seaborn as sns\n",
        "import statsmodels.api as sm\n",
        "from sklearn.model_selection import train_test_split\n",
        "from sklearn.linear_model import LinearRegression\n",
        "from pandas.plotting import autocorrelation_plot\n",
        "from random import randrange\n",
        "from statsmodels.tsa.seasonal import seasonal_decompose\n",
        "#from pandas import datetime\n",
        "from datetime import datetime\n",
        "import numpy as np\n",
        "from pandas import read_json\n",
        "from pandas import read_csv\n",
        "from numpy import array\n",
        "import matplotlib.colors as colors\n",
        "import matplotlib.cm as cm\n",
        "from pylab import rcParams\n",
        "import warnings\n",
        "import itertools\n",
        "from pandas import Series\n",
        "# plt.style.use('fivethirtyeight')\n",
        "plt.style.use('classic')\n",
        "%matplotlib inline"
      ]
    },
    {
      "cell_type": "code",
      "source": [
        "pd.set_option('display.max_rows', 10000)\n",
        "pd.set_option('display.max_columns', 10000)\n",
        "pd.set_option('display.width', 1000)"
      ],
      "metadata": {
        "id": "9-CBvL_4N3dn"
      },
      "execution_count": null,
      "outputs": []
    },
    {
      "cell_type": "code",
      "source": [
        "from google.colab import data_table\n",
        "data_table.enable_dataframe_formatter"
      ],
      "metadata": {
        "colab": {
          "base_uri": "https://localhost:8080/"
        },
        "id": "Upb5Xvh6cSUU",
        "outputId": "5f60b3b8-89a1-432c-970d-c6a0c476a8f0"
      },
      "execution_count": null,
      "outputs": [
        {
          "output_type": "execute_result",
          "data": {
            "text/plain": [
              "<function google.colab.data_table.enable_dataframe_formatter()>"
            ]
          },
          "metadata": {},
          "execution_count": 35
        }
      ]
    },
    {
      "cell_type": "code",
      "source": [
        "df0 = pd.read_json('https://oilspillmonitor.ng/api/spill-data.php?dataset=nosdra&format=json')"
      ],
      "metadata": {
        "id": "G8m04E1yb08J"
      },
      "execution_count": null,
      "outputs": []
    },
    {
      "cell_type": "code",
      "source": [
        " df0"
      ],
      "metadata": {
        "colab": {
          "base_uri": "https://localhost:8080/",
          "height": 696
        },
        "id": "hWKGITTQb8VI",
        "outputId": "fd1a9a65-f40b-41bb-a7cc-e715e671bb80"
      },
      "execution_count": null,
      "outputs": [
        {
          "output_type": "execute_result",
          "data": {
            "text/plain": [
              "           id     status company    incidentnumber incidentdate        contaminant estimatedquantity                           sitelocationname spillareahabitat     lastupdatedby           cause  updatefor   latitude  longitude statesaffected                                        attachments jivdate    lga zonaloffice certificatedate certificatenumber   formadate  reportdate spillstopdate                         initialcontainmentmeasures                                descriptionofimpact   formbdate formcdate jivpresent typeoffacility cleanupcompleteddate cleanupmethods cleanupdate quantityrecovered postcleanupinspectiondate finalsamplingdate estimatedspillarea remediationstart remediationtype remediationend postimpactassessmentdate finallabresultsdate\n",
              "0           2  confirmed   ADDAX  HSE/OBO/0611/101   2006-11-23                 cr               225  Subsea Pipeline @ Mimbo Platform (OML123)               of            NOSDRA             NaN        NaN        NaN        NaN            NaN                                                NaN     NaN    NaN         NaN             NaN               NaN         NaN         NaN           NaN                                                NaN                                                NaN         NaN       NaN        NaN            NaN                  NaN            NaN         NaN               NaN                       NaN               NaN                NaN              NaN             NaN            NaN                      NaN                 NaN\n",
              "1           3  confirmed   ADDAX  HSE/OBO/0612/108   2006-12-18                 cr               0.5       EBNE04HT @ Ebughu Platform (OML 123)               of            NOSDRA             eqf        NaN        NaN        NaN            NaN                                                NaN     NaN    NaN         NaN             NaN               NaN         NaN         NaN           NaN                                                NaN                                                NaN         NaN       NaN        NaN            NaN                  NaN            NaN         NaN               NaN                       NaN               NaN                NaN              NaN             NaN            NaN                      NaN                 NaN\n",
              "2           4  confirmed   ADDAX  HSE/OBO/0612/110   2006-12-27                 cr                25                South East of BOGI Platform               of            NOSDRA             NaN        NaN        NaN        NaN            NaN                                                NaN     NaN    NaN         NaN             NaN               NaN         NaN         NaN           NaN                                                NaN                                                NaN         NaN       NaN        NaN            NaN                  NaN            NaN         NaN               NaN                       NaN               NaN                NaN              NaN             NaN            NaN                      NaN                 NaN\n",
              "3           5  confirmed   ADDAX  HSE/OBO/0706/166   2007-05-14                 cr                 2                         Adanga Platform                  of            NOSDRA             NaN        NaN        NaN        NaN            NaN                                                NaN     NaN    NaN         NaN             NaN               NaN         NaN         NaN           NaN                                                NaN                                                NaN         NaN       NaN        NaN            NaN                  NaN            NaN         NaN               NaN                       NaN               NaN                NaN              NaN             NaN            NaN                      NaN                 NaN\n",
              "4           6  confirmed   ADDAX  HSE/OBO/0708/201   2007-08-16                 gs               NaN              Izombe Well #10LS 4\" Flowline               la            NOSDRA             NaN        NaN        NaN        NaN            NaN                                                NaN     NaN    NaN         NaN             NaN               NaN         NaN         NaN           NaN                                                NaN                                                NaN         NaN       NaN        NaN            NaN                  NaN            NaN         NaN               NaN                       NaN               NaN                NaN              NaN             NaN            NaN                      NaN                 NaN\n",
              "...       ...        ...     ...               ...          ...                ...               ...                                        ...              ...               ...             ...        ...        ...        ...            ...                                                ...     ...    ...         ...             ...               ...         ...         ...           ...                                                ...                                                ...         ...       ...        ...            ...                  ...            ...         ...               ...                       ...               ...                ...              ...             ...            ...                      ...                 ...\n",
              "16427  244918  confirmed     MPN           18/2022   2022-10-18                 cr           0.03145                             Ubit PP OML 67               of  2023-02-07 AB008             eqf   244918.0  4.2588889  8.0180556             AK  [{\"url\":\"data/attachments/t184351f52fd/NOSDRAF...     NaN    NaN          uy             NaN               NaN  2022-10-19  2022-10-19    2022-10-19                                                NaN  Gas bubbles release from test separator PSV\\nr...  2022-11-01       NaN        NaN            NaN                  NaN            NaN         NaN               NaN                       NaN               NaN                NaN              NaN             NaN            NaN                      NaN                 NaN\n",
              "16428  267279  confirmed     MPN         21 / 2022   2022-12-10             other:           0.00001                            Yoho PP OML 104               of  2023-02-07 AB008          other:   267279.0  4.0025000  7.4958333            NaN  [{\"url\":\"data/attachments/t18507ada1ca/NOSDRA ...     NaN    NaN          uy             NaN               NaN  2022-12-11  2022-12-11           NaN  other: Carried out further cleaning of skid to...                                                NaN  2022-12-22       NaN        NaN            NaN                  NaN            NaN         NaN               NaN                       NaN               NaN                NaN              NaN             NaN            NaN                      NaN                 NaN\n",
              "16429  267276  confirmed     MPN         19 / 2022   2022-11-02             other:           0.00013                                        NaN               of  2023-02-07 AB008  other: Erosion   267276.0  4.2706667  8.2255000             AK                                                 []     NaN    NaN          uy             NaN               NaN  2022-11-03  2022-11-03           NaN                        other: Mechanical Agitation                                                NaN  2022-11-15       NaN        NaN         other:                  NaN            NaN         NaN               NaN                       NaN               NaN                NaN              NaN             NaN            NaN                      NaN                 NaN\n",
              "16430  267277  confirmed     MPN         20 / 2022   2022-11-08  other: Oily Water           0.01022                            Yoho PP OML 104               of  2023-02-07 AB008          other:   267277.0  4.1572222  7.4925000             AK  [{\"url\":\"data/attachments/267277/NOSDRAFormA-Y...     NaN    NaN          uy             NaN               NaN  2022-11-09  2022-11-09           NaN  other: Oily water source, LP Separator produce...                                                NaN  2022-11-21       NaN        NaN            NaN                  NaN            NaN         NaN               NaN                       NaN               NaN                NaN              NaN             NaN            NaN                      NaN                 NaN\n",
              "16431  244916  confirmed     MPN           16/2022   2022-10-12                 re            0.0016                                  QIT/Ibeno              NaN  2023-02-07 AB008             eqf   244916.0  4.5415000  8.0080000             AK  [{\"url\":\"data/attachments/t184350a9878/NOSDRAF...     NaN  Ibeno          uy             NaN               NaN  2022-10-13  2022-10-13           NaN                                             other:                                                NaN  2022-10-26       NaN        NaN             tf                  NaN            NaN         NaN               NaN                       NaN               NaN                NaN              NaN             NaN            NaN                      NaN                 NaN\n",
              "\n",
              "[16432 rows x 42 columns]"
            ],
            "text/html": [
              "\n",
              "  <div id=\"df-f6c3f2c2-4b7c-46b5-b173-dcaf3f3127d2\">\n",
              "    <div class=\"colab-df-container\">\n",
              "      <div>\n",
              "<style scoped>\n",
              "    .dataframe tbody tr th:only-of-type {\n",
              "        vertical-align: middle;\n",
              "    }\n",
              "\n",
              "    .dataframe tbody tr th {\n",
              "        vertical-align: top;\n",
              "    }\n",
              "\n",
              "    .dataframe thead th {\n",
              "        text-align: right;\n",
              "    }\n",
              "</style>\n",
              "<table border=\"1\" class=\"dataframe\">\n",
              "  <thead>\n",
              "    <tr style=\"text-align: right;\">\n",
              "      <th></th>\n",
              "      <th>id</th>\n",
              "      <th>status</th>\n",
              "      <th>company</th>\n",
              "      <th>incidentnumber</th>\n",
              "      <th>incidentdate</th>\n",
              "      <th>contaminant</th>\n",
              "      <th>estimatedquantity</th>\n",
              "      <th>sitelocationname</th>\n",
              "      <th>spillareahabitat</th>\n",
              "      <th>lastupdatedby</th>\n",
              "      <th>cause</th>\n",
              "      <th>updatefor</th>\n",
              "      <th>latitude</th>\n",
              "      <th>longitude</th>\n",
              "      <th>statesaffected</th>\n",
              "      <th>attachments</th>\n",
              "      <th>jivdate</th>\n",
              "      <th>lga</th>\n",
              "      <th>zonaloffice</th>\n",
              "      <th>certificatedate</th>\n",
              "      <th>certificatenumber</th>\n",
              "      <th>formadate</th>\n",
              "      <th>reportdate</th>\n",
              "      <th>spillstopdate</th>\n",
              "      <th>initialcontainmentmeasures</th>\n",
              "      <th>descriptionofimpact</th>\n",
              "      <th>formbdate</th>\n",
              "      <th>formcdate</th>\n",
              "      <th>jivpresent</th>\n",
              "      <th>typeoffacility</th>\n",
              "      <th>cleanupcompleteddate</th>\n",
              "      <th>cleanupmethods</th>\n",
              "      <th>cleanupdate</th>\n",
              "      <th>quantityrecovered</th>\n",
              "      <th>postcleanupinspectiondate</th>\n",
              "      <th>finalsamplingdate</th>\n",
              "      <th>estimatedspillarea</th>\n",
              "      <th>remediationstart</th>\n",
              "      <th>remediationtype</th>\n",
              "      <th>remediationend</th>\n",
              "      <th>postimpactassessmentdate</th>\n",
              "      <th>finallabresultsdate</th>\n",
              "    </tr>\n",
              "  </thead>\n",
              "  <tbody>\n",
              "    <tr>\n",
              "      <th>0</th>\n",
              "      <td>2</td>\n",
              "      <td>confirmed</td>\n",
              "      <td>ADDAX</td>\n",
              "      <td>HSE/OBO/0611/101</td>\n",
              "      <td>2006-11-23</td>\n",
              "      <td>cr</td>\n",
              "      <td>225</td>\n",
              "      <td>Subsea Pipeline @ Mimbo Platform (OML123)</td>\n",
              "      <td>of</td>\n",
              "      <td>NOSDRA</td>\n",
              "      <td>NaN</td>\n",
              "      <td>NaN</td>\n",
              "      <td>NaN</td>\n",
              "      <td>NaN</td>\n",
              "      <td>NaN</td>\n",
              "      <td>NaN</td>\n",
              "      <td>NaN</td>\n",
              "      <td>NaN</td>\n",
              "      <td>NaN</td>\n",
              "      <td>NaN</td>\n",
              "      <td>NaN</td>\n",
              "      <td>NaN</td>\n",
              "      <td>NaN</td>\n",
              "      <td>NaN</td>\n",
              "      <td>NaN</td>\n",
              "      <td>NaN</td>\n",
              "      <td>NaN</td>\n",
              "      <td>NaN</td>\n",
              "      <td>NaN</td>\n",
              "      <td>NaN</td>\n",
              "      <td>NaN</td>\n",
              "      <td>NaN</td>\n",
              "      <td>NaN</td>\n",
              "      <td>NaN</td>\n",
              "      <td>NaN</td>\n",
              "      <td>NaN</td>\n",
              "      <td>NaN</td>\n",
              "      <td>NaN</td>\n",
              "      <td>NaN</td>\n",
              "      <td>NaN</td>\n",
              "      <td>NaN</td>\n",
              "      <td>NaN</td>\n",
              "    </tr>\n",
              "    <tr>\n",
              "      <th>1</th>\n",
              "      <td>3</td>\n",
              "      <td>confirmed</td>\n",
              "      <td>ADDAX</td>\n",
              "      <td>HSE/OBO/0612/108</td>\n",
              "      <td>2006-12-18</td>\n",
              "      <td>cr</td>\n",
              "      <td>0.5</td>\n",
              "      <td>EBNE04HT @ Ebughu Platform (OML 123)</td>\n",
              "      <td>of</td>\n",
              "      <td>NOSDRA</td>\n",
              "      <td>eqf</td>\n",
              "      <td>NaN</td>\n",
              "      <td>NaN</td>\n",
              "      <td>NaN</td>\n",
              "      <td>NaN</td>\n",
              "      <td>NaN</td>\n",
              "      <td>NaN</td>\n",
              "      <td>NaN</td>\n",
              "      <td>NaN</td>\n",
              "      <td>NaN</td>\n",
              "      <td>NaN</td>\n",
              "      <td>NaN</td>\n",
              "      <td>NaN</td>\n",
              "      <td>NaN</td>\n",
              "      <td>NaN</td>\n",
              "      <td>NaN</td>\n",
              "      <td>NaN</td>\n",
              "      <td>NaN</td>\n",
              "      <td>NaN</td>\n",
              "      <td>NaN</td>\n",
              "      <td>NaN</td>\n",
              "      <td>NaN</td>\n",
              "      <td>NaN</td>\n",
              "      <td>NaN</td>\n",
              "      <td>NaN</td>\n",
              "      <td>NaN</td>\n",
              "      <td>NaN</td>\n",
              "      <td>NaN</td>\n",
              "      <td>NaN</td>\n",
              "      <td>NaN</td>\n",
              "      <td>NaN</td>\n",
              "      <td>NaN</td>\n",
              "    </tr>\n",
              "    <tr>\n",
              "      <th>2</th>\n",
              "      <td>4</td>\n",
              "      <td>confirmed</td>\n",
              "      <td>ADDAX</td>\n",
              "      <td>HSE/OBO/0612/110</td>\n",
              "      <td>2006-12-27</td>\n",
              "      <td>cr</td>\n",
              "      <td>25</td>\n",
              "      <td>South East of BOGI Platform</td>\n",
              "      <td>of</td>\n",
              "      <td>NOSDRA</td>\n",
              "      <td>NaN</td>\n",
              "      <td>NaN</td>\n",
              "      <td>NaN</td>\n",
              "      <td>NaN</td>\n",
              "      <td>NaN</td>\n",
              "      <td>NaN</td>\n",
              "      <td>NaN</td>\n",
              "      <td>NaN</td>\n",
              "      <td>NaN</td>\n",
              "      <td>NaN</td>\n",
              "      <td>NaN</td>\n",
              "      <td>NaN</td>\n",
              "      <td>NaN</td>\n",
              "      <td>NaN</td>\n",
              "      <td>NaN</td>\n",
              "      <td>NaN</td>\n",
              "      <td>NaN</td>\n",
              "      <td>NaN</td>\n",
              "      <td>NaN</td>\n",
              "      <td>NaN</td>\n",
              "      <td>NaN</td>\n",
              "      <td>NaN</td>\n",
              "      <td>NaN</td>\n",
              "      <td>NaN</td>\n",
              "      <td>NaN</td>\n",
              "      <td>NaN</td>\n",
              "      <td>NaN</td>\n",
              "      <td>NaN</td>\n",
              "      <td>NaN</td>\n",
              "      <td>NaN</td>\n",
              "      <td>NaN</td>\n",
              "      <td>NaN</td>\n",
              "    </tr>\n",
              "    <tr>\n",
              "      <th>3</th>\n",
              "      <td>5</td>\n",
              "      <td>confirmed</td>\n",
              "      <td>ADDAX</td>\n",
              "      <td>HSE/OBO/0706/166</td>\n",
              "      <td>2007-05-14</td>\n",
              "      <td>cr</td>\n",
              "      <td>2</td>\n",
              "      <td>Adanga Platform</td>\n",
              "      <td>of</td>\n",
              "      <td>NOSDRA</td>\n",
              "      <td>NaN</td>\n",
              "      <td>NaN</td>\n",
              "      <td>NaN</td>\n",
              "      <td>NaN</td>\n",
              "      <td>NaN</td>\n",
              "      <td>NaN</td>\n",
              "      <td>NaN</td>\n",
              "      <td>NaN</td>\n",
              "      <td>NaN</td>\n",
              "      <td>NaN</td>\n",
              "      <td>NaN</td>\n",
              "      <td>NaN</td>\n",
              "      <td>NaN</td>\n",
              "      <td>NaN</td>\n",
              "      <td>NaN</td>\n",
              "      <td>NaN</td>\n",
              "      <td>NaN</td>\n",
              "      <td>NaN</td>\n",
              "      <td>NaN</td>\n",
              "      <td>NaN</td>\n",
              "      <td>NaN</td>\n",
              "      <td>NaN</td>\n",
              "      <td>NaN</td>\n",
              "      <td>NaN</td>\n",
              "      <td>NaN</td>\n",
              "      <td>NaN</td>\n",
              "      <td>NaN</td>\n",
              "      <td>NaN</td>\n",
              "      <td>NaN</td>\n",
              "      <td>NaN</td>\n",
              "      <td>NaN</td>\n",
              "      <td>NaN</td>\n",
              "    </tr>\n",
              "    <tr>\n",
              "      <th>4</th>\n",
              "      <td>6</td>\n",
              "      <td>confirmed</td>\n",
              "      <td>ADDAX</td>\n",
              "      <td>HSE/OBO/0708/201</td>\n",
              "      <td>2007-08-16</td>\n",
              "      <td>gs</td>\n",
              "      <td>NaN</td>\n",
              "      <td>Izombe Well #10LS 4\" Flowline</td>\n",
              "      <td>la</td>\n",
              "      <td>NOSDRA</td>\n",
              "      <td>NaN</td>\n",
              "      <td>NaN</td>\n",
              "      <td>NaN</td>\n",
              "      <td>NaN</td>\n",
              "      <td>NaN</td>\n",
              "      <td>NaN</td>\n",
              "      <td>NaN</td>\n",
              "      <td>NaN</td>\n",
              "      <td>NaN</td>\n",
              "      <td>NaN</td>\n",
              "      <td>NaN</td>\n",
              "      <td>NaN</td>\n",
              "      <td>NaN</td>\n",
              "      <td>NaN</td>\n",
              "      <td>NaN</td>\n",
              "      <td>NaN</td>\n",
              "      <td>NaN</td>\n",
              "      <td>NaN</td>\n",
              "      <td>NaN</td>\n",
              "      <td>NaN</td>\n",
              "      <td>NaN</td>\n",
              "      <td>NaN</td>\n",
              "      <td>NaN</td>\n",
              "      <td>NaN</td>\n",
              "      <td>NaN</td>\n",
              "      <td>NaN</td>\n",
              "      <td>NaN</td>\n",
              "      <td>NaN</td>\n",
              "      <td>NaN</td>\n",
              "      <td>NaN</td>\n",
              "      <td>NaN</td>\n",
              "      <td>NaN</td>\n",
              "    </tr>\n",
              "    <tr>\n",
              "      <th>...</th>\n",
              "      <td>...</td>\n",
              "      <td>...</td>\n",
              "      <td>...</td>\n",
              "      <td>...</td>\n",
              "      <td>...</td>\n",
              "      <td>...</td>\n",
              "      <td>...</td>\n",
              "      <td>...</td>\n",
              "      <td>...</td>\n",
              "      <td>...</td>\n",
              "      <td>...</td>\n",
              "      <td>...</td>\n",
              "      <td>...</td>\n",
              "      <td>...</td>\n",
              "      <td>...</td>\n",
              "      <td>...</td>\n",
              "      <td>...</td>\n",
              "      <td>...</td>\n",
              "      <td>...</td>\n",
              "      <td>...</td>\n",
              "      <td>...</td>\n",
              "      <td>...</td>\n",
              "      <td>...</td>\n",
              "      <td>...</td>\n",
              "      <td>...</td>\n",
              "      <td>...</td>\n",
              "      <td>...</td>\n",
              "      <td>...</td>\n",
              "      <td>...</td>\n",
              "      <td>...</td>\n",
              "      <td>...</td>\n",
              "      <td>...</td>\n",
              "      <td>...</td>\n",
              "      <td>...</td>\n",
              "      <td>...</td>\n",
              "      <td>...</td>\n",
              "      <td>...</td>\n",
              "      <td>...</td>\n",
              "      <td>...</td>\n",
              "      <td>...</td>\n",
              "      <td>...</td>\n",
              "      <td>...</td>\n",
              "    </tr>\n",
              "    <tr>\n",
              "      <th>16427</th>\n",
              "      <td>244918</td>\n",
              "      <td>confirmed</td>\n",
              "      <td>MPN</td>\n",
              "      <td>18/2022</td>\n",
              "      <td>2022-10-18</td>\n",
              "      <td>cr</td>\n",
              "      <td>0.03145</td>\n",
              "      <td>Ubit PP OML 67</td>\n",
              "      <td>of</td>\n",
              "      <td>2023-02-07 AB008</td>\n",
              "      <td>eqf</td>\n",
              "      <td>244918.0</td>\n",
              "      <td>4.2588889</td>\n",
              "      <td>8.0180556</td>\n",
              "      <td>AK</td>\n",
              "      <td>[{\"url\":\"data/attachments/t184351f52fd/NOSDRAF...</td>\n",
              "      <td>NaN</td>\n",
              "      <td>NaN</td>\n",
              "      <td>uy</td>\n",
              "      <td>NaN</td>\n",
              "      <td>NaN</td>\n",
              "      <td>2022-10-19</td>\n",
              "      <td>2022-10-19</td>\n",
              "      <td>2022-10-19</td>\n",
              "      <td>NaN</td>\n",
              "      <td>Gas bubbles release from test separator PSV\\nr...</td>\n",
              "      <td>2022-11-01</td>\n",
              "      <td>NaN</td>\n",
              "      <td>NaN</td>\n",
              "      <td>NaN</td>\n",
              "      <td>NaN</td>\n",
              "      <td>NaN</td>\n",
              "      <td>NaN</td>\n",
              "      <td>NaN</td>\n",
              "      <td>NaN</td>\n",
              "      <td>NaN</td>\n",
              "      <td>NaN</td>\n",
              "      <td>NaN</td>\n",
              "      <td>NaN</td>\n",
              "      <td>NaN</td>\n",
              "      <td>NaN</td>\n",
              "      <td>NaN</td>\n",
              "    </tr>\n",
              "    <tr>\n",
              "      <th>16428</th>\n",
              "      <td>267279</td>\n",
              "      <td>confirmed</td>\n",
              "      <td>MPN</td>\n",
              "      <td>21 / 2022</td>\n",
              "      <td>2022-12-10</td>\n",
              "      <td>other:</td>\n",
              "      <td>0.00001</td>\n",
              "      <td>Yoho PP OML 104</td>\n",
              "      <td>of</td>\n",
              "      <td>2023-02-07 AB008</td>\n",
              "      <td>other:</td>\n",
              "      <td>267279.0</td>\n",
              "      <td>4.0025000</td>\n",
              "      <td>7.4958333</td>\n",
              "      <td>NaN</td>\n",
              "      <td>[{\"url\":\"data/attachments/t18507ada1ca/NOSDRA ...</td>\n",
              "      <td>NaN</td>\n",
              "      <td>NaN</td>\n",
              "      <td>uy</td>\n",
              "      <td>NaN</td>\n",
              "      <td>NaN</td>\n",
              "      <td>2022-12-11</td>\n",
              "      <td>2022-12-11</td>\n",
              "      <td>NaN</td>\n",
              "      <td>other: Carried out further cleaning of skid to...</td>\n",
              "      <td>NaN</td>\n",
              "      <td>2022-12-22</td>\n",
              "      <td>NaN</td>\n",
              "      <td>NaN</td>\n",
              "      <td>NaN</td>\n",
              "      <td>NaN</td>\n",
              "      <td>NaN</td>\n",
              "      <td>NaN</td>\n",
              "      <td>NaN</td>\n",
              "      <td>NaN</td>\n",
              "      <td>NaN</td>\n",
              "      <td>NaN</td>\n",
              "      <td>NaN</td>\n",
              "      <td>NaN</td>\n",
              "      <td>NaN</td>\n",
              "      <td>NaN</td>\n",
              "      <td>NaN</td>\n",
              "    </tr>\n",
              "    <tr>\n",
              "      <th>16429</th>\n",
              "      <td>267276</td>\n",
              "      <td>confirmed</td>\n",
              "      <td>MPN</td>\n",
              "      <td>19 / 2022</td>\n",
              "      <td>2022-11-02</td>\n",
              "      <td>other:</td>\n",
              "      <td>0.00013</td>\n",
              "      <td>NaN</td>\n",
              "      <td>of</td>\n",
              "      <td>2023-02-07 AB008</td>\n",
              "      <td>other: Erosion</td>\n",
              "      <td>267276.0</td>\n",
              "      <td>4.2706667</td>\n",
              "      <td>8.2255000</td>\n",
              "      <td>AK</td>\n",
              "      <td>[]</td>\n",
              "      <td>NaN</td>\n",
              "      <td>NaN</td>\n",
              "      <td>uy</td>\n",
              "      <td>NaN</td>\n",
              "      <td>NaN</td>\n",
              "      <td>2022-11-03</td>\n",
              "      <td>2022-11-03</td>\n",
              "      <td>NaN</td>\n",
              "      <td>other: Mechanical Agitation</td>\n",
              "      <td>NaN</td>\n",
              "      <td>2022-11-15</td>\n",
              "      <td>NaN</td>\n",
              "      <td>NaN</td>\n",
              "      <td>other:</td>\n",
              "      <td>NaN</td>\n",
              "      <td>NaN</td>\n",
              "      <td>NaN</td>\n",
              "      <td>NaN</td>\n",
              "      <td>NaN</td>\n",
              "      <td>NaN</td>\n",
              "      <td>NaN</td>\n",
              "      <td>NaN</td>\n",
              "      <td>NaN</td>\n",
              "      <td>NaN</td>\n",
              "      <td>NaN</td>\n",
              "      <td>NaN</td>\n",
              "    </tr>\n",
              "    <tr>\n",
              "      <th>16430</th>\n",
              "      <td>267277</td>\n",
              "      <td>confirmed</td>\n",
              "      <td>MPN</td>\n",
              "      <td>20 / 2022</td>\n",
              "      <td>2022-11-08</td>\n",
              "      <td>other: Oily Water</td>\n",
              "      <td>0.01022</td>\n",
              "      <td>Yoho PP OML 104</td>\n",
              "      <td>of</td>\n",
              "      <td>2023-02-07 AB008</td>\n",
              "      <td>other:</td>\n",
              "      <td>267277.0</td>\n",
              "      <td>4.1572222</td>\n",
              "      <td>7.4925000</td>\n",
              "      <td>AK</td>\n",
              "      <td>[{\"url\":\"data/attachments/267277/NOSDRAFormA-Y...</td>\n",
              "      <td>NaN</td>\n",
              "      <td>NaN</td>\n",
              "      <td>uy</td>\n",
              "      <td>NaN</td>\n",
              "      <td>NaN</td>\n",
              "      <td>2022-11-09</td>\n",
              "      <td>2022-11-09</td>\n",
              "      <td>NaN</td>\n",
              "      <td>other: Oily water source, LP Separator produce...</td>\n",
              "      <td>NaN</td>\n",
              "      <td>2022-11-21</td>\n",
              "      <td>NaN</td>\n",
              "      <td>NaN</td>\n",
              "      <td>NaN</td>\n",
              "      <td>NaN</td>\n",
              "      <td>NaN</td>\n",
              "      <td>NaN</td>\n",
              "      <td>NaN</td>\n",
              "      <td>NaN</td>\n",
              "      <td>NaN</td>\n",
              "      <td>NaN</td>\n",
              "      <td>NaN</td>\n",
              "      <td>NaN</td>\n",
              "      <td>NaN</td>\n",
              "      <td>NaN</td>\n",
              "      <td>NaN</td>\n",
              "    </tr>\n",
              "    <tr>\n",
              "      <th>16431</th>\n",
              "      <td>244916</td>\n",
              "      <td>confirmed</td>\n",
              "      <td>MPN</td>\n",
              "      <td>16/2022</td>\n",
              "      <td>2022-10-12</td>\n",
              "      <td>re</td>\n",
              "      <td>0.0016</td>\n",
              "      <td>QIT/Ibeno</td>\n",
              "      <td>NaN</td>\n",
              "      <td>2023-02-07 AB008</td>\n",
              "      <td>eqf</td>\n",
              "      <td>244916.0</td>\n",
              "      <td>4.5415000</td>\n",
              "      <td>8.0080000</td>\n",
              "      <td>AK</td>\n",
              "      <td>[{\"url\":\"data/attachments/t184350a9878/NOSDRAF...</td>\n",
              "      <td>NaN</td>\n",
              "      <td>Ibeno</td>\n",
              "      <td>uy</td>\n",
              "      <td>NaN</td>\n",
              "      <td>NaN</td>\n",
              "      <td>2022-10-13</td>\n",
              "      <td>2022-10-13</td>\n",
              "      <td>NaN</td>\n",
              "      <td>other:</td>\n",
              "      <td>NaN</td>\n",
              "      <td>2022-10-26</td>\n",
              "      <td>NaN</td>\n",
              "      <td>NaN</td>\n",
              "      <td>tf</td>\n",
              "      <td>NaN</td>\n",
              "      <td>NaN</td>\n",
              "      <td>NaN</td>\n",
              "      <td>NaN</td>\n",
              "      <td>NaN</td>\n",
              "      <td>NaN</td>\n",
              "      <td>NaN</td>\n",
              "      <td>NaN</td>\n",
              "      <td>NaN</td>\n",
              "      <td>NaN</td>\n",
              "      <td>NaN</td>\n",
              "      <td>NaN</td>\n",
              "    </tr>\n",
              "  </tbody>\n",
              "</table>\n",
              "<p>16432 rows × 42 columns</p>\n",
              "</div>\n",
              "      <button class=\"colab-df-convert\" onclick=\"convertToInteractive('df-f6c3f2c2-4b7c-46b5-b173-dcaf3f3127d2')\"\n",
              "              title=\"Convert this dataframe to an interactive table.\"\n",
              "              style=\"display:none;\">\n",
              "        \n",
              "  <svg xmlns=\"http://www.w3.org/2000/svg\" height=\"24px\"viewBox=\"0 0 24 24\"\n",
              "       width=\"24px\">\n",
              "    <path d=\"M0 0h24v24H0V0z\" fill=\"none\"/>\n",
              "    <path d=\"M18.56 5.44l.94 2.06.94-2.06 2.06-.94-2.06-.94-.94-2.06-.94 2.06-2.06.94zm-11 1L8.5 8.5l.94-2.06 2.06-.94-2.06-.94L8.5 2.5l-.94 2.06-2.06.94zm10 10l.94 2.06.94-2.06 2.06-.94-2.06-.94-.94-2.06-.94 2.06-2.06.94z\"/><path d=\"M17.41 7.96l-1.37-1.37c-.4-.4-.92-.59-1.43-.59-.52 0-1.04.2-1.43.59L10.3 9.45l-7.72 7.72c-.78.78-.78 2.05 0 2.83L4 21.41c.39.39.9.59 1.41.59.51 0 1.02-.2 1.41-.59l7.78-7.78 2.81-2.81c.8-.78.8-2.07 0-2.86zM5.41 20L4 18.59l7.72-7.72 1.47 1.35L5.41 20z\"/>\n",
              "  </svg>\n",
              "      </button>\n",
              "      \n",
              "  <style>\n",
              "    .colab-df-container {\n",
              "      display:flex;\n",
              "      flex-wrap:wrap;\n",
              "      gap: 12px;\n",
              "    }\n",
              "\n",
              "    .colab-df-convert {\n",
              "      background-color: #E8F0FE;\n",
              "      border: none;\n",
              "      border-radius: 50%;\n",
              "      cursor: pointer;\n",
              "      display: none;\n",
              "      fill: #1967D2;\n",
              "      height: 32px;\n",
              "      padding: 0 0 0 0;\n",
              "      width: 32px;\n",
              "    }\n",
              "\n",
              "    .colab-df-convert:hover {\n",
              "      background-color: #E2EBFA;\n",
              "      box-shadow: 0px 1px 2px rgba(60, 64, 67, 0.3), 0px 1px 3px 1px rgba(60, 64, 67, 0.15);\n",
              "      fill: #174EA6;\n",
              "    }\n",
              "\n",
              "    [theme=dark] .colab-df-convert {\n",
              "      background-color: #3B4455;\n",
              "      fill: #D2E3FC;\n",
              "    }\n",
              "\n",
              "    [theme=dark] .colab-df-convert:hover {\n",
              "      background-color: #434B5C;\n",
              "      box-shadow: 0px 1px 3px 1px rgba(0, 0, 0, 0.15);\n",
              "      filter: drop-shadow(0px 1px 2px rgba(0, 0, 0, 0.3));\n",
              "      fill: #FFFFFF;\n",
              "    }\n",
              "  </style>\n",
              "\n",
              "      <script>\n",
              "        const buttonEl =\n",
              "          document.querySelector('#df-f6c3f2c2-4b7c-46b5-b173-dcaf3f3127d2 button.colab-df-convert');\n",
              "        buttonEl.style.display =\n",
              "          google.colab.kernel.accessAllowed ? 'block' : 'none';\n",
              "\n",
              "        async function convertToInteractive(key) {\n",
              "          const element = document.querySelector('#df-f6c3f2c2-4b7c-46b5-b173-dcaf3f3127d2');\n",
              "          const dataTable =\n",
              "            await google.colab.kernel.invokeFunction('convertToInteractive',\n",
              "                                                     [key], {});\n",
              "          if (!dataTable) return;\n",
              "\n",
              "          const docLinkHtml = 'Like what you see? Visit the ' +\n",
              "            '<a target=\"_blank\" href=https://colab.research.google.com/notebooks/data_table.ipynb>data table notebook</a>'\n",
              "            + ' to learn more about interactive tables.';\n",
              "          element.innerHTML = '';\n",
              "          dataTable['output_type'] = 'display_data';\n",
              "          await google.colab.output.renderOutput(dataTable, element);\n",
              "          const docLink = document.createElement('div');\n",
              "          docLink.innerHTML = docLinkHtml;\n",
              "          element.appendChild(docLink);\n",
              "        }\n",
              "      </script>\n",
              "    </div>\n",
              "  </div>\n",
              "  "
            ]
          },
          "metadata": {},
          "execution_count": 37
        }
      ]
    },
    {
      "cell_type": "code",
      "source": [
        "df1 = df0.loc[df0['status'].isin(['confirmed', 'reviewed'])]"
      ],
      "metadata": {
        "id": "wLdrxBCKd8ri"
      },
      "execution_count": null,
      "outputs": []
    },
    {
      "cell_type": "code",
      "source": [
        "#df1['incidentdate'].value_counts()"
      ],
      "metadata": {
        "id": "cZFO3yccWp6E"
      },
      "execution_count": null,
      "outputs": []
    },
    {
      "cell_type": "code",
      "source": [
        "df1.replace(to_replace='20014-07-08', value='2014-07-08',inplace=True)  # Replaces a typograpical error\n",
        "df1.replace(to_replace='2016-01-13 AB008', value='2016-01-13',inplace=True)\n",
        "df1.replace(to_replace='2016-04-14 AB014', value='2016-01-13',inplace=True)\n",
        "df1.replace(to_replace='2019-08-19 PH133', value='2019-08-19',inplace=True)\n",
        "df1.replace(to_replace='2019-08-19 PH133, 2020-12-15 PH030, 2021-09-17 PH012, 2021-09-20 PH012, 2021-10-31 PH012', value='2019-08-19',inplace=True)"
      ],
      "metadata": {
        "colab": {
          "base_uri": "https://localhost:8080/"
        },
        "id": "NIkB7WLZmkKp",
        "outputId": "2d24331f-eee6-4785-c9aa-91bc74ccf689"
      },
      "execution_count": null,
      "outputs": [
        {
          "output_type": "stream",
          "name": "stderr",
          "text": [
            "/usr/local/lib/python3.8/dist-packages/pandas/core/frame.py:5238: SettingWithCopyWarning: \n",
            "A value is trying to be set on a copy of a slice from a DataFrame\n",
            "\n",
            "See the caveats in the documentation: https://pandas.pydata.org/pandas-docs/stable/user_guide/indexing.html#returning-a-view-versus-a-copy\n",
            "  return super().replace(\n"
          ]
        }
      ]
    },
    {
      "cell_type": "code",
      "source": [
        "df1.incidentdate.isna().sum()"
      ],
      "metadata": {
        "colab": {
          "base_uri": "https://localhost:8080/"
        },
        "id": "boOHoTqJmyhd",
        "outputId": "233d8292-3cf3-4845-c8de-b77c86f136de"
      },
      "execution_count": null,
      "outputs": [
        {
          "output_type": "execute_result",
          "data": {
            "text/plain": [
              "590"
            ]
          },
          "metadata": {},
          "execution_count": 41
        }
      ]
    },
    {
      "cell_type": "code",
      "source": [
        "df1.loc[pd.isnull(df1['incidentdate']), 'incidentdate'] = df1.reportdate\n",
        "df1.loc[pd.isnull(df1['incidentdate']), 'incidentdate'] = df1.formadate\n",
        "df1.loc[pd.isnull(df1['incidentdate']), 'incidentdate'] = df1.jivdate\n",
        "df1.loc[pd.isnull(df1['incidentdate']), 'incidentdate'] = df1.lastupdatedby"
      ],
      "metadata": {
        "colab": {
          "base_uri": "https://localhost:8080/"
        },
        "id": "PBfAcNrpnBLq",
        "outputId": "e957cb9d-3dda-4083-9d40-9023e21a26e7"
      },
      "execution_count": null,
      "outputs": [
        {
          "output_type": "stream",
          "name": "stderr",
          "text": [
            "/usr/local/lib/python3.8/dist-packages/pandas/core/indexing.py:1773: SettingWithCopyWarning: \n",
            "A value is trying to be set on a copy of a slice from a DataFrame.\n",
            "Try using .loc[row_indexer,col_indexer] = value instead\n",
            "\n",
            "See the caveats in the documentation: https://pandas.pydata.org/pandas-docs/stable/user_guide/indexing.html#returning-a-view-versus-a-copy\n",
            "  self._setitem_single_column(ilocs[0], value, pi)\n"
          ]
        }
      ]
    },
    {
      "cell_type": "code",
      "source": [
        "df1.incidentdate.isna().sum()"
      ],
      "metadata": {
        "colab": {
          "base_uri": "https://localhost:8080/"
        },
        "id": "mONCBfX8nKvn",
        "outputId": "a5581a96-a1e3-4d44-a27f-43bf666bf332"
      },
      "execution_count": null,
      "outputs": [
        {
          "output_type": "execute_result",
          "data": {
            "text/plain": [
              "0"
            ]
          },
          "metadata": {},
          "execution_count": 43
        }
      ]
    },
    {
      "cell_type": "code",
      "source": [
        "df1['contaminant'] = df1['contaminant'].fillna('notavailable')\n",
        "df1.loc[df1['contaminant'].str.startswith('other'), 'contaminant'] = 'other'\n",
        "df1.loc[df1['contaminant'].str.startswith('oth'), 'contaminant'] = 'other'\n",
        "df1.loc[df1['contaminant'].str.startswith('re'), 'contaminant'] = 're'\n",
        "df1.loc[df1['contaminant'].str.startswith('Die'), 'contaminant'] = 're'\n",
        "df1.loc[df1['contaminant'].str.startswith('not'), 'contaminant'] = 'na'\n",
        "df1.loc[df1['contaminant'].str.startswith('Con'), 'contaminant'] = 'co'\n",
        "df1.loc[df1['contaminant'].str.startswith('CON'), 'contaminant'] = 'co'\n",
        "df1.loc[df1['contaminant'].str.startswith('co'), 'contaminant'] = 'co'\n",
        "df1.loc[df1['contaminant'].str.startswith('NIL'), 'contaminant'] = 'na'\n",
        "df1.loc[df1['contaminant'].str.startswith('LPFO'), 'contaminant'] = 're'\n",
        "df1.loc[df1['contaminant'].str.startswith('Pro'), 'contaminant'] = 'other'\n",
        "df1.loc[df1['contaminant'].str.startswith('sheen'), 'contaminant'] = 'other'\n",
        "df1.loc[df1['contaminant'].str.startswith('Ass'), 'contaminant'] = 'other'\n",
        "df1.loc[df1['contaminant'].str.startswith('gas'), 'contaminant'] = 'ga'\n",
        "df1.loc[df1['contaminant'].str.startswith('wa'), 'contaminant'] = 'na'\n",
        "df1.loc[df1['contaminant'].str.startswith('F'), 'contaminant'] = 'na'\n",
        "df1.loc[df1['contaminant'].str.startswith('0'), 'contaminant'] = 'na'\n",
        "df1.loc[df1['contaminant'].str.startswith('gs'), 'contaminant'] = 'ga'\n",
        "df1.loc[df1['contaminant'].str.startswith('Crude'), 'contaminant'] = 'cr'\n",
        "df1.loc[df1['contaminant'].str.startswith('crude'), 'contaminant'] = 'cr'"
      ],
      "metadata": {
        "colab": {
          "base_uri": "https://localhost:8080/"
        },
        "id": "lECQ9MAqnNF4",
        "outputId": "b089a720-5011-4f56-fd73-d7d6be76b1d6"
      },
      "execution_count": null,
      "outputs": [
        {
          "output_type": "stream",
          "name": "stderr",
          "text": [
            "<ipython-input-44-25e6b16a420f>:1: SettingWithCopyWarning: \n",
            "A value is trying to be set on a copy of a slice from a DataFrame.\n",
            "Try using .loc[row_indexer,col_indexer] = value instead\n",
            "\n",
            "See the caveats in the documentation: https://pandas.pydata.org/pandas-docs/stable/user_guide/indexing.html#returning-a-view-versus-a-copy\n",
            "  df1['contaminant'] = df1['contaminant'].fillna('notavailable')\n",
            "/usr/local/lib/python3.8/dist-packages/pandas/core/indexing.py:1817: SettingWithCopyWarning: \n",
            "A value is trying to be set on a copy of a slice from a DataFrame.\n",
            "Try using .loc[row_indexer,col_indexer] = value instead\n",
            "\n",
            "See the caveats in the documentation: https://pandas.pydata.org/pandas-docs/stable/user_guide/indexing.html#returning-a-view-versus-a-copy\n",
            "  self._setitem_single_column(loc, value, pi)\n"
          ]
        }
      ]
    },
    {
      "cell_type": "code",
      "source": [
        "df1.loc[df1['contaminant'].str.startswith('GAS'), 'contaminant'] = 'ga'\n",
        "df1.loc[df1['contaminant'].str.startswith('None'), 'contaminant'] = 'no'"
      ],
      "metadata": {
        "id": "lUDctcd3pOwk"
      },
      "execution_count": null,
      "outputs": []
    },
    {
      "cell_type": "code",
      "source": [
        "df1.contaminant.unique()"
      ],
      "metadata": {
        "colab": {
          "base_uri": "https://localhost:8080/"
        },
        "id": "KwQYiCTCp6SH",
        "outputId": "3e33c4dc-7d9e-47e3-c1d2-f06479b9e76e"
      },
      "execution_count": null,
      "outputs": [
        {
          "output_type": "execute_result",
          "data": {
            "text/plain": [
              "array(['cr', 'ga', 'other', 'na', 'ch', 're', ' ', 'co', 'no',\n",
              "       'Non-Leaking', 'Non leaking'], dtype=object)"
            ]
          },
          "metadata": {},
          "execution_count": 46
        }
      ]
    },
    {
      "cell_type": "code",
      "source": [
        "df2 = df1.loc[df1['contaminant'].isin(['cr', 're', 'co', 'ch'])]"
      ],
      "metadata": {
        "id": "qGN_g-RhtIkL"
      },
      "execution_count": null,
      "outputs": []
    },
    {
      "cell_type": "code",
      "source": [
        "df2.estimatedquantity.isna().sum()"
      ],
      "metadata": {
        "colab": {
          "base_uri": "https://localhost:8080/"
        },
        "id": "JBiJA91PtQPf",
        "outputId": "0a2a50d5-931d-471b-f69a-df55a567f70d"
      },
      "execution_count": null,
      "outputs": [
        {
          "output_type": "execute_result",
          "data": {
            "text/plain": [
              "2340"
            ]
          },
          "metadata": {},
          "execution_count": 48
        }
      ]
    },
    {
      "cell_type": "code",
      "source": [
        "df2.loc[df2['estimatedquantity'].str.startswith('0', na=False), 'estimatedquantity'] = df2['estimatedquantity'].replace(',', '.',  regex=True)\n",
        "df2['estimatedquantity'] = df2['estimatedquantity'].replace(',', '',  regex=True)\n",
        "df2['estimatedquantity'] = df2['estimatedquantity'].str.replace('bbl', '')\n",
        "df2['estimatedquantity'] = df2['estimatedquantity'].str.replace('BBL', '')\n",
        "df2['estimatedquantity'] = df2['estimatedquantity'].str.replace('Bbl', '')\n",
        "df2['estimatedquantity'] = df2['estimatedquantity'].str.replace('Barrel', '')\n",
        "df2['estimatedquantity'] = df2['estimatedquantity'].str.replace('BARREL', '')\n",
        "df2['estimatedquantity'] = df2['estimatedquantity'].str.replace('bblS', '')\n",
        "df2['estimatedquantity'] = df2['estimatedquantity'].str.replace('BBLS', '')\n",
        "df2['estimatedquantity'] = df2['estimatedquantity'].str.replace('barrels', '')\n",
        "df2['estimatedquantity'] = df2['estimatedquantity'].str.replace('Barrels', '')\n",
        "df2['estimatedquantity'] = df2['estimatedquantity'].str.replace('I', '1')"
      ],
      "metadata": {
        "colab": {
          "base_uri": "https://localhost:8080/"
        },
        "id": "-hSBrqCktaVS",
        "outputId": "6e75990f-41e8-44cf-dfb5-e622d8769b9a"
      },
      "execution_count": null,
      "outputs": [
        {
          "output_type": "stream",
          "name": "stderr",
          "text": [
            "<ipython-input-49-bf50b7c2b421>:2: SettingWithCopyWarning: \n",
            "A value is trying to be set on a copy of a slice from a DataFrame.\n",
            "Try using .loc[row_indexer,col_indexer] = value instead\n",
            "\n",
            "See the caveats in the documentation: https://pandas.pydata.org/pandas-docs/stable/user_guide/indexing.html#returning-a-view-versus-a-copy\n",
            "  df2['estimatedquantity'] = df2['estimatedquantity'].replace(',', '',  regex=True)\n",
            "<ipython-input-49-bf50b7c2b421>:3: SettingWithCopyWarning: \n",
            "A value is trying to be set on a copy of a slice from a DataFrame.\n",
            "Try using .loc[row_indexer,col_indexer] = value instead\n",
            "\n",
            "See the caveats in the documentation: https://pandas.pydata.org/pandas-docs/stable/user_guide/indexing.html#returning-a-view-versus-a-copy\n",
            "  df2['estimatedquantity'] = df2['estimatedquantity'].str.replace('bbl', '')\n",
            "<ipython-input-49-bf50b7c2b421>:4: SettingWithCopyWarning: \n",
            "A value is trying to be set on a copy of a slice from a DataFrame.\n",
            "Try using .loc[row_indexer,col_indexer] = value instead\n",
            "\n",
            "See the caveats in the documentation: https://pandas.pydata.org/pandas-docs/stable/user_guide/indexing.html#returning-a-view-versus-a-copy\n",
            "  df2['estimatedquantity'] = df2['estimatedquantity'].str.replace('BBL', '')\n",
            "<ipython-input-49-bf50b7c2b421>:5: SettingWithCopyWarning: \n",
            "A value is trying to be set on a copy of a slice from a DataFrame.\n",
            "Try using .loc[row_indexer,col_indexer] = value instead\n",
            "\n",
            "See the caveats in the documentation: https://pandas.pydata.org/pandas-docs/stable/user_guide/indexing.html#returning-a-view-versus-a-copy\n",
            "  df2['estimatedquantity'] = df2['estimatedquantity'].str.replace('Bbl', '')\n",
            "<ipython-input-49-bf50b7c2b421>:6: SettingWithCopyWarning: \n",
            "A value is trying to be set on a copy of a slice from a DataFrame.\n",
            "Try using .loc[row_indexer,col_indexer] = value instead\n",
            "\n",
            "See the caveats in the documentation: https://pandas.pydata.org/pandas-docs/stable/user_guide/indexing.html#returning-a-view-versus-a-copy\n",
            "  df2['estimatedquantity'] = df2['estimatedquantity'].str.replace('Barrel', '')\n",
            "<ipython-input-49-bf50b7c2b421>:7: SettingWithCopyWarning: \n",
            "A value is trying to be set on a copy of a slice from a DataFrame.\n",
            "Try using .loc[row_indexer,col_indexer] = value instead\n",
            "\n",
            "See the caveats in the documentation: https://pandas.pydata.org/pandas-docs/stable/user_guide/indexing.html#returning-a-view-versus-a-copy\n",
            "  df2['estimatedquantity'] = df2['estimatedquantity'].str.replace('BARREL', '')\n",
            "<ipython-input-49-bf50b7c2b421>:8: SettingWithCopyWarning: \n",
            "A value is trying to be set on a copy of a slice from a DataFrame.\n",
            "Try using .loc[row_indexer,col_indexer] = value instead\n",
            "\n",
            "See the caveats in the documentation: https://pandas.pydata.org/pandas-docs/stable/user_guide/indexing.html#returning-a-view-versus-a-copy\n",
            "  df2['estimatedquantity'] = df2['estimatedquantity'].str.replace('bblS', '')\n",
            "<ipython-input-49-bf50b7c2b421>:9: SettingWithCopyWarning: \n",
            "A value is trying to be set on a copy of a slice from a DataFrame.\n",
            "Try using .loc[row_indexer,col_indexer] = value instead\n",
            "\n",
            "See the caveats in the documentation: https://pandas.pydata.org/pandas-docs/stable/user_guide/indexing.html#returning-a-view-versus-a-copy\n",
            "  df2['estimatedquantity'] = df2['estimatedquantity'].str.replace('BBLS', '')\n",
            "<ipython-input-49-bf50b7c2b421>:10: SettingWithCopyWarning: \n",
            "A value is trying to be set on a copy of a slice from a DataFrame.\n",
            "Try using .loc[row_indexer,col_indexer] = value instead\n",
            "\n",
            "See the caveats in the documentation: https://pandas.pydata.org/pandas-docs/stable/user_guide/indexing.html#returning-a-view-versus-a-copy\n",
            "  df2['estimatedquantity'] = df2['estimatedquantity'].str.replace('barrels', '')\n",
            "<ipython-input-49-bf50b7c2b421>:11: SettingWithCopyWarning: \n",
            "A value is trying to be set on a copy of a slice from a DataFrame.\n",
            "Try using .loc[row_indexer,col_indexer] = value instead\n",
            "\n",
            "See the caveats in the documentation: https://pandas.pydata.org/pandas-docs/stable/user_guide/indexing.html#returning-a-view-versus-a-copy\n",
            "  df2['estimatedquantity'] = df2['estimatedquantity'].str.replace('Barrels', '')\n",
            "<ipython-input-49-bf50b7c2b421>:12: SettingWithCopyWarning: \n",
            "A value is trying to be set on a copy of a slice from a DataFrame.\n",
            "Try using .loc[row_indexer,col_indexer] = value instead\n",
            "\n",
            "See the caveats in the documentation: https://pandas.pydata.org/pandas-docs/stable/user_guide/indexing.html#returning-a-view-versus-a-copy\n",
            "  df2['estimatedquantity'] = df2['estimatedquantity'].str.replace('I', '1')\n"
          ]
        }
      ]
    },
    {
      "cell_type": "code",
      "source": [
        "df2.loc[df2['estimatedquantity'].str.startswith('0', na=False), 'estimatedquantity'] = df2['estimatedquantity'].replace(',', '.',  regex=True)\n",
        "df2['estimatedquantity'] = df2['estimatedquantity'].replace(',', '',  regex=True)\n",
        "df2['estimatedquantity'] = df2['estimatedquantity'].str.replace('bbl', '')\n",
        "df2['estimatedquantity'] = df2['estimatedquantity'].str.replace('BBL', '')\n",
        "df2['estimatedquantity'] = df2['estimatedquantity'].str.replace('Bbl', '')\n",
        "df2['estimatedquantity'] = df2['estimatedquantity'].str.replace('Barrel', '')\n",
        "df2['estimatedquantity'] = df2['estimatedquantity'].str.replace('BARREL', '')\n",
        "df2['estimatedquantity'] = df2['estimatedquantity'].str.replace('bblS', '')\n",
        "df2['estimatedquantity'] = df2['estimatedquantity'].str.replace('BBLS', '')\n",
        "df2['estimatedquantity'] = df2['estimatedquantity'].str.replace('barrels', '')\n",
        "df2['estimatedquantity'] = df2['estimatedquantity'].str.replace('Barrels', '')\n",
        "df2['estimatedquantity'] = df2['estimatedquantity'].str.replace('I', '1')"
      ],
      "metadata": {
        "colab": {
          "base_uri": "https://localhost:8080/"
        },
        "id": "agGHaPh0rsYP",
        "outputId": "2e73884d-a1ec-4cb5-bee8-5449852d5801"
      },
      "execution_count": null,
      "outputs": [
        {
          "output_type": "stream",
          "name": "stderr",
          "text": [
            "<ipython-input-50-bf50b7c2b421>:2: SettingWithCopyWarning: \n",
            "A value is trying to be set on a copy of a slice from a DataFrame.\n",
            "Try using .loc[row_indexer,col_indexer] = value instead\n",
            "\n",
            "See the caveats in the documentation: https://pandas.pydata.org/pandas-docs/stable/user_guide/indexing.html#returning-a-view-versus-a-copy\n",
            "  df2['estimatedquantity'] = df2['estimatedquantity'].replace(',', '',  regex=True)\n",
            "<ipython-input-50-bf50b7c2b421>:3: SettingWithCopyWarning: \n",
            "A value is trying to be set on a copy of a slice from a DataFrame.\n",
            "Try using .loc[row_indexer,col_indexer] = value instead\n",
            "\n",
            "See the caveats in the documentation: https://pandas.pydata.org/pandas-docs/stable/user_guide/indexing.html#returning-a-view-versus-a-copy\n",
            "  df2['estimatedquantity'] = df2['estimatedquantity'].str.replace('bbl', '')\n",
            "<ipython-input-50-bf50b7c2b421>:4: SettingWithCopyWarning: \n",
            "A value is trying to be set on a copy of a slice from a DataFrame.\n",
            "Try using .loc[row_indexer,col_indexer] = value instead\n",
            "\n",
            "See the caveats in the documentation: https://pandas.pydata.org/pandas-docs/stable/user_guide/indexing.html#returning-a-view-versus-a-copy\n",
            "  df2['estimatedquantity'] = df2['estimatedquantity'].str.replace('BBL', '')\n",
            "<ipython-input-50-bf50b7c2b421>:5: SettingWithCopyWarning: \n",
            "A value is trying to be set on a copy of a slice from a DataFrame.\n",
            "Try using .loc[row_indexer,col_indexer] = value instead\n",
            "\n",
            "See the caveats in the documentation: https://pandas.pydata.org/pandas-docs/stable/user_guide/indexing.html#returning-a-view-versus-a-copy\n",
            "  df2['estimatedquantity'] = df2['estimatedquantity'].str.replace('Bbl', '')\n",
            "<ipython-input-50-bf50b7c2b421>:6: SettingWithCopyWarning: \n",
            "A value is trying to be set on a copy of a slice from a DataFrame.\n",
            "Try using .loc[row_indexer,col_indexer] = value instead\n",
            "\n",
            "See the caveats in the documentation: https://pandas.pydata.org/pandas-docs/stable/user_guide/indexing.html#returning-a-view-versus-a-copy\n",
            "  df2['estimatedquantity'] = df2['estimatedquantity'].str.replace('Barrel', '')\n",
            "<ipython-input-50-bf50b7c2b421>:7: SettingWithCopyWarning: \n",
            "A value is trying to be set on a copy of a slice from a DataFrame.\n",
            "Try using .loc[row_indexer,col_indexer] = value instead\n",
            "\n",
            "See the caveats in the documentation: https://pandas.pydata.org/pandas-docs/stable/user_guide/indexing.html#returning-a-view-versus-a-copy\n",
            "  df2['estimatedquantity'] = df2['estimatedquantity'].str.replace('BARREL', '')\n",
            "<ipython-input-50-bf50b7c2b421>:8: SettingWithCopyWarning: \n",
            "A value is trying to be set on a copy of a slice from a DataFrame.\n",
            "Try using .loc[row_indexer,col_indexer] = value instead\n",
            "\n",
            "See the caveats in the documentation: https://pandas.pydata.org/pandas-docs/stable/user_guide/indexing.html#returning-a-view-versus-a-copy\n",
            "  df2['estimatedquantity'] = df2['estimatedquantity'].str.replace('bblS', '')\n",
            "<ipython-input-50-bf50b7c2b421>:9: SettingWithCopyWarning: \n",
            "A value is trying to be set on a copy of a slice from a DataFrame.\n",
            "Try using .loc[row_indexer,col_indexer] = value instead\n",
            "\n",
            "See the caveats in the documentation: https://pandas.pydata.org/pandas-docs/stable/user_guide/indexing.html#returning-a-view-versus-a-copy\n",
            "  df2['estimatedquantity'] = df2['estimatedquantity'].str.replace('BBLS', '')\n",
            "<ipython-input-50-bf50b7c2b421>:10: SettingWithCopyWarning: \n",
            "A value is trying to be set on a copy of a slice from a DataFrame.\n",
            "Try using .loc[row_indexer,col_indexer] = value instead\n",
            "\n",
            "See the caveats in the documentation: https://pandas.pydata.org/pandas-docs/stable/user_guide/indexing.html#returning-a-view-versus-a-copy\n",
            "  df2['estimatedquantity'] = df2['estimatedquantity'].str.replace('barrels', '')\n",
            "<ipython-input-50-bf50b7c2b421>:11: SettingWithCopyWarning: \n",
            "A value is trying to be set on a copy of a slice from a DataFrame.\n",
            "Try using .loc[row_indexer,col_indexer] = value instead\n",
            "\n",
            "See the caveats in the documentation: https://pandas.pydata.org/pandas-docs/stable/user_guide/indexing.html#returning-a-view-versus-a-copy\n",
            "  df2['estimatedquantity'] = df2['estimatedquantity'].str.replace('Barrels', '')\n",
            "<ipython-input-50-bf50b7c2b421>:12: SettingWithCopyWarning: \n",
            "A value is trying to be set on a copy of a slice from a DataFrame.\n",
            "Try using .loc[row_indexer,col_indexer] = value instead\n",
            "\n",
            "See the caveats in the documentation: https://pandas.pydata.org/pandas-docs/stable/user_guide/indexing.html#returning-a-view-versus-a-copy\n",
            "  df2['estimatedquantity'] = df2['estimatedquantity'].str.replace('I', '1')\n"
          ]
        }
      ]
    },
    {
      "cell_type": "code",
      "source": [
        "df3 = df2.loc[(df2['incidentdate'] > '2015-12-31') & (df2['incidentdate'] < '2023-01-01')]"
      ],
      "metadata": {
        "id": "l_jN0i2et83G"
      },
      "execution_count": null,
      "outputs": []
    },
    {
      "cell_type": "code",
      "source": [
        "df3['incidentdate'] = pd.DatetimeIndex(df3['incidentdate'])"
      ],
      "metadata": {
        "colab": {
          "base_uri": "https://localhost:8080/"
        },
        "id": "TFB3mAWo0WKO",
        "outputId": "ab3d9c80-34e3-42c6-e729-aab69c7c95b6"
      },
      "execution_count": null,
      "outputs": [
        {
          "output_type": "stream",
          "name": "stderr",
          "text": [
            "<ipython-input-52-3ce1f0b5bdb3>:1: SettingWithCopyWarning: \n",
            "A value is trying to be set on a copy of a slice from a DataFrame.\n",
            "Try using .loc[row_indexer,col_indexer] = value instead\n",
            "\n",
            "See the caveats in the documentation: https://pandas.pydata.org/pandas-docs/stable/user_guide/indexing.html#returning-a-view-versus-a-copy\n",
            "  df3['incidentdate'] = pd.DatetimeIndex(df3['incidentdate'])\n"
          ]
        }
      ]
    },
    {
      "cell_type": "code",
      "source": [
        "df3.estimatedquantity = pd.to_numeric(df3.estimatedquantity, errors = 'coerce')"
      ],
      "metadata": {
        "colab": {
          "base_uri": "https://localhost:8080/"
        },
        "id": "igN7epETeRKq",
        "outputId": "e75b0050-7c16-4051-97cb-f6b26f969be8"
      },
      "execution_count": null,
      "outputs": [
        {
          "output_type": "stream",
          "name": "stderr",
          "text": [
            "/usr/local/lib/python3.8/dist-packages/pandas/core/generic.py:5516: SettingWithCopyWarning: \n",
            "A value is trying to be set on a copy of a slice from a DataFrame.\n",
            "Try using .loc[row_indexer,col_indexer] = value instead\n",
            "\n",
            "See the caveats in the documentation: https://pandas.pydata.org/pandas-docs/stable/user_guide/indexing.html#returning-a-view-versus-a-copy\n",
            "  self[name] = value\n"
          ]
        }
      ]
    },
    {
      "cell_type": "code",
      "source": [
        "df3.columns"
      ],
      "metadata": {
        "colab": {
          "base_uri": "https://localhost:8080/"
        },
        "id": "JnDnKtDkqrhC",
        "outputId": "3a028c3e-c44d-46aa-dd52-e215e8a959f5"
      },
      "execution_count": null,
      "outputs": [
        {
          "output_type": "execute_result",
          "data": {
            "text/plain": [
              "Index(['id', 'status', 'company', 'incidentnumber', 'incidentdate', 'contaminant', 'estimatedquantity', 'sitelocationname', 'spillareahabitat', 'lastupdatedby', 'cause', 'updatefor', 'latitude', 'longitude', 'statesaffected', 'attachments', 'jivdate', 'lga', 'zonaloffice', 'certificatedate', 'certificatenumber', 'formadate', 'reportdate', 'spillstopdate', 'initialcontainmentmeasures', 'descriptionofimpact', 'formbdate', 'formcdate', 'jivpresent', 'typeoffacility', 'cleanupcompleteddate', 'cleanupmethods', 'cleanupdate', 'quantityrecovered', 'postcleanupinspectiondate', 'finalsamplingdate', 'estimatedspillarea', 'remediationstart', 'remediationtype', 'remediationend', 'postimpactassessmentdate', 'finallabresultsdate'], dtype='object')"
            ]
          },
          "metadata": {},
          "execution_count": 54
        }
      ]
    },
    {
      "cell_type": "code",
      "source": [
        "dfbi =  df3[['incidentdate','company','contaminant','estimatedquantity','spillareahabitat','cause']]\n",
        "dfbii = df3.set_index('incidentdate')"
      ],
      "metadata": {
        "id": "t3nU3-sBqRg9"
      },
      "execution_count": null,
      "outputs": []
    },
    {
      "cell_type": "code",
      "source": [
        "from google.colab import files"
      ],
      "metadata": {
        "id": "RuXdHQ4EwCfV"
      },
      "execution_count": null,
      "outputs": []
    },
    {
      "cell_type": "code",
      "source": [
        "dfbi.to_csv('dfbii.csv')"
      ],
      "metadata": {
        "id": "DLvrNpPJwjXO"
      },
      "execution_count": null,
      "outputs": []
    },
    {
      "cell_type": "code",
      "source": [
        "#files.download('dfbii.csv')"
      ],
      "metadata": {
        "id": "RQnLhV5uwSoJ"
      },
      "execution_count": null,
      "outputs": []
    },
    {
      "cell_type": "code",
      "source": [
        "df4w = df3.groupby([pd.Grouper(key='incidentdate', freq='W')])['estimatedquantity'].agg(['sum','size'])\n",
        "df4m = df3.groupby([pd.Grouper(key='incidentdate', freq='M')])['estimatedquantity'].agg(['sum','size'])"
      ],
      "metadata": {
        "id": "4kxgzKPNuSv2"
      },
      "execution_count": null,
      "outputs": []
    },
    {
      "cell_type": "code",
      "source": [
        "df4m.tail()"
      ],
      "metadata": {
        "colab": {
          "base_uri": "https://localhost:8080/",
          "height": 238
        },
        "id": "LExj8xpJcG4g",
        "outputId": "b5118931-6c3f-41d9-d90e-b9d7dc29d47a"
      },
      "execution_count": null,
      "outputs": [
        {
          "output_type": "execute_result",
          "data": {
            "text/plain": [
              "                      sum  size\n",
              "incidentdate                   \n",
              "2022-08-31     863.269540    67\n",
              "2022-09-30     493.283100    60\n",
              "2022-10-31     538.790554    43\n",
              "2022-11-30    1240.313000    19\n",
              "2022-12-31     450.980580    16"
            ],
            "text/html": [
              "\n",
              "  <div id=\"df-588e73ac-a44c-4dc0-bdc6-260a9e3d57aa\">\n",
              "    <div class=\"colab-df-container\">\n",
              "      <div>\n",
              "<style scoped>\n",
              "    .dataframe tbody tr th:only-of-type {\n",
              "        vertical-align: middle;\n",
              "    }\n",
              "\n",
              "    .dataframe tbody tr th {\n",
              "        vertical-align: top;\n",
              "    }\n",
              "\n",
              "    .dataframe thead th {\n",
              "        text-align: right;\n",
              "    }\n",
              "</style>\n",
              "<table border=\"1\" class=\"dataframe\">\n",
              "  <thead>\n",
              "    <tr style=\"text-align: right;\">\n",
              "      <th></th>\n",
              "      <th>sum</th>\n",
              "      <th>size</th>\n",
              "    </tr>\n",
              "    <tr>\n",
              "      <th>incidentdate</th>\n",
              "      <th></th>\n",
              "      <th></th>\n",
              "    </tr>\n",
              "  </thead>\n",
              "  <tbody>\n",
              "    <tr>\n",
              "      <th>2022-08-31</th>\n",
              "      <td>863.269540</td>\n",
              "      <td>67</td>\n",
              "    </tr>\n",
              "    <tr>\n",
              "      <th>2022-09-30</th>\n",
              "      <td>493.283100</td>\n",
              "      <td>60</td>\n",
              "    </tr>\n",
              "    <tr>\n",
              "      <th>2022-10-31</th>\n",
              "      <td>538.790554</td>\n",
              "      <td>43</td>\n",
              "    </tr>\n",
              "    <tr>\n",
              "      <th>2022-11-30</th>\n",
              "      <td>1240.313000</td>\n",
              "      <td>19</td>\n",
              "    </tr>\n",
              "    <tr>\n",
              "      <th>2022-12-31</th>\n",
              "      <td>450.980580</td>\n",
              "      <td>16</td>\n",
              "    </tr>\n",
              "  </tbody>\n",
              "</table>\n",
              "</div>\n",
              "      <button class=\"colab-df-convert\" onclick=\"convertToInteractive('df-588e73ac-a44c-4dc0-bdc6-260a9e3d57aa')\"\n",
              "              title=\"Convert this dataframe to an interactive table.\"\n",
              "              style=\"display:none;\">\n",
              "        \n",
              "  <svg xmlns=\"http://www.w3.org/2000/svg\" height=\"24px\"viewBox=\"0 0 24 24\"\n",
              "       width=\"24px\">\n",
              "    <path d=\"M0 0h24v24H0V0z\" fill=\"none\"/>\n",
              "    <path d=\"M18.56 5.44l.94 2.06.94-2.06 2.06-.94-2.06-.94-.94-2.06-.94 2.06-2.06.94zm-11 1L8.5 8.5l.94-2.06 2.06-.94-2.06-.94L8.5 2.5l-.94 2.06-2.06.94zm10 10l.94 2.06.94-2.06 2.06-.94-2.06-.94-.94-2.06-.94 2.06-2.06.94z\"/><path d=\"M17.41 7.96l-1.37-1.37c-.4-.4-.92-.59-1.43-.59-.52 0-1.04.2-1.43.59L10.3 9.45l-7.72 7.72c-.78.78-.78 2.05 0 2.83L4 21.41c.39.39.9.59 1.41.59.51 0 1.02-.2 1.41-.59l7.78-7.78 2.81-2.81c.8-.78.8-2.07 0-2.86zM5.41 20L4 18.59l7.72-7.72 1.47 1.35L5.41 20z\"/>\n",
              "  </svg>\n",
              "      </button>\n",
              "      \n",
              "  <style>\n",
              "    .colab-df-container {\n",
              "      display:flex;\n",
              "      flex-wrap:wrap;\n",
              "      gap: 12px;\n",
              "    }\n",
              "\n",
              "    .colab-df-convert {\n",
              "      background-color: #E8F0FE;\n",
              "      border: none;\n",
              "      border-radius: 50%;\n",
              "      cursor: pointer;\n",
              "      display: none;\n",
              "      fill: #1967D2;\n",
              "      height: 32px;\n",
              "      padding: 0 0 0 0;\n",
              "      width: 32px;\n",
              "    }\n",
              "\n",
              "    .colab-df-convert:hover {\n",
              "      background-color: #E2EBFA;\n",
              "      box-shadow: 0px 1px 2px rgba(60, 64, 67, 0.3), 0px 1px 3px 1px rgba(60, 64, 67, 0.15);\n",
              "      fill: #174EA6;\n",
              "    }\n",
              "\n",
              "    [theme=dark] .colab-df-convert {\n",
              "      background-color: #3B4455;\n",
              "      fill: #D2E3FC;\n",
              "    }\n",
              "\n",
              "    [theme=dark] .colab-df-convert:hover {\n",
              "      background-color: #434B5C;\n",
              "      box-shadow: 0px 1px 3px 1px rgba(0, 0, 0, 0.15);\n",
              "      filter: drop-shadow(0px 1px 2px rgba(0, 0, 0, 0.3));\n",
              "      fill: #FFFFFF;\n",
              "    }\n",
              "  </style>\n",
              "\n",
              "      <script>\n",
              "        const buttonEl =\n",
              "          document.querySelector('#df-588e73ac-a44c-4dc0-bdc6-260a9e3d57aa button.colab-df-convert');\n",
              "        buttonEl.style.display =\n",
              "          google.colab.kernel.accessAllowed ? 'block' : 'none';\n",
              "\n",
              "        async function convertToInteractive(key) {\n",
              "          const element = document.querySelector('#df-588e73ac-a44c-4dc0-bdc6-260a9e3d57aa');\n",
              "          const dataTable =\n",
              "            await google.colab.kernel.invokeFunction('convertToInteractive',\n",
              "                                                     [key], {});\n",
              "          if (!dataTable) return;\n",
              "\n",
              "          const docLinkHtml = 'Like what you see? Visit the ' +\n",
              "            '<a target=\"_blank\" href=https://colab.research.google.com/notebooks/data_table.ipynb>data table notebook</a>'\n",
              "            + ' to learn more about interactive tables.';\n",
              "          element.innerHTML = '';\n",
              "          dataTable['output_type'] = 'display_data';\n",
              "          await google.colab.output.renderOutput(dataTable, element);\n",
              "          const docLink = document.createElement('div');\n",
              "          docLink.innerHTML = docLinkHtml;\n",
              "          element.appendChild(docLink);\n",
              "        }\n",
              "      </script>\n",
              "    </div>\n",
              "  </div>\n",
              "  "
            ]
          },
          "metadata": {},
          "execution_count": 60
        }
      ]
    },
    {
      "cell_type": "code",
      "source": [
        "df4w = df4w.rename(columns={'sum':'estimatedqty', 'size':'spillno'})\n",
        "df4m = df4m.rename(columns={'sum':'estimatedqty', 'size':'spillno'})"
      ],
      "metadata": {
        "id": "PmN1_LleY1Fk"
      },
      "execution_count": null,
      "outputs": []
    },
    {
      "cell_type": "code",
      "source": [
        "!pip install h2o -qq"
      ],
      "metadata": {
        "id": "XrMrI6eB1nWd",
        "colab": {
          "base_uri": "https://localhost:8080/"
        },
        "outputId": "f2b86651-96fc-4c99-f869-2e897e10a221"
      },
      "execution_count": 63,
      "outputs": [
        {
          "output_type": "stream",
          "name": "stdout",
          "text": [
            "\u001b[2K     \u001b[90m━━━━━━━━━━━━━━━━━━━━━━━━━━━━━━━━━━━━━━━\u001b[0m \u001b[32m177.5/177.5 MB\u001b[0m \u001b[31m5.0 MB/s\u001b[0m eta \u001b[36m0:00:00\u001b[0m\n",
            "\u001b[?25h  Preparing metadata (setup.py) ... \u001b[?25l\u001b[?25hdone\n",
            "  Building wheel for h2o (setup.py) ... \u001b[?25l\u001b[?25hdone\n"
          ]
        }
      ]
    },
    {
      "cell_type": "code",
      "source": [
        "import h2o\n",
        "from h2o.automl import H2OAutoML"
      ],
      "metadata": {
        "id": "pQYm89xelwk_"
      },
      "execution_count": 65,
      "outputs": []
    },
    {
      "cell_type": "code",
      "source": [
        "# Start the H2O cluster (locally)\n",
        "h2o.init()"
      ],
      "metadata": {
        "colab": {
          "base_uri": "https://localhost:8080/",
          "height": 544
        },
        "id": "3-5dBnjo5vkG",
        "outputId": "e69090d9-b672-42bd-a656-52d0388ff047"
      },
      "execution_count": 66,
      "outputs": [
        {
          "output_type": "stream",
          "name": "stdout",
          "text": [
            "Checking whether there is an H2O instance running at http://localhost:54321 ..... not found.\n",
            "Attempting to start a local H2O server...\n",
            "  Java Version: openjdk version \"11.0.17\" 2022-10-18; OpenJDK Runtime Environment (build 11.0.17+8-post-Ubuntu-1ubuntu220.04); OpenJDK 64-Bit Server VM (build 11.0.17+8-post-Ubuntu-1ubuntu220.04, mixed mode, sharing)\n",
            "  Starting server from /usr/local/lib/python3.8/dist-packages/h2o/backend/bin/h2o.jar\n",
            "  Ice root: /tmp/tmpbr4yjxts\n",
            "  JVM stdout: /tmp/tmpbr4yjxts/h2o_unknownUser_started_from_python.out\n",
            "  JVM stderr: /tmp/tmpbr4yjxts/h2o_unknownUser_started_from_python.err\n",
            "  Server is running at http://127.0.0.1:54321\n",
            "Connecting to H2O server at http://127.0.0.1:54321 ... successful.\n"
          ]
        },
        {
          "output_type": "display_data",
          "data": {
            "text/plain": [
              "--------------------------  ----------------------------------\n",
              "H2O_cluster_uptime:         08 secs\n",
              "H2O_cluster_timezone:       Etc/UTC\n",
              "H2O_data_parsing_timezone:  UTC\n",
              "H2O_cluster_version:        3.38.0.4\n",
              "H2O_cluster_version_age:    1 month and 2 days\n",
              "H2O_cluster_name:           H2O_from_python_unknownUser_48jdpt\n",
              "H2O_cluster_total_nodes:    1\n",
              "H2O_cluster_free_memory:    3.172 Gb\n",
              "H2O_cluster_total_cores:    2\n",
              "H2O_cluster_allowed_cores:  2\n",
              "H2O_cluster_status:         locked, healthy\n",
              "H2O_connection_url:         http://127.0.0.1:54321\n",
              "H2O_connection_proxy:       {\"http\": null, \"https\": null}\n",
              "H2O_internal_security:      False\n",
              "Python_version:             3.8.10 final\n",
              "--------------------------  ----------------------------------"
            ],
            "text/html": [
              "\n",
              "<style>\n",
              "\n",
              "#h2o-table-1.h2o-container {\n",
              "  overflow-x: auto;\n",
              "}\n",
              "#h2o-table-1 .h2o-table {\n",
              "  /* width: 100%; */\n",
              "  margin-top: 1em;\n",
              "  margin-bottom: 1em;\n",
              "}\n",
              "#h2o-table-1 .h2o-table caption {\n",
              "  white-space: nowrap;\n",
              "  caption-side: top;\n",
              "  text-align: left;\n",
              "  /* margin-left: 1em; */\n",
              "  margin: 0;\n",
              "  font-size: larger;\n",
              "}\n",
              "#h2o-table-1 .h2o-table thead {\n",
              "  white-space: nowrap; \n",
              "  position: sticky;\n",
              "  top: 0;\n",
              "  box-shadow: 0 -1px inset;\n",
              "}\n",
              "#h2o-table-1 .h2o-table tbody {\n",
              "  overflow: auto;\n",
              "}\n",
              "#h2o-table-1 .h2o-table th,\n",
              "#h2o-table-1 .h2o-table td {\n",
              "  text-align: right;\n",
              "  /* border: 1px solid; */\n",
              "}\n",
              "#h2o-table-1 .h2o-table tr:nth-child(even) {\n",
              "  /* background: #F5F5F5 */\n",
              "}\n",
              "\n",
              "</style>      \n",
              "<div id=\"h2o-table-1\" class=\"h2o-container\">\n",
              "  <table class=\"h2o-table\">\n",
              "    <caption></caption>\n",
              "    <thead></thead>\n",
              "    <tbody><tr><td>H2O_cluster_uptime:</td>\n",
              "<td>08 secs</td></tr>\n",
              "<tr><td>H2O_cluster_timezone:</td>\n",
              "<td>Etc/UTC</td></tr>\n",
              "<tr><td>H2O_data_parsing_timezone:</td>\n",
              "<td>UTC</td></tr>\n",
              "<tr><td>H2O_cluster_version:</td>\n",
              "<td>3.38.0.4</td></tr>\n",
              "<tr><td>H2O_cluster_version_age:</td>\n",
              "<td>1 month and 2 days </td></tr>\n",
              "<tr><td>H2O_cluster_name:</td>\n",
              "<td>H2O_from_python_unknownUser_48jdpt</td></tr>\n",
              "<tr><td>H2O_cluster_total_nodes:</td>\n",
              "<td>1</td></tr>\n",
              "<tr><td>H2O_cluster_free_memory:</td>\n",
              "<td>3.172 Gb</td></tr>\n",
              "<tr><td>H2O_cluster_total_cores:</td>\n",
              "<td>2</td></tr>\n",
              "<tr><td>H2O_cluster_allowed_cores:</td>\n",
              "<td>2</td></tr>\n",
              "<tr><td>H2O_cluster_status:</td>\n",
              "<td>locked, healthy</td></tr>\n",
              "<tr><td>H2O_connection_url:</td>\n",
              "<td>http://127.0.0.1:54321</td></tr>\n",
              "<tr><td>H2O_connection_proxy:</td>\n",
              "<td>{\"http\": null, \"https\": null}</td></tr>\n",
              "<tr><td>H2O_internal_security:</td>\n",
              "<td>False</td></tr>\n",
              "<tr><td>Python_version:</td>\n",
              "<td>3.8.10 final</td></tr></tbody>\n",
              "  </table>\n",
              "</div>\n"
            ]
          },
          "metadata": {}
        }
      ]
    }
  ]
}