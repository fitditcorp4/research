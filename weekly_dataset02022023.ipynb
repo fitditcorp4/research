{
  "nbformat": 4,
  "nbformat_minor": 0,
  "metadata": {
    "colab": {
      "provenance": [],
      "authorship_tag": "ABX9TyNwY9x3ERlg0j3rOi3G3Occ",
      "include_colab_link": true
    },
    "kernelspec": {
      "name": "python3",
      "display_name": "Python 3"
    },
    "language_info": {
      "name": "python"
    }
  },
  "cells": [
    {
      "cell_type": "markdown",
      "metadata": {
        "id": "view-in-github",
        "colab_type": "text"
      },
      "source": [
        "<a href=\"https://colab.research.google.com/github/fitditcorp4/research/blob/main/weekly_dataset02022023.ipynb\" target=\"_parent\"><img src=\"https://colab.research.google.com/assets/colab-badge.svg\" alt=\"Open In Colab\"/></a>"
      ]
    },
    {
      "cell_type": "code",
      "execution_count": 139,
      "metadata": {
        "id": "y-iUEG8KMJSN"
      },
      "outputs": [],
      "source": [
        "# imports library\n",
        "import pandas as pd\n",
        "import datetime as dt\n",
        "import matplotlib.pyplot as plt\n",
        "from matplotlib import pyplot\n",
        "import seaborn as sns\n",
        "import statsmodels.api as sm\n",
        "from sklearn.model_selection import train_test_split\n",
        "from sklearn.linear_model import LinearRegression\n",
        "from pandas.plotting import autocorrelation_plot\n",
        "from random import randrange\n",
        "from statsmodels.tsa.seasonal import seasonal_decompose\n",
        "#from pandas import datetime\n",
        "from datetime import datetime\n",
        "import numpy as np\n",
        "from pandas import read_json\n",
        "from pandas import read_csv\n",
        "from numpy import array\n",
        "import matplotlib.colors as colors\n",
        "import matplotlib.cm as cm\n",
        "from pylab import rcParams\n",
        "import warnings\n",
        "import itertools\n",
        "from pandas import Series\n",
        "# plt.style.use('fivethirtyeight')\n",
        "plt.style.use('classic')\n",
        "%matplotlib inline"
      ]
    },
    {
      "cell_type": "code",
      "source": [
        "pd.set_option('display.max_rows', 10000)\n",
        "pd.set_option('display.max_columns', 10000)\n",
        "pd.set_option('display.width', 1000)"
      ],
      "metadata": {
        "id": "9-CBvL_4N3dn"
      },
      "execution_count": 140,
      "outputs": []
    },
    {
      "cell_type": "code",
      "source": [
        "from google.colab import data_table\n",
        "data_table.enable_dataframe_formatter"
      ],
      "metadata": {
        "colab": {
          "base_uri": "https://localhost:8080/"
        },
        "id": "Upb5Xvh6cSUU",
        "outputId": "2fb7d20c-6ba3-41b0-c491-4f8e93cb117f"
      },
      "execution_count": 141,
      "outputs": [
        {
          "output_type": "execute_result",
          "data": {
            "text/plain": [
              "<function google.colab.data_table.enable_dataframe_formatter()>"
            ]
          },
          "metadata": {},
          "execution_count": 141
        }
      ]
    },
    {
      "cell_type": "code",
      "source": [
        "df0 = pd.read_json('https://oilspillmonitor.ng/api/spill-data.php?dataset=nosdra&format=json')"
      ],
      "metadata": {
        "id": "G8m04E1yb08J"
      },
      "execution_count": 142,
      "outputs": []
    },
    {
      "cell_type": "code",
      "source": [
        " df0"
      ],
      "metadata": {
        "colab": {
          "base_uri": "https://localhost:8080/",
          "height": 783
        },
        "id": "hWKGITTQb8VI",
        "outputId": "4eef165c-a2d0-49ba-942c-ccb11265f9d2"
      },
      "execution_count": 143,
      "outputs": [
        {
          "output_type": "execute_result",
          "data": {
            "text/plain": [
              "           id     status  company    incidentnumber incidentdate contaminant estimatedquantity                             sitelocationname spillareahabitat     lastupdatedby cause  updatefor   latitude  longitude statesaffected                                        attachments     jivdate               lga zonaloffice certificatedate certificatenumber formadate  reportdate spillstopdate initialcontainmentmeasures                                descriptionofimpact formbdate formcdate                     jivpresent typeoffacility cleanupcompleteddate cleanupmethods cleanupdate quantityrecovered postcleanupinspectiondate finalsamplingdate estimatedspillarea remediationstart remediationtype remediationend postimpactassessmentdate finallabresultsdate\n",
              "0           2  confirmed    ADDAX  HSE/OBO/0611/101   2006-11-23          cr               225    Subsea Pipeline @ Mimbo Platform (OML123)               of            NOSDRA   NaN        NaN        NaN        NaN            NaN                                                NaN         NaN               NaN         NaN             NaN               NaN       NaN         NaN           NaN                        NaN                                                NaN       NaN       NaN                            NaN            NaN                  NaN            NaN         NaN               NaN                       NaN               NaN                NaN              NaN             NaN            NaN                      NaN                 NaN\n",
              "1           3  confirmed    ADDAX  HSE/OBO/0612/108   2006-12-18          cr               0.5         EBNE04HT @ Ebughu Platform (OML 123)               of            NOSDRA   eqf        NaN        NaN        NaN            NaN                                                NaN         NaN               NaN         NaN             NaN               NaN       NaN         NaN           NaN                        NaN                                                NaN       NaN       NaN                            NaN            NaN                  NaN            NaN         NaN               NaN                       NaN               NaN                NaN              NaN             NaN            NaN                      NaN                 NaN\n",
              "2           4  confirmed    ADDAX  HSE/OBO/0612/110   2006-12-27          cr                25                  South East of BOGI Platform               of            NOSDRA   NaN        NaN        NaN        NaN            NaN                                                NaN         NaN               NaN         NaN             NaN               NaN       NaN         NaN           NaN                        NaN                                                NaN       NaN       NaN                            NaN            NaN                  NaN            NaN         NaN               NaN                       NaN               NaN                NaN              NaN             NaN            NaN                      NaN                 NaN\n",
              "3           5  confirmed    ADDAX  HSE/OBO/0706/166   2007-05-14          cr                 2                           Adanga Platform                  of            NOSDRA   NaN        NaN        NaN        NaN            NaN                                                NaN         NaN               NaN         NaN             NaN               NaN       NaN         NaN           NaN                        NaN                                                NaN       NaN       NaN                            NaN            NaN                  NaN            NaN         NaN               NaN                       NaN               NaN                NaN              NaN             NaN            NaN                      NaN                 NaN\n",
              "4           6  confirmed    ADDAX  HSE/OBO/0708/201   2007-08-16          gs               NaN                Izombe Well #10LS 4\" Flowline               la            NOSDRA   NaN        NaN        NaN        NaN            NaN                                                NaN         NaN               NaN         NaN             NaN               NaN       NaN         NaN           NaN                        NaN                                                NaN       NaN       NaN                            NaN            NaN                  NaN            NaN         NaN               NaN                       NaN               NaN                NaN              NaN             NaN            NaN                      NaN                 NaN\n",
              "...       ...        ...      ...               ...          ...         ...               ...                                          ...              ...               ...   ...        ...        ...        ...            ...                                                ...         ...               ...         ...             ...               ...       ...         ...           ...                        ...                                                ...       ...       ...                            ...            ...                  ...            ...         ...               ...                       ...               ...                ...              ...             ...            ...                      ...                 ...\n",
              "16437  268127  confirmed  CHEVRON   NOSDRA/009/2023   2023-01-22          no               NaN      18'' DIBI-ABITEYE PIPELINE RoW AT DIBI.               sw  2023-02-08 WA003   sab   268127.0  5.7339444  5.2176944             DE  [{\"url\":\"data/attachments/t186274821c1/CJEVRON...  2023-01-31       Warri-North          wa             NaN               NaN       NaN  2023-01-23           NaN                        NaN  4'' Ball valve and double flange with pipe ext...       NaN       NaN  nosdra,cmmnt,cmpny,dpr,mnstry             pl                  NaN            NaN         NaN               NaN                       NaN               NaN                NaN              NaN             NaN            NaN                      NaN                 NaN\n",
              "16438  268124  confirmed  CHEVRON   NOSDRA/006/2023   2023-01-13          no               NaN        12'' OPUEKEBA-OLERO 12 ROW AT OPUAMA.               sw  2023-02-08 WA003   sab   268124.0  5.9068611  5.1013056             DE  [{\"url\":\"data/attachments/t186273806dd/CJEVRON...  2023-01-30       Warri-North          wa             NaN               NaN       NaN  2023-01-14           NaN                        NaN  12'' Mother Valve illegally attached at 12 O'c...       NaN       NaN  nosdra,cmmnt,cmpny,dpr,mnstry             fl                  NaN            NaN         NaN               NaN                       NaN               NaN                NaN              NaN             NaN            NaN                      NaN                 NaN\n",
              "16439  268123  confirmed  CHEVRON   NOSDRA/007/2023   2023-01-13          no               NaN        12'' OPUEKEBA-OLERO 12 RoW AT OPUAMA.               sw  2023-02-08 WA003   sab   268123.0  5.8866667  5.0988889             DE  [{\"url\":\"data/attachments/t186272cb460/CJEVRON...  2023-01-30       Warri-North          wa             NaN               NaN       NaN  2023-01-14           NaN                        NaN  3'' Hot tap Valve illegally attached at 12 O'c...       NaN       NaN  nosdra,cmmnt,cmpny,dpr,mnstry             fl                  NaN            NaN         NaN               NaN                       NaN               NaN                NaN              NaN             NaN            NaN                      NaN                 NaN\n",
              "16440  268122  confirmed  CHEVRON   NOSDRA/008/2023   2023-01-13          no               NaN  12'' OPUEKEBA-OLERO 12 ROW AT RMP 6 OPUAMA.               sw  2023-02-08 WA003   sab   268122.0  5.9068611  5.1013056             DE  [{\"url\":\"data/attachments/t186271a9c79/CJEVRON...  2023-01-30       Warri-North          wa             NaN               NaN       NaN  2023-01-14           NaN                        NaN  3'' Ballvalve with about 2'' pipe connection m...       NaN       NaN  nosdra,cmmnt,cmpny,dpr,mnstry             pl                  NaN            NaN         NaN               NaN                       NaN               NaN                NaN              NaN             NaN            NaN                      NaN                 NaN\n",
              "16441  268129  confirmed  CHEVRON   NOSDRA/005/2023   2023-01-05          no               NaN   12'' ABITEYE-ESCRAVOS PIPELINE AT SAGHARA.               la  2023-02-08 WA003   sab   268129.0  5.6474167  5.2488333             DE  [{\"url\":\"data/attachments/t18627578218/CJEVRON...  2023-01-31  Warri-South-West          wa             NaN               NaN       NaN  2023-01-06           NaN                        NaN  4'' Hot valve installed at 12 O'clock position...       NaN       NaN  nosdra,cmmnt,cmpny,dpr,mnstry             pl                  NaN            NaN         NaN               NaN                       NaN               NaN                NaN              NaN             NaN            NaN                      NaN                 NaN\n",
              "\n",
              "[16442 rows x 42 columns]"
            ],
            "text/html": [
              "\n",
              "  <div id=\"df-c8bb08c4-7ffe-447f-8f8a-a90ebb1b1de7\">\n",
              "    <div class=\"colab-df-container\">\n",
              "      <div>\n",
              "<style scoped>\n",
              "    .dataframe tbody tr th:only-of-type {\n",
              "        vertical-align: middle;\n",
              "    }\n",
              "\n",
              "    .dataframe tbody tr th {\n",
              "        vertical-align: top;\n",
              "    }\n",
              "\n",
              "    .dataframe thead th {\n",
              "        text-align: right;\n",
              "    }\n",
              "</style>\n",
              "<table border=\"1\" class=\"dataframe\">\n",
              "  <thead>\n",
              "    <tr style=\"text-align: right;\">\n",
              "      <th></th>\n",
              "      <th>id</th>\n",
              "      <th>status</th>\n",
              "      <th>company</th>\n",
              "      <th>incidentnumber</th>\n",
              "      <th>incidentdate</th>\n",
              "      <th>contaminant</th>\n",
              "      <th>estimatedquantity</th>\n",
              "      <th>sitelocationname</th>\n",
              "      <th>spillareahabitat</th>\n",
              "      <th>lastupdatedby</th>\n",
              "      <th>cause</th>\n",
              "      <th>updatefor</th>\n",
              "      <th>latitude</th>\n",
              "      <th>longitude</th>\n",
              "      <th>statesaffected</th>\n",
              "      <th>attachments</th>\n",
              "      <th>jivdate</th>\n",
              "      <th>lga</th>\n",
              "      <th>zonaloffice</th>\n",
              "      <th>certificatedate</th>\n",
              "      <th>certificatenumber</th>\n",
              "      <th>formadate</th>\n",
              "      <th>reportdate</th>\n",
              "      <th>spillstopdate</th>\n",
              "      <th>initialcontainmentmeasures</th>\n",
              "      <th>descriptionofimpact</th>\n",
              "      <th>formbdate</th>\n",
              "      <th>formcdate</th>\n",
              "      <th>jivpresent</th>\n",
              "      <th>typeoffacility</th>\n",
              "      <th>cleanupcompleteddate</th>\n",
              "      <th>cleanupmethods</th>\n",
              "      <th>cleanupdate</th>\n",
              "      <th>quantityrecovered</th>\n",
              "      <th>postcleanupinspectiondate</th>\n",
              "      <th>finalsamplingdate</th>\n",
              "      <th>estimatedspillarea</th>\n",
              "      <th>remediationstart</th>\n",
              "      <th>remediationtype</th>\n",
              "      <th>remediationend</th>\n",
              "      <th>postimpactassessmentdate</th>\n",
              "      <th>finallabresultsdate</th>\n",
              "    </tr>\n",
              "  </thead>\n",
              "  <tbody>\n",
              "    <tr>\n",
              "      <th>0</th>\n",
              "      <td>2</td>\n",
              "      <td>confirmed</td>\n",
              "      <td>ADDAX</td>\n",
              "      <td>HSE/OBO/0611/101</td>\n",
              "      <td>2006-11-23</td>\n",
              "      <td>cr</td>\n",
              "      <td>225</td>\n",
              "      <td>Subsea Pipeline @ Mimbo Platform (OML123)</td>\n",
              "      <td>of</td>\n",
              "      <td>NOSDRA</td>\n",
              "      <td>NaN</td>\n",
              "      <td>NaN</td>\n",
              "      <td>NaN</td>\n",
              "      <td>NaN</td>\n",
              "      <td>NaN</td>\n",
              "      <td>NaN</td>\n",
              "      <td>NaN</td>\n",
              "      <td>NaN</td>\n",
              "      <td>NaN</td>\n",
              "      <td>NaN</td>\n",
              "      <td>NaN</td>\n",
              "      <td>NaN</td>\n",
              "      <td>NaN</td>\n",
              "      <td>NaN</td>\n",
              "      <td>NaN</td>\n",
              "      <td>NaN</td>\n",
              "      <td>NaN</td>\n",
              "      <td>NaN</td>\n",
              "      <td>NaN</td>\n",
              "      <td>NaN</td>\n",
              "      <td>NaN</td>\n",
              "      <td>NaN</td>\n",
              "      <td>NaN</td>\n",
              "      <td>NaN</td>\n",
              "      <td>NaN</td>\n",
              "      <td>NaN</td>\n",
              "      <td>NaN</td>\n",
              "      <td>NaN</td>\n",
              "      <td>NaN</td>\n",
              "      <td>NaN</td>\n",
              "      <td>NaN</td>\n",
              "      <td>NaN</td>\n",
              "    </tr>\n",
              "    <tr>\n",
              "      <th>1</th>\n",
              "      <td>3</td>\n",
              "      <td>confirmed</td>\n",
              "      <td>ADDAX</td>\n",
              "      <td>HSE/OBO/0612/108</td>\n",
              "      <td>2006-12-18</td>\n",
              "      <td>cr</td>\n",
              "      <td>0.5</td>\n",
              "      <td>EBNE04HT @ Ebughu Platform (OML 123)</td>\n",
              "      <td>of</td>\n",
              "      <td>NOSDRA</td>\n",
              "      <td>eqf</td>\n",
              "      <td>NaN</td>\n",
              "      <td>NaN</td>\n",
              "      <td>NaN</td>\n",
              "      <td>NaN</td>\n",
              "      <td>NaN</td>\n",
              "      <td>NaN</td>\n",
              "      <td>NaN</td>\n",
              "      <td>NaN</td>\n",
              "      <td>NaN</td>\n",
              "      <td>NaN</td>\n",
              "      <td>NaN</td>\n",
              "      <td>NaN</td>\n",
              "      <td>NaN</td>\n",
              "      <td>NaN</td>\n",
              "      <td>NaN</td>\n",
              "      <td>NaN</td>\n",
              "      <td>NaN</td>\n",
              "      <td>NaN</td>\n",
              "      <td>NaN</td>\n",
              "      <td>NaN</td>\n",
              "      <td>NaN</td>\n",
              "      <td>NaN</td>\n",
              "      <td>NaN</td>\n",
              "      <td>NaN</td>\n",
              "      <td>NaN</td>\n",
              "      <td>NaN</td>\n",
              "      <td>NaN</td>\n",
              "      <td>NaN</td>\n",
              "      <td>NaN</td>\n",
              "      <td>NaN</td>\n",
              "      <td>NaN</td>\n",
              "    </tr>\n",
              "    <tr>\n",
              "      <th>2</th>\n",
              "      <td>4</td>\n",
              "      <td>confirmed</td>\n",
              "      <td>ADDAX</td>\n",
              "      <td>HSE/OBO/0612/110</td>\n",
              "      <td>2006-12-27</td>\n",
              "      <td>cr</td>\n",
              "      <td>25</td>\n",
              "      <td>South East of BOGI Platform</td>\n",
              "      <td>of</td>\n",
              "      <td>NOSDRA</td>\n",
              "      <td>NaN</td>\n",
              "      <td>NaN</td>\n",
              "      <td>NaN</td>\n",
              "      <td>NaN</td>\n",
              "      <td>NaN</td>\n",
              "      <td>NaN</td>\n",
              "      <td>NaN</td>\n",
              "      <td>NaN</td>\n",
              "      <td>NaN</td>\n",
              "      <td>NaN</td>\n",
              "      <td>NaN</td>\n",
              "      <td>NaN</td>\n",
              "      <td>NaN</td>\n",
              "      <td>NaN</td>\n",
              "      <td>NaN</td>\n",
              "      <td>NaN</td>\n",
              "      <td>NaN</td>\n",
              "      <td>NaN</td>\n",
              "      <td>NaN</td>\n",
              "      <td>NaN</td>\n",
              "      <td>NaN</td>\n",
              "      <td>NaN</td>\n",
              "      <td>NaN</td>\n",
              "      <td>NaN</td>\n",
              "      <td>NaN</td>\n",
              "      <td>NaN</td>\n",
              "      <td>NaN</td>\n",
              "      <td>NaN</td>\n",
              "      <td>NaN</td>\n",
              "      <td>NaN</td>\n",
              "      <td>NaN</td>\n",
              "      <td>NaN</td>\n",
              "    </tr>\n",
              "    <tr>\n",
              "      <th>3</th>\n",
              "      <td>5</td>\n",
              "      <td>confirmed</td>\n",
              "      <td>ADDAX</td>\n",
              "      <td>HSE/OBO/0706/166</td>\n",
              "      <td>2007-05-14</td>\n",
              "      <td>cr</td>\n",
              "      <td>2</td>\n",
              "      <td>Adanga Platform</td>\n",
              "      <td>of</td>\n",
              "      <td>NOSDRA</td>\n",
              "      <td>NaN</td>\n",
              "      <td>NaN</td>\n",
              "      <td>NaN</td>\n",
              "      <td>NaN</td>\n",
              "      <td>NaN</td>\n",
              "      <td>NaN</td>\n",
              "      <td>NaN</td>\n",
              "      <td>NaN</td>\n",
              "      <td>NaN</td>\n",
              "      <td>NaN</td>\n",
              "      <td>NaN</td>\n",
              "      <td>NaN</td>\n",
              "      <td>NaN</td>\n",
              "      <td>NaN</td>\n",
              "      <td>NaN</td>\n",
              "      <td>NaN</td>\n",
              "      <td>NaN</td>\n",
              "      <td>NaN</td>\n",
              "      <td>NaN</td>\n",
              "      <td>NaN</td>\n",
              "      <td>NaN</td>\n",
              "      <td>NaN</td>\n",
              "      <td>NaN</td>\n",
              "      <td>NaN</td>\n",
              "      <td>NaN</td>\n",
              "      <td>NaN</td>\n",
              "      <td>NaN</td>\n",
              "      <td>NaN</td>\n",
              "      <td>NaN</td>\n",
              "      <td>NaN</td>\n",
              "      <td>NaN</td>\n",
              "      <td>NaN</td>\n",
              "    </tr>\n",
              "    <tr>\n",
              "      <th>4</th>\n",
              "      <td>6</td>\n",
              "      <td>confirmed</td>\n",
              "      <td>ADDAX</td>\n",
              "      <td>HSE/OBO/0708/201</td>\n",
              "      <td>2007-08-16</td>\n",
              "      <td>gs</td>\n",
              "      <td>NaN</td>\n",
              "      <td>Izombe Well #10LS 4\" Flowline</td>\n",
              "      <td>la</td>\n",
              "      <td>NOSDRA</td>\n",
              "      <td>NaN</td>\n",
              "      <td>NaN</td>\n",
              "      <td>NaN</td>\n",
              "      <td>NaN</td>\n",
              "      <td>NaN</td>\n",
              "      <td>NaN</td>\n",
              "      <td>NaN</td>\n",
              "      <td>NaN</td>\n",
              "      <td>NaN</td>\n",
              "      <td>NaN</td>\n",
              "      <td>NaN</td>\n",
              "      <td>NaN</td>\n",
              "      <td>NaN</td>\n",
              "      <td>NaN</td>\n",
              "      <td>NaN</td>\n",
              "      <td>NaN</td>\n",
              "      <td>NaN</td>\n",
              "      <td>NaN</td>\n",
              "      <td>NaN</td>\n",
              "      <td>NaN</td>\n",
              "      <td>NaN</td>\n",
              "      <td>NaN</td>\n",
              "      <td>NaN</td>\n",
              "      <td>NaN</td>\n",
              "      <td>NaN</td>\n",
              "      <td>NaN</td>\n",
              "      <td>NaN</td>\n",
              "      <td>NaN</td>\n",
              "      <td>NaN</td>\n",
              "      <td>NaN</td>\n",
              "      <td>NaN</td>\n",
              "      <td>NaN</td>\n",
              "    </tr>\n",
              "    <tr>\n",
              "      <th>...</th>\n",
              "      <td>...</td>\n",
              "      <td>...</td>\n",
              "      <td>...</td>\n",
              "      <td>...</td>\n",
              "      <td>...</td>\n",
              "      <td>...</td>\n",
              "      <td>...</td>\n",
              "      <td>...</td>\n",
              "      <td>...</td>\n",
              "      <td>...</td>\n",
              "      <td>...</td>\n",
              "      <td>...</td>\n",
              "      <td>...</td>\n",
              "      <td>...</td>\n",
              "      <td>...</td>\n",
              "      <td>...</td>\n",
              "      <td>...</td>\n",
              "      <td>...</td>\n",
              "      <td>...</td>\n",
              "      <td>...</td>\n",
              "      <td>...</td>\n",
              "      <td>...</td>\n",
              "      <td>...</td>\n",
              "      <td>...</td>\n",
              "      <td>...</td>\n",
              "      <td>...</td>\n",
              "      <td>...</td>\n",
              "      <td>...</td>\n",
              "      <td>...</td>\n",
              "      <td>...</td>\n",
              "      <td>...</td>\n",
              "      <td>...</td>\n",
              "      <td>...</td>\n",
              "      <td>...</td>\n",
              "      <td>...</td>\n",
              "      <td>...</td>\n",
              "      <td>...</td>\n",
              "      <td>...</td>\n",
              "      <td>...</td>\n",
              "      <td>...</td>\n",
              "      <td>...</td>\n",
              "      <td>...</td>\n",
              "    </tr>\n",
              "    <tr>\n",
              "      <th>16437</th>\n",
              "      <td>268127</td>\n",
              "      <td>confirmed</td>\n",
              "      <td>CHEVRON</td>\n",
              "      <td>NOSDRA/009/2023</td>\n",
              "      <td>2023-01-22</td>\n",
              "      <td>no</td>\n",
              "      <td>NaN</td>\n",
              "      <td>18'' DIBI-ABITEYE PIPELINE RoW AT DIBI.</td>\n",
              "      <td>sw</td>\n",
              "      <td>2023-02-08 WA003</td>\n",
              "      <td>sab</td>\n",
              "      <td>268127.0</td>\n",
              "      <td>5.7339444</td>\n",
              "      <td>5.2176944</td>\n",
              "      <td>DE</td>\n",
              "      <td>[{\"url\":\"data/attachments/t186274821c1/CJEVRON...</td>\n",
              "      <td>2023-01-31</td>\n",
              "      <td>Warri-North</td>\n",
              "      <td>wa</td>\n",
              "      <td>NaN</td>\n",
              "      <td>NaN</td>\n",
              "      <td>NaN</td>\n",
              "      <td>2023-01-23</td>\n",
              "      <td>NaN</td>\n",
              "      <td>NaN</td>\n",
              "      <td>4'' Ball valve and double flange with pipe ext...</td>\n",
              "      <td>NaN</td>\n",
              "      <td>NaN</td>\n",
              "      <td>nosdra,cmmnt,cmpny,dpr,mnstry</td>\n",
              "      <td>pl</td>\n",
              "      <td>NaN</td>\n",
              "      <td>NaN</td>\n",
              "      <td>NaN</td>\n",
              "      <td>NaN</td>\n",
              "      <td>NaN</td>\n",
              "      <td>NaN</td>\n",
              "      <td>NaN</td>\n",
              "      <td>NaN</td>\n",
              "      <td>NaN</td>\n",
              "      <td>NaN</td>\n",
              "      <td>NaN</td>\n",
              "      <td>NaN</td>\n",
              "    </tr>\n",
              "    <tr>\n",
              "      <th>16438</th>\n",
              "      <td>268124</td>\n",
              "      <td>confirmed</td>\n",
              "      <td>CHEVRON</td>\n",
              "      <td>NOSDRA/006/2023</td>\n",
              "      <td>2023-01-13</td>\n",
              "      <td>no</td>\n",
              "      <td>NaN</td>\n",
              "      <td>12'' OPUEKEBA-OLERO 12 ROW AT OPUAMA.</td>\n",
              "      <td>sw</td>\n",
              "      <td>2023-02-08 WA003</td>\n",
              "      <td>sab</td>\n",
              "      <td>268124.0</td>\n",
              "      <td>5.9068611</td>\n",
              "      <td>5.1013056</td>\n",
              "      <td>DE</td>\n",
              "      <td>[{\"url\":\"data/attachments/t186273806dd/CJEVRON...</td>\n",
              "      <td>2023-01-30</td>\n",
              "      <td>Warri-North</td>\n",
              "      <td>wa</td>\n",
              "      <td>NaN</td>\n",
              "      <td>NaN</td>\n",
              "      <td>NaN</td>\n",
              "      <td>2023-01-14</td>\n",
              "      <td>NaN</td>\n",
              "      <td>NaN</td>\n",
              "      <td>12'' Mother Valve illegally attached at 12 O'c...</td>\n",
              "      <td>NaN</td>\n",
              "      <td>NaN</td>\n",
              "      <td>nosdra,cmmnt,cmpny,dpr,mnstry</td>\n",
              "      <td>fl</td>\n",
              "      <td>NaN</td>\n",
              "      <td>NaN</td>\n",
              "      <td>NaN</td>\n",
              "      <td>NaN</td>\n",
              "      <td>NaN</td>\n",
              "      <td>NaN</td>\n",
              "      <td>NaN</td>\n",
              "      <td>NaN</td>\n",
              "      <td>NaN</td>\n",
              "      <td>NaN</td>\n",
              "      <td>NaN</td>\n",
              "      <td>NaN</td>\n",
              "    </tr>\n",
              "    <tr>\n",
              "      <th>16439</th>\n",
              "      <td>268123</td>\n",
              "      <td>confirmed</td>\n",
              "      <td>CHEVRON</td>\n",
              "      <td>NOSDRA/007/2023</td>\n",
              "      <td>2023-01-13</td>\n",
              "      <td>no</td>\n",
              "      <td>NaN</td>\n",
              "      <td>12'' OPUEKEBA-OLERO 12 RoW AT OPUAMA.</td>\n",
              "      <td>sw</td>\n",
              "      <td>2023-02-08 WA003</td>\n",
              "      <td>sab</td>\n",
              "      <td>268123.0</td>\n",
              "      <td>5.8866667</td>\n",
              "      <td>5.0988889</td>\n",
              "      <td>DE</td>\n",
              "      <td>[{\"url\":\"data/attachments/t186272cb460/CJEVRON...</td>\n",
              "      <td>2023-01-30</td>\n",
              "      <td>Warri-North</td>\n",
              "      <td>wa</td>\n",
              "      <td>NaN</td>\n",
              "      <td>NaN</td>\n",
              "      <td>NaN</td>\n",
              "      <td>2023-01-14</td>\n",
              "      <td>NaN</td>\n",
              "      <td>NaN</td>\n",
              "      <td>3'' Hot tap Valve illegally attached at 12 O'c...</td>\n",
              "      <td>NaN</td>\n",
              "      <td>NaN</td>\n",
              "      <td>nosdra,cmmnt,cmpny,dpr,mnstry</td>\n",
              "      <td>fl</td>\n",
              "      <td>NaN</td>\n",
              "      <td>NaN</td>\n",
              "      <td>NaN</td>\n",
              "      <td>NaN</td>\n",
              "      <td>NaN</td>\n",
              "      <td>NaN</td>\n",
              "      <td>NaN</td>\n",
              "      <td>NaN</td>\n",
              "      <td>NaN</td>\n",
              "      <td>NaN</td>\n",
              "      <td>NaN</td>\n",
              "      <td>NaN</td>\n",
              "    </tr>\n",
              "    <tr>\n",
              "      <th>16440</th>\n",
              "      <td>268122</td>\n",
              "      <td>confirmed</td>\n",
              "      <td>CHEVRON</td>\n",
              "      <td>NOSDRA/008/2023</td>\n",
              "      <td>2023-01-13</td>\n",
              "      <td>no</td>\n",
              "      <td>NaN</td>\n",
              "      <td>12'' OPUEKEBA-OLERO 12 ROW AT RMP 6 OPUAMA.</td>\n",
              "      <td>sw</td>\n",
              "      <td>2023-02-08 WA003</td>\n",
              "      <td>sab</td>\n",
              "      <td>268122.0</td>\n",
              "      <td>5.9068611</td>\n",
              "      <td>5.1013056</td>\n",
              "      <td>DE</td>\n",
              "      <td>[{\"url\":\"data/attachments/t186271a9c79/CJEVRON...</td>\n",
              "      <td>2023-01-30</td>\n",
              "      <td>Warri-North</td>\n",
              "      <td>wa</td>\n",
              "      <td>NaN</td>\n",
              "      <td>NaN</td>\n",
              "      <td>NaN</td>\n",
              "      <td>2023-01-14</td>\n",
              "      <td>NaN</td>\n",
              "      <td>NaN</td>\n",
              "      <td>3'' Ballvalve with about 2'' pipe connection m...</td>\n",
              "      <td>NaN</td>\n",
              "      <td>NaN</td>\n",
              "      <td>nosdra,cmmnt,cmpny,dpr,mnstry</td>\n",
              "      <td>pl</td>\n",
              "      <td>NaN</td>\n",
              "      <td>NaN</td>\n",
              "      <td>NaN</td>\n",
              "      <td>NaN</td>\n",
              "      <td>NaN</td>\n",
              "      <td>NaN</td>\n",
              "      <td>NaN</td>\n",
              "      <td>NaN</td>\n",
              "      <td>NaN</td>\n",
              "      <td>NaN</td>\n",
              "      <td>NaN</td>\n",
              "      <td>NaN</td>\n",
              "    </tr>\n",
              "    <tr>\n",
              "      <th>16441</th>\n",
              "      <td>268129</td>\n",
              "      <td>confirmed</td>\n",
              "      <td>CHEVRON</td>\n",
              "      <td>NOSDRA/005/2023</td>\n",
              "      <td>2023-01-05</td>\n",
              "      <td>no</td>\n",
              "      <td>NaN</td>\n",
              "      <td>12'' ABITEYE-ESCRAVOS PIPELINE AT SAGHARA.</td>\n",
              "      <td>la</td>\n",
              "      <td>2023-02-08 WA003</td>\n",
              "      <td>sab</td>\n",
              "      <td>268129.0</td>\n",
              "      <td>5.6474167</td>\n",
              "      <td>5.2488333</td>\n",
              "      <td>DE</td>\n",
              "      <td>[{\"url\":\"data/attachments/t18627578218/CJEVRON...</td>\n",
              "      <td>2023-01-31</td>\n",
              "      <td>Warri-South-West</td>\n",
              "      <td>wa</td>\n",
              "      <td>NaN</td>\n",
              "      <td>NaN</td>\n",
              "      <td>NaN</td>\n",
              "      <td>2023-01-06</td>\n",
              "      <td>NaN</td>\n",
              "      <td>NaN</td>\n",
              "      <td>4'' Hot valve installed at 12 O'clock position...</td>\n",
              "      <td>NaN</td>\n",
              "      <td>NaN</td>\n",
              "      <td>nosdra,cmmnt,cmpny,dpr,mnstry</td>\n",
              "      <td>pl</td>\n",
              "      <td>NaN</td>\n",
              "      <td>NaN</td>\n",
              "      <td>NaN</td>\n",
              "      <td>NaN</td>\n",
              "      <td>NaN</td>\n",
              "      <td>NaN</td>\n",
              "      <td>NaN</td>\n",
              "      <td>NaN</td>\n",
              "      <td>NaN</td>\n",
              "      <td>NaN</td>\n",
              "      <td>NaN</td>\n",
              "      <td>NaN</td>\n",
              "    </tr>\n",
              "  </tbody>\n",
              "</table>\n",
              "<p>16442 rows × 42 columns</p>\n",
              "</div>\n",
              "      <button class=\"colab-df-convert\" onclick=\"convertToInteractive('df-c8bb08c4-7ffe-447f-8f8a-a90ebb1b1de7')\"\n",
              "              title=\"Convert this dataframe to an interactive table.\"\n",
              "              style=\"display:none;\">\n",
              "        \n",
              "  <svg xmlns=\"http://www.w3.org/2000/svg\" height=\"24px\"viewBox=\"0 0 24 24\"\n",
              "       width=\"24px\">\n",
              "    <path d=\"M0 0h24v24H0V0z\" fill=\"none\"/>\n",
              "    <path d=\"M18.56 5.44l.94 2.06.94-2.06 2.06-.94-2.06-.94-.94-2.06-.94 2.06-2.06.94zm-11 1L8.5 8.5l.94-2.06 2.06-.94-2.06-.94L8.5 2.5l-.94 2.06-2.06.94zm10 10l.94 2.06.94-2.06 2.06-.94-2.06-.94-.94-2.06-.94 2.06-2.06.94z\"/><path d=\"M17.41 7.96l-1.37-1.37c-.4-.4-.92-.59-1.43-.59-.52 0-1.04.2-1.43.59L10.3 9.45l-7.72 7.72c-.78.78-.78 2.05 0 2.83L4 21.41c.39.39.9.59 1.41.59.51 0 1.02-.2 1.41-.59l7.78-7.78 2.81-2.81c.8-.78.8-2.07 0-2.86zM5.41 20L4 18.59l7.72-7.72 1.47 1.35L5.41 20z\"/>\n",
              "  </svg>\n",
              "      </button>\n",
              "      \n",
              "  <style>\n",
              "    .colab-df-container {\n",
              "      display:flex;\n",
              "      flex-wrap:wrap;\n",
              "      gap: 12px;\n",
              "    }\n",
              "\n",
              "    .colab-df-convert {\n",
              "      background-color: #E8F0FE;\n",
              "      border: none;\n",
              "      border-radius: 50%;\n",
              "      cursor: pointer;\n",
              "      display: none;\n",
              "      fill: #1967D2;\n",
              "      height: 32px;\n",
              "      padding: 0 0 0 0;\n",
              "      width: 32px;\n",
              "    }\n",
              "\n",
              "    .colab-df-convert:hover {\n",
              "      background-color: #E2EBFA;\n",
              "      box-shadow: 0px 1px 2px rgba(60, 64, 67, 0.3), 0px 1px 3px 1px rgba(60, 64, 67, 0.15);\n",
              "      fill: #174EA6;\n",
              "    }\n",
              "\n",
              "    [theme=dark] .colab-df-convert {\n",
              "      background-color: #3B4455;\n",
              "      fill: #D2E3FC;\n",
              "    }\n",
              "\n",
              "    [theme=dark] .colab-df-convert:hover {\n",
              "      background-color: #434B5C;\n",
              "      box-shadow: 0px 1px 3px 1px rgba(0, 0, 0, 0.15);\n",
              "      filter: drop-shadow(0px 1px 2px rgba(0, 0, 0, 0.3));\n",
              "      fill: #FFFFFF;\n",
              "    }\n",
              "  </style>\n",
              "\n",
              "      <script>\n",
              "        const buttonEl =\n",
              "          document.querySelector('#df-c8bb08c4-7ffe-447f-8f8a-a90ebb1b1de7 button.colab-df-convert');\n",
              "        buttonEl.style.display =\n",
              "          google.colab.kernel.accessAllowed ? 'block' : 'none';\n",
              "\n",
              "        async function convertToInteractive(key) {\n",
              "          const element = document.querySelector('#df-c8bb08c4-7ffe-447f-8f8a-a90ebb1b1de7');\n",
              "          const dataTable =\n",
              "            await google.colab.kernel.invokeFunction('convertToInteractive',\n",
              "                                                     [key], {});\n",
              "          if (!dataTable) return;\n",
              "\n",
              "          const docLinkHtml = 'Like what you see? Visit the ' +\n",
              "            '<a target=\"_blank\" href=https://colab.research.google.com/notebooks/data_table.ipynb>data table notebook</a>'\n",
              "            + ' to learn more about interactive tables.';\n",
              "          element.innerHTML = '';\n",
              "          dataTable['output_type'] = 'display_data';\n",
              "          await google.colab.output.renderOutput(dataTable, element);\n",
              "          const docLink = document.createElement('div');\n",
              "          docLink.innerHTML = docLinkHtml;\n",
              "          element.appendChild(docLink);\n",
              "        }\n",
              "      </script>\n",
              "    </div>\n",
              "  </div>\n",
              "  "
            ]
          },
          "metadata": {},
          "execution_count": 143
        }
      ]
    },
    {
      "cell_type": "code",
      "source": [
        "df1 = df0.loc[df0['status'].isin(['confirmed', 'reviewed'])]"
      ],
      "metadata": {
        "id": "wLdrxBCKd8ri"
      },
      "execution_count": 144,
      "outputs": []
    },
    {
      "cell_type": "code",
      "source": [
        "#df1['incidentdate'].value_counts()"
      ],
      "metadata": {
        "id": "cZFO3yccWp6E"
      },
      "execution_count": 145,
      "outputs": []
    },
    {
      "cell_type": "code",
      "source": [
        "df1.replace(to_replace='20014-07-08', value='2014-07-08',inplace=True)  # Replaces a typograpical error\n",
        "df1.replace(to_replace='2016-01-13 AB008', value='2016-01-13',inplace=True)\n",
        "df1.replace(to_replace='2016-04-14 AB014', value='2016-01-13',inplace=True)\n",
        "df1.replace(to_replace='2019-08-19 PH133', value='2019-08-19',inplace=True)\n",
        "df1.replace(to_replace='2019-08-19 PH133, 2020-12-15 PH030, 2021-09-17 PH012, 2021-09-20 PH012, 2021-10-31 PH012', value='2019-08-19',inplace=True)"
      ],
      "metadata": {
        "colab": {
          "base_uri": "https://localhost:8080/"
        },
        "id": "NIkB7WLZmkKp",
        "outputId": "cb539416-2796-4929-b9dd-a66521e393c2"
      },
      "execution_count": 146,
      "outputs": [
        {
          "output_type": "stream",
          "name": "stderr",
          "text": [
            "/usr/local/lib/python3.8/dist-packages/pandas/core/frame.py:5238: SettingWithCopyWarning: \n",
            "A value is trying to be set on a copy of a slice from a DataFrame\n",
            "\n",
            "See the caveats in the documentation: https://pandas.pydata.org/pandas-docs/stable/user_guide/indexing.html#returning-a-view-versus-a-copy\n",
            "  return super().replace(\n"
          ]
        }
      ]
    },
    {
      "cell_type": "code",
      "source": [
        "df1.incidentdate.isna().sum()"
      ],
      "metadata": {
        "colab": {
          "base_uri": "https://localhost:8080/"
        },
        "id": "boOHoTqJmyhd",
        "outputId": "77351908-e7e8-4376-de5a-427685db31c5"
      },
      "execution_count": 147,
      "outputs": [
        {
          "output_type": "execute_result",
          "data": {
            "text/plain": [
              "590"
            ]
          },
          "metadata": {},
          "execution_count": 147
        }
      ]
    },
    {
      "cell_type": "code",
      "source": [
        "df1.loc[pd.isnull(df1['incidentdate']), 'incidentdate'] = df1.reportdate\n",
        "df1.loc[pd.isnull(df1['incidentdate']), 'incidentdate'] = df1.formadate\n",
        "df1.loc[pd.isnull(df1['incidentdate']), 'incidentdate'] = df1.jivdate\n",
        "df1.loc[pd.isnull(df1['incidentdate']), 'incidentdate'] = df1.lastupdatedby"
      ],
      "metadata": {
        "colab": {
          "base_uri": "https://localhost:8080/"
        },
        "id": "PBfAcNrpnBLq",
        "outputId": "f9c105fe-4699-4a5e-dd1a-59e55441ceaa"
      },
      "execution_count": 148,
      "outputs": [
        {
          "output_type": "stream",
          "name": "stderr",
          "text": [
            "/usr/local/lib/python3.8/dist-packages/pandas/core/indexing.py:1773: SettingWithCopyWarning: \n",
            "A value is trying to be set on a copy of a slice from a DataFrame.\n",
            "Try using .loc[row_indexer,col_indexer] = value instead\n",
            "\n",
            "See the caveats in the documentation: https://pandas.pydata.org/pandas-docs/stable/user_guide/indexing.html#returning-a-view-versus-a-copy\n",
            "  self._setitem_single_column(ilocs[0], value, pi)\n"
          ]
        }
      ]
    },
    {
      "cell_type": "code",
      "source": [
        "df1.incidentdate.isna().sum()"
      ],
      "metadata": {
        "colab": {
          "base_uri": "https://localhost:8080/"
        },
        "id": "mONCBfX8nKvn",
        "outputId": "121ed3a7-6453-43d8-b6c9-606ff6af9c0f"
      },
      "execution_count": 149,
      "outputs": [
        {
          "output_type": "execute_result",
          "data": {
            "text/plain": [
              "0"
            ]
          },
          "metadata": {},
          "execution_count": 149
        }
      ]
    },
    {
      "cell_type": "code",
      "source": [
        "df1['contaminant'] = df1['contaminant'].fillna('notavailable')\n",
        "df1.loc[df1['contaminant'].str.startswith('other'), 'contaminant'] = 'other'\n",
        "df1.loc[df1['contaminant'].str.startswith('oth'), 'contaminant'] = 'other'\n",
        "df1.loc[df1['contaminant'].str.startswith('re'), 'contaminant'] = 're'\n",
        "df1.loc[df1['contaminant'].str.startswith('Die'), 'contaminant'] = 're'\n",
        "df1.loc[df1['contaminant'].str.startswith('not'), 'contaminant'] = 'na'\n",
        "df1.loc[df1['contaminant'].str.startswith('Con'), 'contaminant'] = 'co'\n",
        "df1.loc[df1['contaminant'].str.startswith('CON'), 'contaminant'] = 'co'\n",
        "df1.loc[df1['contaminant'].str.startswith('co'), 'contaminant'] = 'co'\n",
        "df1.loc[df1['contaminant'].str.startswith('NIL'), 'contaminant'] = 'na'\n",
        "df1.loc[df1['contaminant'].str.startswith('LPFO'), 'contaminant'] = 're'\n",
        "df1.loc[df1['contaminant'].str.startswith('Pro'), 'contaminant'] = 'other'\n",
        "df1.loc[df1['contaminant'].str.startswith('sheen'), 'contaminant'] = 'other'\n",
        "df1.loc[df1['contaminant'].str.startswith('Ass'), 'contaminant'] = 'other'\n",
        "df1.loc[df1['contaminant'].str.startswith('gas'), 'contaminant'] = 'ga'\n",
        "df1.loc[df1['contaminant'].str.startswith('wa'), 'contaminant'] = 'na'\n",
        "df1.loc[df1['contaminant'].str.startswith('F'), 'contaminant'] = 'na'\n",
        "df1.loc[df1['contaminant'].str.startswith('0'), 'contaminant'] = 'na'\n",
        "df1.loc[df1['contaminant'].str.startswith('gs'), 'contaminant'] = 'ga'\n",
        "df1.loc[df1['contaminant'].str.startswith('Crude'), 'contaminant'] = 'cr'\n",
        "df1.loc[df1['contaminant'].str.startswith('crude'), 'contaminant'] = 'cr'"
      ],
      "metadata": {
        "colab": {
          "base_uri": "https://localhost:8080/"
        },
        "id": "lECQ9MAqnNF4",
        "outputId": "5de3e7d7-7939-44df-cb12-0a683d9bac91"
      },
      "execution_count": 150,
      "outputs": [
        {
          "output_type": "stream",
          "name": "stderr",
          "text": [
            "<ipython-input-150-25e6b16a420f>:1: SettingWithCopyWarning: \n",
            "A value is trying to be set on a copy of a slice from a DataFrame.\n",
            "Try using .loc[row_indexer,col_indexer] = value instead\n",
            "\n",
            "See the caveats in the documentation: https://pandas.pydata.org/pandas-docs/stable/user_guide/indexing.html#returning-a-view-versus-a-copy\n",
            "  df1['contaminant'] = df1['contaminant'].fillna('notavailable')\n",
            "/usr/local/lib/python3.8/dist-packages/pandas/core/indexing.py:1817: SettingWithCopyWarning: \n",
            "A value is trying to be set on a copy of a slice from a DataFrame.\n",
            "Try using .loc[row_indexer,col_indexer] = value instead\n",
            "\n",
            "See the caveats in the documentation: https://pandas.pydata.org/pandas-docs/stable/user_guide/indexing.html#returning-a-view-versus-a-copy\n",
            "  self._setitem_single_column(loc, value, pi)\n"
          ]
        }
      ]
    },
    {
      "cell_type": "code",
      "source": [
        "df1.loc[df1['contaminant'].str.startswith('GAS'), 'contaminant'] = 'ga'\n",
        "df1.loc[df1['contaminant'].str.startswith('None'), 'contaminant'] = 'no'"
      ],
      "metadata": {
        "id": "lUDctcd3pOwk"
      },
      "execution_count": 151,
      "outputs": []
    },
    {
      "cell_type": "code",
      "source": [
        "df1.contaminant.unique()"
      ],
      "metadata": {
        "colab": {
          "base_uri": "https://localhost:8080/"
        },
        "id": "KwQYiCTCp6SH",
        "outputId": "433c152e-086b-4860-b3f3-376703a25266"
      },
      "execution_count": 152,
      "outputs": [
        {
          "output_type": "execute_result",
          "data": {
            "text/plain": [
              "array(['cr', 'ga', 'other', 'na', 'ch', 're', ' ', 'co', 'no',\n",
              "       'Non-Leaking', 'Non leaking'], dtype=object)"
            ]
          },
          "metadata": {},
          "execution_count": 152
        }
      ]
    },
    {
      "cell_type": "code",
      "source": [
        "df2 = df1.loc[df1['contaminant'].isin(['cr', 're', 'co', 'ch'])]"
      ],
      "metadata": {
        "id": "qGN_g-RhtIkL"
      },
      "execution_count": 153,
      "outputs": []
    },
    {
      "cell_type": "code",
      "source": [
        "df2.estimatedquantity.isna().sum()"
      ],
      "metadata": {
        "colab": {
          "base_uri": "https://localhost:8080/"
        },
        "id": "JBiJA91PtQPf",
        "outputId": "f1158c2a-1ea6-41d8-f379-faf8e80630d2"
      },
      "execution_count": 154,
      "outputs": [
        {
          "output_type": "execute_result",
          "data": {
            "text/plain": [
              "2340"
            ]
          },
          "metadata": {},
          "execution_count": 154
        }
      ]
    },
    {
      "cell_type": "code",
      "source": [
        "df2.loc[df2['estimatedquantity'].str.startswith('0', na=False), 'estimatedquantity'] = df2['estimatedquantity'].replace(',', '.',  regex=True)\n",
        "df2['estimatedquantity'] = df2['estimatedquantity'].replace(',', '',  regex=True)\n",
        "df2['estimatedquantity'] = df2['estimatedquantity'].str.replace('bbl', '')\n",
        "df2['estimatedquantity'] = df2['estimatedquantity'].str.replace('BBL', '')\n",
        "df2['estimatedquantity'] = df2['estimatedquantity'].str.replace('Bbl', '')\n",
        "df2['estimatedquantity'] = df2['estimatedquantity'].str.replace('Barrel', '')\n",
        "df2['estimatedquantity'] = df2['estimatedquantity'].str.replace('BARREL', '')\n",
        "df2['estimatedquantity'] = df2['estimatedquantity'].str.replace('bblS', '')\n",
        "df2['estimatedquantity'] = df2['estimatedquantity'].str.replace('BBLS', '')\n",
        "df2['estimatedquantity'] = df2['estimatedquantity'].str.replace('barrels', '')\n",
        "df2['estimatedquantity'] = df2['estimatedquantity'].str.replace('Barrels', '')\n",
        "df2['estimatedquantity'] = df2['estimatedquantity'].str.replace('I', '1')"
      ],
      "metadata": {
        "colab": {
          "base_uri": "https://localhost:8080/"
        },
        "id": "-hSBrqCktaVS",
        "outputId": "dc1a0415-b37c-4353-dfb2-6eaee4c5e512"
      },
      "execution_count": 155,
      "outputs": [
        {
          "output_type": "stream",
          "name": "stderr",
          "text": [
            "<ipython-input-155-bf50b7c2b421>:2: SettingWithCopyWarning: \n",
            "A value is trying to be set on a copy of a slice from a DataFrame.\n",
            "Try using .loc[row_indexer,col_indexer] = value instead\n",
            "\n",
            "See the caveats in the documentation: https://pandas.pydata.org/pandas-docs/stable/user_guide/indexing.html#returning-a-view-versus-a-copy\n",
            "  df2['estimatedquantity'] = df2['estimatedquantity'].replace(',', '',  regex=True)\n",
            "<ipython-input-155-bf50b7c2b421>:3: SettingWithCopyWarning: \n",
            "A value is trying to be set on a copy of a slice from a DataFrame.\n",
            "Try using .loc[row_indexer,col_indexer] = value instead\n",
            "\n",
            "See the caveats in the documentation: https://pandas.pydata.org/pandas-docs/stable/user_guide/indexing.html#returning-a-view-versus-a-copy\n",
            "  df2['estimatedquantity'] = df2['estimatedquantity'].str.replace('bbl', '')\n",
            "<ipython-input-155-bf50b7c2b421>:4: SettingWithCopyWarning: \n",
            "A value is trying to be set on a copy of a slice from a DataFrame.\n",
            "Try using .loc[row_indexer,col_indexer] = value instead\n",
            "\n",
            "See the caveats in the documentation: https://pandas.pydata.org/pandas-docs/stable/user_guide/indexing.html#returning-a-view-versus-a-copy\n",
            "  df2['estimatedquantity'] = df2['estimatedquantity'].str.replace('BBL', '')\n",
            "<ipython-input-155-bf50b7c2b421>:5: SettingWithCopyWarning: \n",
            "A value is trying to be set on a copy of a slice from a DataFrame.\n",
            "Try using .loc[row_indexer,col_indexer] = value instead\n",
            "\n",
            "See the caveats in the documentation: https://pandas.pydata.org/pandas-docs/stable/user_guide/indexing.html#returning-a-view-versus-a-copy\n",
            "  df2['estimatedquantity'] = df2['estimatedquantity'].str.replace('Bbl', '')\n",
            "<ipython-input-155-bf50b7c2b421>:6: SettingWithCopyWarning: \n",
            "A value is trying to be set on a copy of a slice from a DataFrame.\n",
            "Try using .loc[row_indexer,col_indexer] = value instead\n",
            "\n",
            "See the caveats in the documentation: https://pandas.pydata.org/pandas-docs/stable/user_guide/indexing.html#returning-a-view-versus-a-copy\n",
            "  df2['estimatedquantity'] = df2['estimatedquantity'].str.replace('Barrel', '')\n",
            "<ipython-input-155-bf50b7c2b421>:7: SettingWithCopyWarning: \n",
            "A value is trying to be set on a copy of a slice from a DataFrame.\n",
            "Try using .loc[row_indexer,col_indexer] = value instead\n",
            "\n",
            "See the caveats in the documentation: https://pandas.pydata.org/pandas-docs/stable/user_guide/indexing.html#returning-a-view-versus-a-copy\n",
            "  df2['estimatedquantity'] = df2['estimatedquantity'].str.replace('BARREL', '')\n",
            "<ipython-input-155-bf50b7c2b421>:8: SettingWithCopyWarning: \n",
            "A value is trying to be set on a copy of a slice from a DataFrame.\n",
            "Try using .loc[row_indexer,col_indexer] = value instead\n",
            "\n",
            "See the caveats in the documentation: https://pandas.pydata.org/pandas-docs/stable/user_guide/indexing.html#returning-a-view-versus-a-copy\n",
            "  df2['estimatedquantity'] = df2['estimatedquantity'].str.replace('bblS', '')\n",
            "<ipython-input-155-bf50b7c2b421>:9: SettingWithCopyWarning: \n",
            "A value is trying to be set on a copy of a slice from a DataFrame.\n",
            "Try using .loc[row_indexer,col_indexer] = value instead\n",
            "\n",
            "See the caveats in the documentation: https://pandas.pydata.org/pandas-docs/stable/user_guide/indexing.html#returning-a-view-versus-a-copy\n",
            "  df2['estimatedquantity'] = df2['estimatedquantity'].str.replace('BBLS', '')\n",
            "<ipython-input-155-bf50b7c2b421>:10: SettingWithCopyWarning: \n",
            "A value is trying to be set on a copy of a slice from a DataFrame.\n",
            "Try using .loc[row_indexer,col_indexer] = value instead\n",
            "\n",
            "See the caveats in the documentation: https://pandas.pydata.org/pandas-docs/stable/user_guide/indexing.html#returning-a-view-versus-a-copy\n",
            "  df2['estimatedquantity'] = df2['estimatedquantity'].str.replace('barrels', '')\n",
            "<ipython-input-155-bf50b7c2b421>:11: SettingWithCopyWarning: \n",
            "A value is trying to be set on a copy of a slice from a DataFrame.\n",
            "Try using .loc[row_indexer,col_indexer] = value instead\n",
            "\n",
            "See the caveats in the documentation: https://pandas.pydata.org/pandas-docs/stable/user_guide/indexing.html#returning-a-view-versus-a-copy\n",
            "  df2['estimatedquantity'] = df2['estimatedquantity'].str.replace('Barrels', '')\n",
            "<ipython-input-155-bf50b7c2b421>:12: SettingWithCopyWarning: \n",
            "A value is trying to be set on a copy of a slice from a DataFrame.\n",
            "Try using .loc[row_indexer,col_indexer] = value instead\n",
            "\n",
            "See the caveats in the documentation: https://pandas.pydata.org/pandas-docs/stable/user_guide/indexing.html#returning-a-view-versus-a-copy\n",
            "  df2['estimatedquantity'] = df2['estimatedquantity'].str.replace('I', '1')\n"
          ]
        }
      ]
    },
    {
      "cell_type": "code",
      "source": [
        "df2.loc[df2['estimatedquantity'].str.startswith('0', na=False), 'estimatedquantity'] = df2['estimatedquantity'].replace(',', '.',  regex=True)\n",
        "df2['estimatedquantity'] = df2['estimatedquantity'].replace(',', '',  regex=True)\n",
        "df2['estimatedquantity'] = df2['estimatedquantity'].str.replace('bbl', '')\n",
        "df2['estimatedquantity'] = df2['estimatedquantity'].str.replace('BBL', '')\n",
        "df2['estimatedquantity'] = df2['estimatedquantity'].str.replace('Bbl', '')\n",
        "df2['estimatedquantity'] = df2['estimatedquantity'].str.replace('Barrel', '')\n",
        "df2['estimatedquantity'] = df2['estimatedquantity'].str.replace('BARREL', '')\n",
        "df2['estimatedquantity'] = df2['estimatedquantity'].str.replace('bblS', '')\n",
        "df2['estimatedquantity'] = df2['estimatedquantity'].str.replace('BBLS', '')\n",
        "df2['estimatedquantity'] = df2['estimatedquantity'].str.replace('barrels', '')\n",
        "df2['estimatedquantity'] = df2['estimatedquantity'].str.replace('Barrels', '')\n",
        "df2['estimatedquantity'] = df2['estimatedquantity'].str.replace('I', '1')"
      ],
      "metadata": {
        "colab": {
          "base_uri": "https://localhost:8080/"
        },
        "id": "agGHaPh0rsYP",
        "outputId": "d77fc77e-f187-4a55-aa3d-7f0639800099"
      },
      "execution_count": 156,
      "outputs": [
        {
          "output_type": "stream",
          "name": "stderr",
          "text": [
            "<ipython-input-156-bf50b7c2b421>:2: SettingWithCopyWarning: \n",
            "A value is trying to be set on a copy of a slice from a DataFrame.\n",
            "Try using .loc[row_indexer,col_indexer] = value instead\n",
            "\n",
            "See the caveats in the documentation: https://pandas.pydata.org/pandas-docs/stable/user_guide/indexing.html#returning-a-view-versus-a-copy\n",
            "  df2['estimatedquantity'] = df2['estimatedquantity'].replace(',', '',  regex=True)\n",
            "<ipython-input-156-bf50b7c2b421>:3: SettingWithCopyWarning: \n",
            "A value is trying to be set on a copy of a slice from a DataFrame.\n",
            "Try using .loc[row_indexer,col_indexer] = value instead\n",
            "\n",
            "See the caveats in the documentation: https://pandas.pydata.org/pandas-docs/stable/user_guide/indexing.html#returning-a-view-versus-a-copy\n",
            "  df2['estimatedquantity'] = df2['estimatedquantity'].str.replace('bbl', '')\n",
            "<ipython-input-156-bf50b7c2b421>:4: SettingWithCopyWarning: \n",
            "A value is trying to be set on a copy of a slice from a DataFrame.\n",
            "Try using .loc[row_indexer,col_indexer] = value instead\n",
            "\n",
            "See the caveats in the documentation: https://pandas.pydata.org/pandas-docs/stable/user_guide/indexing.html#returning-a-view-versus-a-copy\n",
            "  df2['estimatedquantity'] = df2['estimatedquantity'].str.replace('BBL', '')\n",
            "<ipython-input-156-bf50b7c2b421>:5: SettingWithCopyWarning: \n",
            "A value is trying to be set on a copy of a slice from a DataFrame.\n",
            "Try using .loc[row_indexer,col_indexer] = value instead\n",
            "\n",
            "See the caveats in the documentation: https://pandas.pydata.org/pandas-docs/stable/user_guide/indexing.html#returning-a-view-versus-a-copy\n",
            "  df2['estimatedquantity'] = df2['estimatedquantity'].str.replace('Bbl', '')\n",
            "<ipython-input-156-bf50b7c2b421>:6: SettingWithCopyWarning: \n",
            "A value is trying to be set on a copy of a slice from a DataFrame.\n",
            "Try using .loc[row_indexer,col_indexer] = value instead\n",
            "\n",
            "See the caveats in the documentation: https://pandas.pydata.org/pandas-docs/stable/user_guide/indexing.html#returning-a-view-versus-a-copy\n",
            "  df2['estimatedquantity'] = df2['estimatedquantity'].str.replace('Barrel', '')\n",
            "<ipython-input-156-bf50b7c2b421>:7: SettingWithCopyWarning: \n",
            "A value is trying to be set on a copy of a slice from a DataFrame.\n",
            "Try using .loc[row_indexer,col_indexer] = value instead\n",
            "\n",
            "See the caveats in the documentation: https://pandas.pydata.org/pandas-docs/stable/user_guide/indexing.html#returning-a-view-versus-a-copy\n",
            "  df2['estimatedquantity'] = df2['estimatedquantity'].str.replace('BARREL', '')\n",
            "<ipython-input-156-bf50b7c2b421>:8: SettingWithCopyWarning: \n",
            "A value is trying to be set on a copy of a slice from a DataFrame.\n",
            "Try using .loc[row_indexer,col_indexer] = value instead\n",
            "\n",
            "See the caveats in the documentation: https://pandas.pydata.org/pandas-docs/stable/user_guide/indexing.html#returning-a-view-versus-a-copy\n",
            "  df2['estimatedquantity'] = df2['estimatedquantity'].str.replace('bblS', '')\n",
            "<ipython-input-156-bf50b7c2b421>:9: SettingWithCopyWarning: \n",
            "A value is trying to be set on a copy of a slice from a DataFrame.\n",
            "Try using .loc[row_indexer,col_indexer] = value instead\n",
            "\n",
            "See the caveats in the documentation: https://pandas.pydata.org/pandas-docs/stable/user_guide/indexing.html#returning-a-view-versus-a-copy\n",
            "  df2['estimatedquantity'] = df2['estimatedquantity'].str.replace('BBLS', '')\n",
            "<ipython-input-156-bf50b7c2b421>:10: SettingWithCopyWarning: \n",
            "A value is trying to be set on a copy of a slice from a DataFrame.\n",
            "Try using .loc[row_indexer,col_indexer] = value instead\n",
            "\n",
            "See the caveats in the documentation: https://pandas.pydata.org/pandas-docs/stable/user_guide/indexing.html#returning-a-view-versus-a-copy\n",
            "  df2['estimatedquantity'] = df2['estimatedquantity'].str.replace('barrels', '')\n",
            "<ipython-input-156-bf50b7c2b421>:11: SettingWithCopyWarning: \n",
            "A value is trying to be set on a copy of a slice from a DataFrame.\n",
            "Try using .loc[row_indexer,col_indexer] = value instead\n",
            "\n",
            "See the caveats in the documentation: https://pandas.pydata.org/pandas-docs/stable/user_guide/indexing.html#returning-a-view-versus-a-copy\n",
            "  df2['estimatedquantity'] = df2['estimatedquantity'].str.replace('Barrels', '')\n",
            "<ipython-input-156-bf50b7c2b421>:12: SettingWithCopyWarning: \n",
            "A value is trying to be set on a copy of a slice from a DataFrame.\n",
            "Try using .loc[row_indexer,col_indexer] = value instead\n",
            "\n",
            "See the caveats in the documentation: https://pandas.pydata.org/pandas-docs/stable/user_guide/indexing.html#returning-a-view-versus-a-copy\n",
            "  df2['estimatedquantity'] = df2['estimatedquantity'].str.replace('I', '1')\n"
          ]
        }
      ]
    },
    {
      "cell_type": "code",
      "source": [
        "df3 = df2.loc[(df2['incidentdate'] > '2005-12-31') & (df2['incidentdate'] <'2022-12-31')]"
      ],
      "metadata": {
        "id": "l_jN0i2et83G"
      },
      "execution_count": 157,
      "outputs": []
    },
    {
      "cell_type": "code",
      "source": [
        "df3['incidentdate'] = pd.DatetimeIndex(df3['incidentdate'])"
      ],
      "metadata": {
        "colab": {
          "base_uri": "https://localhost:8080/"
        },
        "id": "TFB3mAWo0WKO",
        "outputId": "d7e3fe23-cb92-455f-dc4b-c4bf007e07cd"
      },
      "execution_count": 158,
      "outputs": [
        {
          "output_type": "stream",
          "name": "stderr",
          "text": [
            "<ipython-input-158-3ce1f0b5bdb3>:1: SettingWithCopyWarning: \n",
            "A value is trying to be set on a copy of a slice from a DataFrame.\n",
            "Try using .loc[row_indexer,col_indexer] = value instead\n",
            "\n",
            "See the caveats in the documentation: https://pandas.pydata.org/pandas-docs/stable/user_guide/indexing.html#returning-a-view-versus-a-copy\n",
            "  df3['incidentdate'] = pd.DatetimeIndex(df3['incidentdate'])\n"
          ]
        }
      ]
    },
    {
      "cell_type": "code",
      "source": [
        "df3.estimatedquantity = pd.to_numeric(df3.estimatedquantity, errors = 'coerce')"
      ],
      "metadata": {
        "colab": {
          "base_uri": "https://localhost:8080/"
        },
        "id": "igN7epETeRKq",
        "outputId": "3fdfcaad-94d5-42a2-f09f-3cf2575e069b"
      },
      "execution_count": 159,
      "outputs": [
        {
          "output_type": "stream",
          "name": "stderr",
          "text": [
            "/usr/local/lib/python3.8/dist-packages/pandas/core/generic.py:5516: SettingWithCopyWarning: \n",
            "A value is trying to be set on a copy of a slice from a DataFrame.\n",
            "Try using .loc[row_indexer,col_indexer] = value instead\n",
            "\n",
            "See the caveats in the documentation: https://pandas.pydata.org/pandas-docs/stable/user_guide/indexing.html#returning-a-view-versus-a-copy\n",
            "  self[name] = value\n"
          ]
        }
      ]
    },
    {
      "cell_type": "code",
      "source": [
        "df3.columns"
      ],
      "metadata": {
        "colab": {
          "base_uri": "https://localhost:8080/"
        },
        "id": "JnDnKtDkqrhC",
        "outputId": "a29cc5dc-415f-4198-eb92-9dd6e564ab2d"
      },
      "execution_count": 160,
      "outputs": [
        {
          "output_type": "execute_result",
          "data": {
            "text/plain": [
              "Index(['id', 'status', 'company', 'incidentnumber', 'incidentdate', 'contaminant', 'estimatedquantity', 'sitelocationname', 'spillareahabitat', 'lastupdatedby', 'cause', 'updatefor', 'latitude', 'longitude', 'statesaffected', 'attachments', 'jivdate', 'lga', 'zonaloffice', 'certificatedate', 'certificatenumber', 'formadate', 'reportdate', 'spillstopdate', 'initialcontainmentmeasures', 'descriptionofimpact', 'formbdate', 'formcdate', 'jivpresent', 'typeoffacility', 'cleanupcompleteddate', 'cleanupmethods', 'cleanupdate', 'quantityrecovered', 'postcleanupinspectiondate', 'finalsamplingdate', 'estimatedspillarea', 'remediationstart', 'remediationtype', 'remediationend', 'postimpactassessmentdate', 'finallabresultsdate'], dtype='object')"
            ]
          },
          "metadata": {},
          "execution_count": 160
        }
      ]
    },
    {
      "cell_type": "code",
      "source": [
        "dfbi =  df3[['incidentdate','company','contaminant','estimatedquantity','spillareahabitat','cause']]\n",
        "dfbii = df3.set_index('incidentdate')"
      ],
      "metadata": {
        "id": "t3nU3-sBqRg9"
      },
      "execution_count": 161,
      "outputs": []
    },
    {
      "cell_type": "code",
      "source": [
        "from google.colab import files"
      ],
      "metadata": {
        "id": "RuXdHQ4EwCfV"
      },
      "execution_count": 162,
      "outputs": []
    },
    {
      "cell_type": "code",
      "source": [
        "dfbi.to_csv('dfbii.csv')"
      ],
      "metadata": {
        "id": "DLvrNpPJwjXO"
      },
      "execution_count": 163,
      "outputs": []
    },
    {
      "cell_type": "code",
      "source": [
        "#files.download('dfbii.csv')"
      ],
      "metadata": {
        "id": "RQnLhV5uwSoJ"
      },
      "execution_count": 164,
      "outputs": []
    },
    {
      "cell_type": "code",
      "source": [
        "df4w = df3.groupby([pd.Grouper(key='incidentdate', freq='W')])['estimatedquantity'].agg(['sum','size'])\n",
        "df4m = df3.groupby([pd.Grouper(key='incidentdate', freq='M')])['estimatedquantity'].agg(['sum','size'])"
      ],
      "metadata": {
        "id": "4kxgzKPNuSv2"
      },
      "execution_count": 165,
      "outputs": []
    },
    {
      "cell_type": "code",
      "source": [
        "df4m.tail()"
      ],
      "metadata": {
        "colab": {
          "base_uri": "https://localhost:8080/",
          "height": 238
        },
        "id": "LExj8xpJcG4g",
        "outputId": "b2345c7c-caed-4c63-860e-db15c201e5f3"
      },
      "execution_count": 166,
      "outputs": [
        {
          "output_type": "execute_result",
          "data": {
            "text/plain": [
              "                      sum  size\n",
              "incidentdate                   \n",
              "2022-08-31     863.269540    67\n",
              "2022-09-30     493.283100    60\n",
              "2022-10-31     538.790554    43\n",
              "2022-11-30    1240.313000    19\n",
              "2022-12-31     450.980580    16"
            ],
            "text/html": [
              "\n",
              "  <div id=\"df-190aeb1e-4984-497e-9ed4-c6350a5539a6\">\n",
              "    <div class=\"colab-df-container\">\n",
              "      <div>\n",
              "<style scoped>\n",
              "    .dataframe tbody tr th:only-of-type {\n",
              "        vertical-align: middle;\n",
              "    }\n",
              "\n",
              "    .dataframe tbody tr th {\n",
              "        vertical-align: top;\n",
              "    }\n",
              "\n",
              "    .dataframe thead th {\n",
              "        text-align: right;\n",
              "    }\n",
              "</style>\n",
              "<table border=\"1\" class=\"dataframe\">\n",
              "  <thead>\n",
              "    <tr style=\"text-align: right;\">\n",
              "      <th></th>\n",
              "      <th>sum</th>\n",
              "      <th>size</th>\n",
              "    </tr>\n",
              "    <tr>\n",
              "      <th>incidentdate</th>\n",
              "      <th></th>\n",
              "      <th></th>\n",
              "    </tr>\n",
              "  </thead>\n",
              "  <tbody>\n",
              "    <tr>\n",
              "      <th>2022-08-31</th>\n",
              "      <td>863.269540</td>\n",
              "      <td>67</td>\n",
              "    </tr>\n",
              "    <tr>\n",
              "      <th>2022-09-30</th>\n",
              "      <td>493.283100</td>\n",
              "      <td>60</td>\n",
              "    </tr>\n",
              "    <tr>\n",
              "      <th>2022-10-31</th>\n",
              "      <td>538.790554</td>\n",
              "      <td>43</td>\n",
              "    </tr>\n",
              "    <tr>\n",
              "      <th>2022-11-30</th>\n",
              "      <td>1240.313000</td>\n",
              "      <td>19</td>\n",
              "    </tr>\n",
              "    <tr>\n",
              "      <th>2022-12-31</th>\n",
              "      <td>450.980580</td>\n",
              "      <td>16</td>\n",
              "    </tr>\n",
              "  </tbody>\n",
              "</table>\n",
              "</div>\n",
              "      <button class=\"colab-df-convert\" onclick=\"convertToInteractive('df-190aeb1e-4984-497e-9ed4-c6350a5539a6')\"\n",
              "              title=\"Convert this dataframe to an interactive table.\"\n",
              "              style=\"display:none;\">\n",
              "        \n",
              "  <svg xmlns=\"http://www.w3.org/2000/svg\" height=\"24px\"viewBox=\"0 0 24 24\"\n",
              "       width=\"24px\">\n",
              "    <path d=\"M0 0h24v24H0V0z\" fill=\"none\"/>\n",
              "    <path d=\"M18.56 5.44l.94 2.06.94-2.06 2.06-.94-2.06-.94-.94-2.06-.94 2.06-2.06.94zm-11 1L8.5 8.5l.94-2.06 2.06-.94-2.06-.94L8.5 2.5l-.94 2.06-2.06.94zm10 10l.94 2.06.94-2.06 2.06-.94-2.06-.94-.94-2.06-.94 2.06-2.06.94z\"/><path d=\"M17.41 7.96l-1.37-1.37c-.4-.4-.92-.59-1.43-.59-.52 0-1.04.2-1.43.59L10.3 9.45l-7.72 7.72c-.78.78-.78 2.05 0 2.83L4 21.41c.39.39.9.59 1.41.59.51 0 1.02-.2 1.41-.59l7.78-7.78 2.81-2.81c.8-.78.8-2.07 0-2.86zM5.41 20L4 18.59l7.72-7.72 1.47 1.35L5.41 20z\"/>\n",
              "  </svg>\n",
              "      </button>\n",
              "      \n",
              "  <style>\n",
              "    .colab-df-container {\n",
              "      display:flex;\n",
              "      flex-wrap:wrap;\n",
              "      gap: 12px;\n",
              "    }\n",
              "\n",
              "    .colab-df-convert {\n",
              "      background-color: #E8F0FE;\n",
              "      border: none;\n",
              "      border-radius: 50%;\n",
              "      cursor: pointer;\n",
              "      display: none;\n",
              "      fill: #1967D2;\n",
              "      height: 32px;\n",
              "      padding: 0 0 0 0;\n",
              "      width: 32px;\n",
              "    }\n",
              "\n",
              "    .colab-df-convert:hover {\n",
              "      background-color: #E2EBFA;\n",
              "      box-shadow: 0px 1px 2px rgba(60, 64, 67, 0.3), 0px 1px 3px 1px rgba(60, 64, 67, 0.15);\n",
              "      fill: #174EA6;\n",
              "    }\n",
              "\n",
              "    [theme=dark] .colab-df-convert {\n",
              "      background-color: #3B4455;\n",
              "      fill: #D2E3FC;\n",
              "    }\n",
              "\n",
              "    [theme=dark] .colab-df-convert:hover {\n",
              "      background-color: #434B5C;\n",
              "      box-shadow: 0px 1px 3px 1px rgba(0, 0, 0, 0.15);\n",
              "      filter: drop-shadow(0px 1px 2px rgba(0, 0, 0, 0.3));\n",
              "      fill: #FFFFFF;\n",
              "    }\n",
              "  </style>\n",
              "\n",
              "      <script>\n",
              "        const buttonEl =\n",
              "          document.querySelector('#df-190aeb1e-4984-497e-9ed4-c6350a5539a6 button.colab-df-convert');\n",
              "        buttonEl.style.display =\n",
              "          google.colab.kernel.accessAllowed ? 'block' : 'none';\n",
              "\n",
              "        async function convertToInteractive(key) {\n",
              "          const element = document.querySelector('#df-190aeb1e-4984-497e-9ed4-c6350a5539a6');\n",
              "          const dataTable =\n",
              "            await google.colab.kernel.invokeFunction('convertToInteractive',\n",
              "                                                     [key], {});\n",
              "          if (!dataTable) return;\n",
              "\n",
              "          const docLinkHtml = 'Like what you see? Visit the ' +\n",
              "            '<a target=\"_blank\" href=https://colab.research.google.com/notebooks/data_table.ipynb>data table notebook</a>'\n",
              "            + ' to learn more about interactive tables.';\n",
              "          element.innerHTML = '';\n",
              "          dataTable['output_type'] = 'display_data';\n",
              "          await google.colab.output.renderOutput(dataTable, element);\n",
              "          const docLink = document.createElement('div');\n",
              "          docLink.innerHTML = docLinkHtml;\n",
              "          element.appendChild(docLink);\n",
              "        }\n",
              "      </script>\n",
              "    </div>\n",
              "  </div>\n",
              "  "
            ]
          },
          "metadata": {},
          "execution_count": 166
        }
      ]
    },
    {
      "cell_type": "code",
      "source": [
        "df4w = df4w.rename(columns={'sum':'estimatedqty', 'size':'spillno'})\n",
        "df4m = df4m.rename(columns={'sum':'estimatedqty', 'size':'spillno'})"
      ],
      "metadata": {
        "id": "PmN1_LleY1Fk"
      },
      "execution_count": 167,
      "outputs": []
    },
    {
      "cell_type": "code",
      "source": [
        "!pip install h2o -qq"
      ],
      "metadata": {
        "id": "XrMrI6eB1nWd"
      },
      "execution_count": 168,
      "outputs": []
    },
    {
      "cell_type": "code",
      "source": [
        "import h2o\n",
        "from h2o.automl import H2OAutoML"
      ],
      "metadata": {
        "id": "pQYm89xelwk_"
      },
      "execution_count": 169,
      "outputs": []
    },
    {
      "cell_type": "code",
      "source": [
        "# Start the H2O cluster (locally)\n",
        "h2o.init()"
      ],
      "metadata": {
        "colab": {
          "base_uri": "https://localhost:8080/",
          "height": 385
        },
        "id": "3-5dBnjo5vkG",
        "outputId": "8bded705-c533-4029-9ab2-fbf7bd675d21"
      },
      "execution_count": 170,
      "outputs": [
        {
          "output_type": "stream",
          "name": "stdout",
          "text": [
            "Checking whether there is an H2O instance running at http://localhost:54321. connected.\n"
          ]
        },
        {
          "output_type": "display_data",
          "data": {
            "text/plain": [
              "--------------------------  ----------------------------------\n",
              "H2O_cluster_uptime:         3 hours 1 min\n",
              "H2O_cluster_timezone:       Etc/UTC\n",
              "H2O_data_parsing_timezone:  UTC\n",
              "H2O_cluster_version:        3.40.0.1\n",
              "H2O_cluster_version_age:    10 hours and 54 minutes\n",
              "H2O_cluster_name:           H2O_from_python_unknownUser_3m7e13\n",
              "H2O_cluster_total_nodes:    1\n",
              "H2O_cluster_free_memory:    3.172 Gb\n",
              "H2O_cluster_total_cores:    2\n",
              "H2O_cluster_allowed_cores:  2\n",
              "H2O_cluster_status:         locked, healthy\n",
              "H2O_connection_url:         http://localhost:54321\n",
              "H2O_connection_proxy:       {\"http\": null, \"https\": null}\n",
              "H2O_internal_security:      False\n",
              "Python_version:             3.8.10 final\n",
              "--------------------------  ----------------------------------"
            ],
            "text/html": [
              "\n",
              "<style>\n",
              "\n",
              "#h2o-table-3.h2o-container {\n",
              "  overflow-x: auto;\n",
              "}\n",
              "#h2o-table-3 .h2o-table {\n",
              "  /* width: 100%; */\n",
              "  margin-top: 1em;\n",
              "  margin-bottom: 1em;\n",
              "}\n",
              "#h2o-table-3 .h2o-table caption {\n",
              "  white-space: nowrap;\n",
              "  caption-side: top;\n",
              "  text-align: left;\n",
              "  /* margin-left: 1em; */\n",
              "  margin: 0;\n",
              "  font-size: larger;\n",
              "}\n",
              "#h2o-table-3 .h2o-table thead {\n",
              "  white-space: nowrap; \n",
              "  position: sticky;\n",
              "  top: 0;\n",
              "  box-shadow: 0 -1px inset;\n",
              "}\n",
              "#h2o-table-3 .h2o-table tbody {\n",
              "  overflow: auto;\n",
              "}\n",
              "#h2o-table-3 .h2o-table th,\n",
              "#h2o-table-3 .h2o-table td {\n",
              "  text-align: right;\n",
              "  /* border: 1px solid; */\n",
              "}\n",
              "#h2o-table-3 .h2o-table tr:nth-child(even) {\n",
              "  /* background: #F5F5F5 */\n",
              "}\n",
              "\n",
              "</style>      \n",
              "<div id=\"h2o-table-3\" class=\"h2o-container\">\n",
              "  <table class=\"h2o-table\">\n",
              "    <caption></caption>\n",
              "    <thead></thead>\n",
              "    <tbody><tr><td>H2O_cluster_uptime:</td>\n",
              "<td>3 hours 1 min</td></tr>\n",
              "<tr><td>H2O_cluster_timezone:</td>\n",
              "<td>Etc/UTC</td></tr>\n",
              "<tr><td>H2O_data_parsing_timezone:</td>\n",
              "<td>UTC</td></tr>\n",
              "<tr><td>H2O_cluster_version:</td>\n",
              "<td>3.40.0.1</td></tr>\n",
              "<tr><td>H2O_cluster_version_age:</td>\n",
              "<td>10 hours and 54 minutes</td></tr>\n",
              "<tr><td>H2O_cluster_name:</td>\n",
              "<td>H2O_from_python_unknownUser_3m7e13</td></tr>\n",
              "<tr><td>H2O_cluster_total_nodes:</td>\n",
              "<td>1</td></tr>\n",
              "<tr><td>H2O_cluster_free_memory:</td>\n",
              "<td>3.172 Gb</td></tr>\n",
              "<tr><td>H2O_cluster_total_cores:</td>\n",
              "<td>2</td></tr>\n",
              "<tr><td>H2O_cluster_allowed_cores:</td>\n",
              "<td>2</td></tr>\n",
              "<tr><td>H2O_cluster_status:</td>\n",
              "<td>locked, healthy</td></tr>\n",
              "<tr><td>H2O_connection_url:</td>\n",
              "<td>http://localhost:54321</td></tr>\n",
              "<tr><td>H2O_connection_proxy:</td>\n",
              "<td>{\"http\": null, \"https\": null}</td></tr>\n",
              "<tr><td>H2O_internal_security:</td>\n",
              "<td>False</td></tr>\n",
              "<tr><td>Python_version:</td>\n",
              "<td>3.8.10 final</td></tr></tbody>\n",
              "  </table>\n",
              "</div>\n"
            ]
          },
          "metadata": {}
        }
      ]
    },
    {
      "cell_type": "code",
      "source": [
        "#Feature Engineering for the weekly datasets\n",
        "df4wi = df4w[[\"spillno\"]]\n",
        "df4wi= df4wi.reset_index()\n",
        "df4wi[\"month\"] = df4wi[\"incidentdate\"].dt.month\n",
        "df4wi[\"year\"] = df4wi[\"incidentdate\"].dt.year\n",
        "df4wi[\"week\"] = df4wi[\"incidentdate\"].dt.isocalendar().week\n",
        "df4wi = df4wi[[\"incidentdate\",\"spillno\",\"month\", \"year\",\"week\"]]\n",
        "df4wi = df4wi.set_index(\"incidentdate\")"
      ],
      "metadata": {
        "id": "Qaan4uSH7fe2"
      },
      "execution_count": 171,
      "outputs": []
    },
    {
      "cell_type": "code",
      "source": [
        "#Feature Engineering for the monthly datasets\n",
        "df4mi = df4m[[\"spillno\"]]\n",
        "df4mi= df4mi.reset_index()\n",
        "df4mi[\"month\"] = df4mi[\"incidentdate\"].dt.month\n",
        "df4mi[\"year\"] = df4mi[\"incidentdate\"].dt.year\n",
        "df4mi = df4mi[[\"incidentdate\",\"spillno\",\"month\", \"year\"]]\n",
        "df4mi = df4mi.set_index(\"incidentdate\")"
      ],
      "metadata": {
        "id": "SuqqNqOeFd4l"
      },
      "execution_count": 172,
      "outputs": []
    },
    {
      "cell_type": "code",
      "source": [
        "len(df4wi)"
      ],
      "metadata": {
        "colab": {
          "base_uri": "https://localhost:8080/"
        },
        "id": "QUrcKuevjNno",
        "outputId": "20bd7f58-43bf-4d5e-99dd-729e45504978"
      },
      "execution_count": 174,
      "outputs": [
        {
          "output_type": "execute_result",
          "data": {
            "text/plain": [
              "887"
            ]
          },
          "metadata": {},
          "execution_count": 174
        }
      ]
    },
    {
      "cell_type": "code",
      "source": [
        "#Split into train, validation and test\n",
        "\n",
        "data_train = df4wi.iloc[0 : 799]\n",
        "data_val = df4wi.iloc[799 : 879]\n",
        "data_test = df4wi.iloc[879 : ]\n",
        "\n",
        "\n",
        "\n",
        "print(\n",
        "    f\"Train dates      : {data_train.index.min()} --- {data_train.index.max()}\")\n",
        "\n",
        "print(\n",
        "    f\"Validation dates : {data_val.index.min()} --- {data_val.index.max()}\")\n",
        "\n",
        "print(\n",
        "    f\"Test dates       : {data_test.index.min()} --- {data_test.index.max()}\")\n",
        "print(f\"Length of Training dataset  : {len(data_train)}\")\n",
        "print(f\"Length of Validation dataset  : {len(data_val)}\")\n",
        "print(f\"Length of Test dataset  : {len(data_test)}\")\n",
        "\n"
      ],
      "metadata": {
        "colab": {
          "base_uri": "https://localhost:8080/"
        },
        "id": "xL7Q0f9vIw-M",
        "outputId": "b5531a47-7e12-405e-dcc3-a4d0277a3def"
      },
      "execution_count": 195,
      "outputs": [
        {
          "output_type": "stream",
          "name": "stdout",
          "text": [
            "Train dates      : 2006-01-08 00:00:00 --- 2021-04-25 00:00:00\n",
            "Validation dates : 2021-05-02 00:00:00 --- 2022-11-06 00:00:00\n",
            "Test dates       : 2022-11-13 00:00:00 --- 2023-01-01 00:00:00\n",
            "Length of Training dataset  : 799\n",
            "Length of Validation dataset  : 80\n",
            "Length of Test dataset  : 8\n"
          ]
        }
      ]
    }
  ]
}