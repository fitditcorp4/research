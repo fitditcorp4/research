{
  "nbformat": 4,
  "nbformat_minor": 0,
  "metadata": {
    "colab": {
      "provenance": [],
      "authorship_tag": "ABX9TyOTMaEFNBWULm7UryVve18e",
      "include_colab_link": true
    },
    "kernelspec": {
      "name": "python3",
      "display_name": "Python 3"
    },
    "language_info": {
      "name": "python"
    }
  },
  "cells": [
    {
      "cell_type": "markdown",
      "metadata": {
        "id": "view-in-github",
        "colab_type": "text"
      },
      "source": [
        "<a href=\"https://colab.research.google.com/github/fitditcorp4/research/blob/main/weekly_dataset02022023.ipynb\" target=\"_parent\"><img src=\"https://colab.research.google.com/assets/colab-badge.svg\" alt=\"Open In Colab\"/></a>"
      ]
    },
    {
      "cell_type": "code",
      "execution_count": 1,
      "metadata": {
        "id": "y-iUEG8KMJSN"
      },
      "outputs": [],
      "source": [
        "# imports library\n",
        "import pandas as pd\n",
        "import datetime as dt\n",
        "import matplotlib.pyplot as plt\n",
        "from matplotlib import pyplot\n",
        "import seaborn as sns\n",
        "import statsmodels.api as sm\n",
        "from sklearn.model_selection import train_test_split\n",
        "from sklearn.linear_model import LinearRegression\n",
        "from pandas.plotting import autocorrelation_plot\n",
        "from random import randrange\n",
        "from statsmodels.tsa.seasonal import seasonal_decompose\n",
        "#from pandas import datetime\n",
        "from datetime import datetime\n",
        "import numpy as np\n",
        "from pandas import read_json\n",
        "from pandas import read_csv\n",
        "from numpy import array\n",
        "import matplotlib.colors as colors\n",
        "import matplotlib.cm as cm\n",
        "from pylab import rcParams\n",
        "import warnings\n",
        "import itertools\n",
        "from pandas import Series\n",
        "# plt.style.use('fivethirtyeight')\n",
        "plt.style.use('classic')\n",
        "%matplotlib inline"
      ]
    },
    {
      "cell_type": "code",
      "source": [
        "pd.set_option('display.max_rows', 10000)\n",
        "pd.set_option('display.max_columns', 10000)\n",
        "pd.set_option('display.width', 1000)"
      ],
      "metadata": {
        "id": "9-CBvL_4N3dn"
      },
      "execution_count": 2,
      "outputs": []
    },
    {
      "cell_type": "code",
      "source": [
        "from google.colab import data_table\n",
        "data_table.enable_dataframe_formatter"
      ],
      "metadata": {
        "colab": {
          "base_uri": "https://localhost:8080/"
        },
        "id": "Upb5Xvh6cSUU",
        "outputId": "4370d4ca-8973-48bf-d06e-435618560601"
      },
      "execution_count": 3,
      "outputs": [
        {
          "output_type": "execute_result",
          "data": {
            "text/plain": [
              "<function google.colab.data_table.enable_dataframe_formatter()>"
            ]
          },
          "metadata": {},
          "execution_count": 3
        }
      ]
    },
    {
      "cell_type": "code",
      "source": [
        "df0 = pd.read_json('https://oilspillmonitor.ng/api/spill-data.php?dataset=nosdra&format=json')"
      ],
      "metadata": {
        "id": "G8m04E1yb08J"
      },
      "execution_count": 4,
      "outputs": []
    },
    {
      "cell_type": "code",
      "source": [
        " df0"
      ],
      "metadata": {
        "colab": {
          "base_uri": "https://localhost:8080/",
          "height": 783
        },
        "id": "hWKGITTQb8VI",
        "outputId": "19d7c645-7750-4e3b-9c87-6ac9523c2de3"
      },
      "execution_count": 5,
      "outputs": [
        {
          "output_type": "execute_result",
          "data": {
            "text/plain": [
              "           id     status  company    incidentnumber incidentdate contaminant estimatedquantity                             sitelocationname spillareahabitat     lastupdatedby cause  updatefor   latitude  longitude statesaffected                                        attachments     jivdate               lga zonaloffice certificatedate certificatenumber formadate  reportdate spillstopdate initialcontainmentmeasures                                descriptionofimpact formbdate formcdate                     jivpresent typeoffacility cleanupcompleteddate cleanupmethods cleanupdate quantityrecovered postcleanupinspectiondate finalsamplingdate estimatedspillarea remediationstart remediationtype remediationend postimpactassessmentdate finallabresultsdate\n",
              "0           2  confirmed    ADDAX  HSE/OBO/0611/101   2006-11-23          cr               225    Subsea Pipeline @ Mimbo Platform (OML123)               of            NOSDRA   NaN        NaN        NaN        NaN            NaN                                                NaN         NaN               NaN         NaN             NaN               NaN       NaN         NaN           NaN                        NaN                                                NaN       NaN       NaN                            NaN            NaN                  NaN            NaN         NaN               NaN                       NaN               NaN                NaN              NaN             NaN            NaN                      NaN                 NaN\n",
              "1           3  confirmed    ADDAX  HSE/OBO/0612/108   2006-12-18          cr               0.5         EBNE04HT @ Ebughu Platform (OML 123)               of            NOSDRA   eqf        NaN        NaN        NaN            NaN                                                NaN         NaN               NaN         NaN             NaN               NaN       NaN         NaN           NaN                        NaN                                                NaN       NaN       NaN                            NaN            NaN                  NaN            NaN         NaN               NaN                       NaN               NaN                NaN              NaN             NaN            NaN                      NaN                 NaN\n",
              "2           4  confirmed    ADDAX  HSE/OBO/0612/110   2006-12-27          cr                25                  South East of BOGI Platform               of            NOSDRA   NaN        NaN        NaN        NaN            NaN                                                NaN         NaN               NaN         NaN             NaN               NaN       NaN         NaN           NaN                        NaN                                                NaN       NaN       NaN                            NaN            NaN                  NaN            NaN         NaN               NaN                       NaN               NaN                NaN              NaN             NaN            NaN                      NaN                 NaN\n",
              "3           5  confirmed    ADDAX  HSE/OBO/0706/166   2007-05-14          cr                 2                           Adanga Platform                  of            NOSDRA   NaN        NaN        NaN        NaN            NaN                                                NaN         NaN               NaN         NaN             NaN               NaN       NaN         NaN           NaN                        NaN                                                NaN       NaN       NaN                            NaN            NaN                  NaN            NaN         NaN               NaN                       NaN               NaN                NaN              NaN             NaN            NaN                      NaN                 NaN\n",
              "4           6  confirmed    ADDAX  HSE/OBO/0708/201   2007-08-16          gs               NaN                Izombe Well #10LS 4\" Flowline               la            NOSDRA   NaN        NaN        NaN        NaN            NaN                                                NaN         NaN               NaN         NaN             NaN               NaN       NaN         NaN           NaN                        NaN                                                NaN       NaN       NaN                            NaN            NaN                  NaN            NaN         NaN               NaN                       NaN               NaN                NaN              NaN             NaN            NaN                      NaN                 NaN\n",
              "...       ...        ...      ...               ...          ...         ...               ...                                          ...              ...               ...   ...        ...        ...        ...            ...                                                ...         ...               ...         ...             ...               ...       ...         ...           ...                        ...                                                ...       ...       ...                            ...            ...                  ...            ...         ...               ...                       ...               ...                ...              ...             ...            ...                      ...                 ...\n",
              "16437  268127  confirmed  CHEVRON   NOSDRA/009/2023   2023-01-22          no               NaN      18'' DIBI-ABITEYE PIPELINE RoW AT DIBI.               sw  2023-02-08 WA003   sab   268127.0  5.7339444  5.2176944             DE  [{\"url\":\"data/attachments/t186274821c1/CJEVRON...  2023-01-31       Warri-North          wa             NaN               NaN       NaN  2023-01-23           NaN                        NaN  4'' Ball valve and double flange with pipe ext...       NaN       NaN  nosdra,cmmnt,cmpny,dpr,mnstry             pl                  NaN            NaN         NaN               NaN                       NaN               NaN                NaN              NaN             NaN            NaN                      NaN                 NaN\n",
              "16438  268124  confirmed  CHEVRON   NOSDRA/006/2023   2023-01-13          no               NaN        12'' OPUEKEBA-OLERO 12 ROW AT OPUAMA.               sw  2023-02-08 WA003   sab   268124.0  5.9068611  5.1013056             DE  [{\"url\":\"data/attachments/t186273806dd/CJEVRON...  2023-01-30       Warri-North          wa             NaN               NaN       NaN  2023-01-14           NaN                        NaN  12'' Mother Valve illegally attached at 12 O'c...       NaN       NaN  nosdra,cmmnt,cmpny,dpr,mnstry             fl                  NaN            NaN         NaN               NaN                       NaN               NaN                NaN              NaN             NaN            NaN                      NaN                 NaN\n",
              "16439  268123  confirmed  CHEVRON   NOSDRA/007/2023   2023-01-13          no               NaN        12'' OPUEKEBA-OLERO 12 RoW AT OPUAMA.               sw  2023-02-08 WA003   sab   268123.0  5.8866667  5.0988889             DE  [{\"url\":\"data/attachments/t186272cb460/CJEVRON...  2023-01-30       Warri-North          wa             NaN               NaN       NaN  2023-01-14           NaN                        NaN  3'' Hot tap Valve illegally attached at 12 O'c...       NaN       NaN  nosdra,cmmnt,cmpny,dpr,mnstry             fl                  NaN            NaN         NaN               NaN                       NaN               NaN                NaN              NaN             NaN            NaN                      NaN                 NaN\n",
              "16440  268122  confirmed  CHEVRON   NOSDRA/008/2023   2023-01-13          no               NaN  12'' OPUEKEBA-OLERO 12 ROW AT RMP 6 OPUAMA.               sw  2023-02-08 WA003   sab   268122.0  5.9068611  5.1013056             DE  [{\"url\":\"data/attachments/t186271a9c79/CJEVRON...  2023-01-30       Warri-North          wa             NaN               NaN       NaN  2023-01-14           NaN                        NaN  3'' Ballvalve with about 2'' pipe connection m...       NaN       NaN  nosdra,cmmnt,cmpny,dpr,mnstry             pl                  NaN            NaN         NaN               NaN                       NaN               NaN                NaN              NaN             NaN            NaN                      NaN                 NaN\n",
              "16441  268129  confirmed  CHEVRON   NOSDRA/005/2023   2023-01-05          no               NaN   12'' ABITEYE-ESCRAVOS PIPELINE AT SAGHARA.               la  2023-02-08 WA003   sab   268129.0  5.6474167  5.2488333             DE  [{\"url\":\"data/attachments/t18627578218/CJEVRON...  2023-01-31  Warri-South-West          wa             NaN               NaN       NaN  2023-01-06           NaN                        NaN  4'' Hot valve installed at 12 O'clock position...       NaN       NaN  nosdra,cmmnt,cmpny,dpr,mnstry             pl                  NaN            NaN         NaN               NaN                       NaN               NaN                NaN              NaN             NaN            NaN                      NaN                 NaN\n",
              "\n",
              "[16442 rows x 42 columns]"
            ],
            "text/html": [
              "\n",
              "  <div id=\"df-2e206e78-2eca-4979-9c5e-c3f95a8a1e79\">\n",
              "    <div class=\"colab-df-container\">\n",
              "      <div>\n",
              "<style scoped>\n",
              "    .dataframe tbody tr th:only-of-type {\n",
              "        vertical-align: middle;\n",
              "    }\n",
              "\n",
              "    .dataframe tbody tr th {\n",
              "        vertical-align: top;\n",
              "    }\n",
              "\n",
              "    .dataframe thead th {\n",
              "        text-align: right;\n",
              "    }\n",
              "</style>\n",
              "<table border=\"1\" class=\"dataframe\">\n",
              "  <thead>\n",
              "    <tr style=\"text-align: right;\">\n",
              "      <th></th>\n",
              "      <th>id</th>\n",
              "      <th>status</th>\n",
              "      <th>company</th>\n",
              "      <th>incidentnumber</th>\n",
              "      <th>incidentdate</th>\n",
              "      <th>contaminant</th>\n",
              "      <th>estimatedquantity</th>\n",
              "      <th>sitelocationname</th>\n",
              "      <th>spillareahabitat</th>\n",
              "      <th>lastupdatedby</th>\n",
              "      <th>cause</th>\n",
              "      <th>updatefor</th>\n",
              "      <th>latitude</th>\n",
              "      <th>longitude</th>\n",
              "      <th>statesaffected</th>\n",
              "      <th>attachments</th>\n",
              "      <th>jivdate</th>\n",
              "      <th>lga</th>\n",
              "      <th>zonaloffice</th>\n",
              "      <th>certificatedate</th>\n",
              "      <th>certificatenumber</th>\n",
              "      <th>formadate</th>\n",
              "      <th>reportdate</th>\n",
              "      <th>spillstopdate</th>\n",
              "      <th>initialcontainmentmeasures</th>\n",
              "      <th>descriptionofimpact</th>\n",
              "      <th>formbdate</th>\n",
              "      <th>formcdate</th>\n",
              "      <th>jivpresent</th>\n",
              "      <th>typeoffacility</th>\n",
              "      <th>cleanupcompleteddate</th>\n",
              "      <th>cleanupmethods</th>\n",
              "      <th>cleanupdate</th>\n",
              "      <th>quantityrecovered</th>\n",
              "      <th>postcleanupinspectiondate</th>\n",
              "      <th>finalsamplingdate</th>\n",
              "      <th>estimatedspillarea</th>\n",
              "      <th>remediationstart</th>\n",
              "      <th>remediationtype</th>\n",
              "      <th>remediationend</th>\n",
              "      <th>postimpactassessmentdate</th>\n",
              "      <th>finallabresultsdate</th>\n",
              "    </tr>\n",
              "  </thead>\n",
              "  <tbody>\n",
              "    <tr>\n",
              "      <th>0</th>\n",
              "      <td>2</td>\n",
              "      <td>confirmed</td>\n",
              "      <td>ADDAX</td>\n",
              "      <td>HSE/OBO/0611/101</td>\n",
              "      <td>2006-11-23</td>\n",
              "      <td>cr</td>\n",
              "      <td>225</td>\n",
              "      <td>Subsea Pipeline @ Mimbo Platform (OML123)</td>\n",
              "      <td>of</td>\n",
              "      <td>NOSDRA</td>\n",
              "      <td>NaN</td>\n",
              "      <td>NaN</td>\n",
              "      <td>NaN</td>\n",
              "      <td>NaN</td>\n",
              "      <td>NaN</td>\n",
              "      <td>NaN</td>\n",
              "      <td>NaN</td>\n",
              "      <td>NaN</td>\n",
              "      <td>NaN</td>\n",
              "      <td>NaN</td>\n",
              "      <td>NaN</td>\n",
              "      <td>NaN</td>\n",
              "      <td>NaN</td>\n",
              "      <td>NaN</td>\n",
              "      <td>NaN</td>\n",
              "      <td>NaN</td>\n",
              "      <td>NaN</td>\n",
              "      <td>NaN</td>\n",
              "      <td>NaN</td>\n",
              "      <td>NaN</td>\n",
              "      <td>NaN</td>\n",
              "      <td>NaN</td>\n",
              "      <td>NaN</td>\n",
              "      <td>NaN</td>\n",
              "      <td>NaN</td>\n",
              "      <td>NaN</td>\n",
              "      <td>NaN</td>\n",
              "      <td>NaN</td>\n",
              "      <td>NaN</td>\n",
              "      <td>NaN</td>\n",
              "      <td>NaN</td>\n",
              "      <td>NaN</td>\n",
              "    </tr>\n",
              "    <tr>\n",
              "      <th>1</th>\n",
              "      <td>3</td>\n",
              "      <td>confirmed</td>\n",
              "      <td>ADDAX</td>\n",
              "      <td>HSE/OBO/0612/108</td>\n",
              "      <td>2006-12-18</td>\n",
              "      <td>cr</td>\n",
              "      <td>0.5</td>\n",
              "      <td>EBNE04HT @ Ebughu Platform (OML 123)</td>\n",
              "      <td>of</td>\n",
              "      <td>NOSDRA</td>\n",
              "      <td>eqf</td>\n",
              "      <td>NaN</td>\n",
              "      <td>NaN</td>\n",
              "      <td>NaN</td>\n",
              "      <td>NaN</td>\n",
              "      <td>NaN</td>\n",
              "      <td>NaN</td>\n",
              "      <td>NaN</td>\n",
              "      <td>NaN</td>\n",
              "      <td>NaN</td>\n",
              "      <td>NaN</td>\n",
              "      <td>NaN</td>\n",
              "      <td>NaN</td>\n",
              "      <td>NaN</td>\n",
              "      <td>NaN</td>\n",
              "      <td>NaN</td>\n",
              "      <td>NaN</td>\n",
              "      <td>NaN</td>\n",
              "      <td>NaN</td>\n",
              "      <td>NaN</td>\n",
              "      <td>NaN</td>\n",
              "      <td>NaN</td>\n",
              "      <td>NaN</td>\n",
              "      <td>NaN</td>\n",
              "      <td>NaN</td>\n",
              "      <td>NaN</td>\n",
              "      <td>NaN</td>\n",
              "      <td>NaN</td>\n",
              "      <td>NaN</td>\n",
              "      <td>NaN</td>\n",
              "      <td>NaN</td>\n",
              "      <td>NaN</td>\n",
              "    </tr>\n",
              "    <tr>\n",
              "      <th>2</th>\n",
              "      <td>4</td>\n",
              "      <td>confirmed</td>\n",
              "      <td>ADDAX</td>\n",
              "      <td>HSE/OBO/0612/110</td>\n",
              "      <td>2006-12-27</td>\n",
              "      <td>cr</td>\n",
              "      <td>25</td>\n",
              "      <td>South East of BOGI Platform</td>\n",
              "      <td>of</td>\n",
              "      <td>NOSDRA</td>\n",
              "      <td>NaN</td>\n",
              "      <td>NaN</td>\n",
              "      <td>NaN</td>\n",
              "      <td>NaN</td>\n",
              "      <td>NaN</td>\n",
              "      <td>NaN</td>\n",
              "      <td>NaN</td>\n",
              "      <td>NaN</td>\n",
              "      <td>NaN</td>\n",
              "      <td>NaN</td>\n",
              "      <td>NaN</td>\n",
              "      <td>NaN</td>\n",
              "      <td>NaN</td>\n",
              "      <td>NaN</td>\n",
              "      <td>NaN</td>\n",
              "      <td>NaN</td>\n",
              "      <td>NaN</td>\n",
              "      <td>NaN</td>\n",
              "      <td>NaN</td>\n",
              "      <td>NaN</td>\n",
              "      <td>NaN</td>\n",
              "      <td>NaN</td>\n",
              "      <td>NaN</td>\n",
              "      <td>NaN</td>\n",
              "      <td>NaN</td>\n",
              "      <td>NaN</td>\n",
              "      <td>NaN</td>\n",
              "      <td>NaN</td>\n",
              "      <td>NaN</td>\n",
              "      <td>NaN</td>\n",
              "      <td>NaN</td>\n",
              "      <td>NaN</td>\n",
              "    </tr>\n",
              "    <tr>\n",
              "      <th>3</th>\n",
              "      <td>5</td>\n",
              "      <td>confirmed</td>\n",
              "      <td>ADDAX</td>\n",
              "      <td>HSE/OBO/0706/166</td>\n",
              "      <td>2007-05-14</td>\n",
              "      <td>cr</td>\n",
              "      <td>2</td>\n",
              "      <td>Adanga Platform</td>\n",
              "      <td>of</td>\n",
              "      <td>NOSDRA</td>\n",
              "      <td>NaN</td>\n",
              "      <td>NaN</td>\n",
              "      <td>NaN</td>\n",
              "      <td>NaN</td>\n",
              "      <td>NaN</td>\n",
              "      <td>NaN</td>\n",
              "      <td>NaN</td>\n",
              "      <td>NaN</td>\n",
              "      <td>NaN</td>\n",
              "      <td>NaN</td>\n",
              "      <td>NaN</td>\n",
              "      <td>NaN</td>\n",
              "      <td>NaN</td>\n",
              "      <td>NaN</td>\n",
              "      <td>NaN</td>\n",
              "      <td>NaN</td>\n",
              "      <td>NaN</td>\n",
              "      <td>NaN</td>\n",
              "      <td>NaN</td>\n",
              "      <td>NaN</td>\n",
              "      <td>NaN</td>\n",
              "      <td>NaN</td>\n",
              "      <td>NaN</td>\n",
              "      <td>NaN</td>\n",
              "      <td>NaN</td>\n",
              "      <td>NaN</td>\n",
              "      <td>NaN</td>\n",
              "      <td>NaN</td>\n",
              "      <td>NaN</td>\n",
              "      <td>NaN</td>\n",
              "      <td>NaN</td>\n",
              "      <td>NaN</td>\n",
              "    </tr>\n",
              "    <tr>\n",
              "      <th>4</th>\n",
              "      <td>6</td>\n",
              "      <td>confirmed</td>\n",
              "      <td>ADDAX</td>\n",
              "      <td>HSE/OBO/0708/201</td>\n",
              "      <td>2007-08-16</td>\n",
              "      <td>gs</td>\n",
              "      <td>NaN</td>\n",
              "      <td>Izombe Well #10LS 4\" Flowline</td>\n",
              "      <td>la</td>\n",
              "      <td>NOSDRA</td>\n",
              "      <td>NaN</td>\n",
              "      <td>NaN</td>\n",
              "      <td>NaN</td>\n",
              "      <td>NaN</td>\n",
              "      <td>NaN</td>\n",
              "      <td>NaN</td>\n",
              "      <td>NaN</td>\n",
              "      <td>NaN</td>\n",
              "      <td>NaN</td>\n",
              "      <td>NaN</td>\n",
              "      <td>NaN</td>\n",
              "      <td>NaN</td>\n",
              "      <td>NaN</td>\n",
              "      <td>NaN</td>\n",
              "      <td>NaN</td>\n",
              "      <td>NaN</td>\n",
              "      <td>NaN</td>\n",
              "      <td>NaN</td>\n",
              "      <td>NaN</td>\n",
              "      <td>NaN</td>\n",
              "      <td>NaN</td>\n",
              "      <td>NaN</td>\n",
              "      <td>NaN</td>\n",
              "      <td>NaN</td>\n",
              "      <td>NaN</td>\n",
              "      <td>NaN</td>\n",
              "      <td>NaN</td>\n",
              "      <td>NaN</td>\n",
              "      <td>NaN</td>\n",
              "      <td>NaN</td>\n",
              "      <td>NaN</td>\n",
              "      <td>NaN</td>\n",
              "    </tr>\n",
              "    <tr>\n",
              "      <th>...</th>\n",
              "      <td>...</td>\n",
              "      <td>...</td>\n",
              "      <td>...</td>\n",
              "      <td>...</td>\n",
              "      <td>...</td>\n",
              "      <td>...</td>\n",
              "      <td>...</td>\n",
              "      <td>...</td>\n",
              "      <td>...</td>\n",
              "      <td>...</td>\n",
              "      <td>...</td>\n",
              "      <td>...</td>\n",
              "      <td>...</td>\n",
              "      <td>...</td>\n",
              "      <td>...</td>\n",
              "      <td>...</td>\n",
              "      <td>...</td>\n",
              "      <td>...</td>\n",
              "      <td>...</td>\n",
              "      <td>...</td>\n",
              "      <td>...</td>\n",
              "      <td>...</td>\n",
              "      <td>...</td>\n",
              "      <td>...</td>\n",
              "      <td>...</td>\n",
              "      <td>...</td>\n",
              "      <td>...</td>\n",
              "      <td>...</td>\n",
              "      <td>...</td>\n",
              "      <td>...</td>\n",
              "      <td>...</td>\n",
              "      <td>...</td>\n",
              "      <td>...</td>\n",
              "      <td>...</td>\n",
              "      <td>...</td>\n",
              "      <td>...</td>\n",
              "      <td>...</td>\n",
              "      <td>...</td>\n",
              "      <td>...</td>\n",
              "      <td>...</td>\n",
              "      <td>...</td>\n",
              "      <td>...</td>\n",
              "    </tr>\n",
              "    <tr>\n",
              "      <th>16437</th>\n",
              "      <td>268127</td>\n",
              "      <td>confirmed</td>\n",
              "      <td>CHEVRON</td>\n",
              "      <td>NOSDRA/009/2023</td>\n",
              "      <td>2023-01-22</td>\n",
              "      <td>no</td>\n",
              "      <td>NaN</td>\n",
              "      <td>18'' DIBI-ABITEYE PIPELINE RoW AT DIBI.</td>\n",
              "      <td>sw</td>\n",
              "      <td>2023-02-08 WA003</td>\n",
              "      <td>sab</td>\n",
              "      <td>268127.0</td>\n",
              "      <td>5.7339444</td>\n",
              "      <td>5.2176944</td>\n",
              "      <td>DE</td>\n",
              "      <td>[{\"url\":\"data/attachments/t186274821c1/CJEVRON...</td>\n",
              "      <td>2023-01-31</td>\n",
              "      <td>Warri-North</td>\n",
              "      <td>wa</td>\n",
              "      <td>NaN</td>\n",
              "      <td>NaN</td>\n",
              "      <td>NaN</td>\n",
              "      <td>2023-01-23</td>\n",
              "      <td>NaN</td>\n",
              "      <td>NaN</td>\n",
              "      <td>4'' Ball valve and double flange with pipe ext...</td>\n",
              "      <td>NaN</td>\n",
              "      <td>NaN</td>\n",
              "      <td>nosdra,cmmnt,cmpny,dpr,mnstry</td>\n",
              "      <td>pl</td>\n",
              "      <td>NaN</td>\n",
              "      <td>NaN</td>\n",
              "      <td>NaN</td>\n",
              "      <td>NaN</td>\n",
              "      <td>NaN</td>\n",
              "      <td>NaN</td>\n",
              "      <td>NaN</td>\n",
              "      <td>NaN</td>\n",
              "      <td>NaN</td>\n",
              "      <td>NaN</td>\n",
              "      <td>NaN</td>\n",
              "      <td>NaN</td>\n",
              "    </tr>\n",
              "    <tr>\n",
              "      <th>16438</th>\n",
              "      <td>268124</td>\n",
              "      <td>confirmed</td>\n",
              "      <td>CHEVRON</td>\n",
              "      <td>NOSDRA/006/2023</td>\n",
              "      <td>2023-01-13</td>\n",
              "      <td>no</td>\n",
              "      <td>NaN</td>\n",
              "      <td>12'' OPUEKEBA-OLERO 12 ROW AT OPUAMA.</td>\n",
              "      <td>sw</td>\n",
              "      <td>2023-02-08 WA003</td>\n",
              "      <td>sab</td>\n",
              "      <td>268124.0</td>\n",
              "      <td>5.9068611</td>\n",
              "      <td>5.1013056</td>\n",
              "      <td>DE</td>\n",
              "      <td>[{\"url\":\"data/attachments/t186273806dd/CJEVRON...</td>\n",
              "      <td>2023-01-30</td>\n",
              "      <td>Warri-North</td>\n",
              "      <td>wa</td>\n",
              "      <td>NaN</td>\n",
              "      <td>NaN</td>\n",
              "      <td>NaN</td>\n",
              "      <td>2023-01-14</td>\n",
              "      <td>NaN</td>\n",
              "      <td>NaN</td>\n",
              "      <td>12'' Mother Valve illegally attached at 12 O'c...</td>\n",
              "      <td>NaN</td>\n",
              "      <td>NaN</td>\n",
              "      <td>nosdra,cmmnt,cmpny,dpr,mnstry</td>\n",
              "      <td>fl</td>\n",
              "      <td>NaN</td>\n",
              "      <td>NaN</td>\n",
              "      <td>NaN</td>\n",
              "      <td>NaN</td>\n",
              "      <td>NaN</td>\n",
              "      <td>NaN</td>\n",
              "      <td>NaN</td>\n",
              "      <td>NaN</td>\n",
              "      <td>NaN</td>\n",
              "      <td>NaN</td>\n",
              "      <td>NaN</td>\n",
              "      <td>NaN</td>\n",
              "    </tr>\n",
              "    <tr>\n",
              "      <th>16439</th>\n",
              "      <td>268123</td>\n",
              "      <td>confirmed</td>\n",
              "      <td>CHEVRON</td>\n",
              "      <td>NOSDRA/007/2023</td>\n",
              "      <td>2023-01-13</td>\n",
              "      <td>no</td>\n",
              "      <td>NaN</td>\n",
              "      <td>12'' OPUEKEBA-OLERO 12 RoW AT OPUAMA.</td>\n",
              "      <td>sw</td>\n",
              "      <td>2023-02-08 WA003</td>\n",
              "      <td>sab</td>\n",
              "      <td>268123.0</td>\n",
              "      <td>5.8866667</td>\n",
              "      <td>5.0988889</td>\n",
              "      <td>DE</td>\n",
              "      <td>[{\"url\":\"data/attachments/t186272cb460/CJEVRON...</td>\n",
              "      <td>2023-01-30</td>\n",
              "      <td>Warri-North</td>\n",
              "      <td>wa</td>\n",
              "      <td>NaN</td>\n",
              "      <td>NaN</td>\n",
              "      <td>NaN</td>\n",
              "      <td>2023-01-14</td>\n",
              "      <td>NaN</td>\n",
              "      <td>NaN</td>\n",
              "      <td>3'' Hot tap Valve illegally attached at 12 O'c...</td>\n",
              "      <td>NaN</td>\n",
              "      <td>NaN</td>\n",
              "      <td>nosdra,cmmnt,cmpny,dpr,mnstry</td>\n",
              "      <td>fl</td>\n",
              "      <td>NaN</td>\n",
              "      <td>NaN</td>\n",
              "      <td>NaN</td>\n",
              "      <td>NaN</td>\n",
              "      <td>NaN</td>\n",
              "      <td>NaN</td>\n",
              "      <td>NaN</td>\n",
              "      <td>NaN</td>\n",
              "      <td>NaN</td>\n",
              "      <td>NaN</td>\n",
              "      <td>NaN</td>\n",
              "      <td>NaN</td>\n",
              "    </tr>\n",
              "    <tr>\n",
              "      <th>16440</th>\n",
              "      <td>268122</td>\n",
              "      <td>confirmed</td>\n",
              "      <td>CHEVRON</td>\n",
              "      <td>NOSDRA/008/2023</td>\n",
              "      <td>2023-01-13</td>\n",
              "      <td>no</td>\n",
              "      <td>NaN</td>\n",
              "      <td>12'' OPUEKEBA-OLERO 12 ROW AT RMP 6 OPUAMA.</td>\n",
              "      <td>sw</td>\n",
              "      <td>2023-02-08 WA003</td>\n",
              "      <td>sab</td>\n",
              "      <td>268122.0</td>\n",
              "      <td>5.9068611</td>\n",
              "      <td>5.1013056</td>\n",
              "      <td>DE</td>\n",
              "      <td>[{\"url\":\"data/attachments/t186271a9c79/CJEVRON...</td>\n",
              "      <td>2023-01-30</td>\n",
              "      <td>Warri-North</td>\n",
              "      <td>wa</td>\n",
              "      <td>NaN</td>\n",
              "      <td>NaN</td>\n",
              "      <td>NaN</td>\n",
              "      <td>2023-01-14</td>\n",
              "      <td>NaN</td>\n",
              "      <td>NaN</td>\n",
              "      <td>3'' Ballvalve with about 2'' pipe connection m...</td>\n",
              "      <td>NaN</td>\n",
              "      <td>NaN</td>\n",
              "      <td>nosdra,cmmnt,cmpny,dpr,mnstry</td>\n",
              "      <td>pl</td>\n",
              "      <td>NaN</td>\n",
              "      <td>NaN</td>\n",
              "      <td>NaN</td>\n",
              "      <td>NaN</td>\n",
              "      <td>NaN</td>\n",
              "      <td>NaN</td>\n",
              "      <td>NaN</td>\n",
              "      <td>NaN</td>\n",
              "      <td>NaN</td>\n",
              "      <td>NaN</td>\n",
              "      <td>NaN</td>\n",
              "      <td>NaN</td>\n",
              "    </tr>\n",
              "    <tr>\n",
              "      <th>16441</th>\n",
              "      <td>268129</td>\n",
              "      <td>confirmed</td>\n",
              "      <td>CHEVRON</td>\n",
              "      <td>NOSDRA/005/2023</td>\n",
              "      <td>2023-01-05</td>\n",
              "      <td>no</td>\n",
              "      <td>NaN</td>\n",
              "      <td>12'' ABITEYE-ESCRAVOS PIPELINE AT SAGHARA.</td>\n",
              "      <td>la</td>\n",
              "      <td>2023-02-08 WA003</td>\n",
              "      <td>sab</td>\n",
              "      <td>268129.0</td>\n",
              "      <td>5.6474167</td>\n",
              "      <td>5.2488333</td>\n",
              "      <td>DE</td>\n",
              "      <td>[{\"url\":\"data/attachments/t18627578218/CJEVRON...</td>\n",
              "      <td>2023-01-31</td>\n",
              "      <td>Warri-South-West</td>\n",
              "      <td>wa</td>\n",
              "      <td>NaN</td>\n",
              "      <td>NaN</td>\n",
              "      <td>NaN</td>\n",
              "      <td>2023-01-06</td>\n",
              "      <td>NaN</td>\n",
              "      <td>NaN</td>\n",
              "      <td>4'' Hot valve installed at 12 O'clock position...</td>\n",
              "      <td>NaN</td>\n",
              "      <td>NaN</td>\n",
              "      <td>nosdra,cmmnt,cmpny,dpr,mnstry</td>\n",
              "      <td>pl</td>\n",
              "      <td>NaN</td>\n",
              "      <td>NaN</td>\n",
              "      <td>NaN</td>\n",
              "      <td>NaN</td>\n",
              "      <td>NaN</td>\n",
              "      <td>NaN</td>\n",
              "      <td>NaN</td>\n",
              "      <td>NaN</td>\n",
              "      <td>NaN</td>\n",
              "      <td>NaN</td>\n",
              "      <td>NaN</td>\n",
              "      <td>NaN</td>\n",
              "    </tr>\n",
              "  </tbody>\n",
              "</table>\n",
              "<p>16442 rows × 42 columns</p>\n",
              "</div>\n",
              "      <button class=\"colab-df-convert\" onclick=\"convertToInteractive('df-2e206e78-2eca-4979-9c5e-c3f95a8a1e79')\"\n",
              "              title=\"Convert this dataframe to an interactive table.\"\n",
              "              style=\"display:none;\">\n",
              "        \n",
              "  <svg xmlns=\"http://www.w3.org/2000/svg\" height=\"24px\"viewBox=\"0 0 24 24\"\n",
              "       width=\"24px\">\n",
              "    <path d=\"M0 0h24v24H0V0z\" fill=\"none\"/>\n",
              "    <path d=\"M18.56 5.44l.94 2.06.94-2.06 2.06-.94-2.06-.94-.94-2.06-.94 2.06-2.06.94zm-11 1L8.5 8.5l.94-2.06 2.06-.94-2.06-.94L8.5 2.5l-.94 2.06-2.06.94zm10 10l.94 2.06.94-2.06 2.06-.94-2.06-.94-.94-2.06-.94 2.06-2.06.94z\"/><path d=\"M17.41 7.96l-1.37-1.37c-.4-.4-.92-.59-1.43-.59-.52 0-1.04.2-1.43.59L10.3 9.45l-7.72 7.72c-.78.78-.78 2.05 0 2.83L4 21.41c.39.39.9.59 1.41.59.51 0 1.02-.2 1.41-.59l7.78-7.78 2.81-2.81c.8-.78.8-2.07 0-2.86zM5.41 20L4 18.59l7.72-7.72 1.47 1.35L5.41 20z\"/>\n",
              "  </svg>\n",
              "      </button>\n",
              "      \n",
              "  <style>\n",
              "    .colab-df-container {\n",
              "      display:flex;\n",
              "      flex-wrap:wrap;\n",
              "      gap: 12px;\n",
              "    }\n",
              "\n",
              "    .colab-df-convert {\n",
              "      background-color: #E8F0FE;\n",
              "      border: none;\n",
              "      border-radius: 50%;\n",
              "      cursor: pointer;\n",
              "      display: none;\n",
              "      fill: #1967D2;\n",
              "      height: 32px;\n",
              "      padding: 0 0 0 0;\n",
              "      width: 32px;\n",
              "    }\n",
              "\n",
              "    .colab-df-convert:hover {\n",
              "      background-color: #E2EBFA;\n",
              "      box-shadow: 0px 1px 2px rgba(60, 64, 67, 0.3), 0px 1px 3px 1px rgba(60, 64, 67, 0.15);\n",
              "      fill: #174EA6;\n",
              "    }\n",
              "\n",
              "    [theme=dark] .colab-df-convert {\n",
              "      background-color: #3B4455;\n",
              "      fill: #D2E3FC;\n",
              "    }\n",
              "\n",
              "    [theme=dark] .colab-df-convert:hover {\n",
              "      background-color: #434B5C;\n",
              "      box-shadow: 0px 1px 3px 1px rgba(0, 0, 0, 0.15);\n",
              "      filter: drop-shadow(0px 1px 2px rgba(0, 0, 0, 0.3));\n",
              "      fill: #FFFFFF;\n",
              "    }\n",
              "  </style>\n",
              "\n",
              "      <script>\n",
              "        const buttonEl =\n",
              "          document.querySelector('#df-2e206e78-2eca-4979-9c5e-c3f95a8a1e79 button.colab-df-convert');\n",
              "        buttonEl.style.display =\n",
              "          google.colab.kernel.accessAllowed ? 'block' : 'none';\n",
              "\n",
              "        async function convertToInteractive(key) {\n",
              "          const element = document.querySelector('#df-2e206e78-2eca-4979-9c5e-c3f95a8a1e79');\n",
              "          const dataTable =\n",
              "            await google.colab.kernel.invokeFunction('convertToInteractive',\n",
              "                                                     [key], {});\n",
              "          if (!dataTable) return;\n",
              "\n",
              "          const docLinkHtml = 'Like what you see? Visit the ' +\n",
              "            '<a target=\"_blank\" href=https://colab.research.google.com/notebooks/data_table.ipynb>data table notebook</a>'\n",
              "            + ' to learn more about interactive tables.';\n",
              "          element.innerHTML = '';\n",
              "          dataTable['output_type'] = 'display_data';\n",
              "          await google.colab.output.renderOutput(dataTable, element);\n",
              "          const docLink = document.createElement('div');\n",
              "          docLink.innerHTML = docLinkHtml;\n",
              "          element.appendChild(docLink);\n",
              "        }\n",
              "      </script>\n",
              "    </div>\n",
              "  </div>\n",
              "  "
            ]
          },
          "metadata": {},
          "execution_count": 5
        }
      ]
    },
    {
      "cell_type": "code",
      "source": [
        "df1 = df0.loc[df0['status'].isin(['confirmed', 'reviewed'])]"
      ],
      "metadata": {
        "id": "wLdrxBCKd8ri"
      },
      "execution_count": 6,
      "outputs": []
    },
    {
      "cell_type": "code",
      "source": [
        "#df1['incidentdate'].value_counts()"
      ],
      "metadata": {
        "id": "cZFO3yccWp6E"
      },
      "execution_count": 7,
      "outputs": []
    },
    {
      "cell_type": "code",
      "source": [
        "df1.replace(to_replace='20014-07-08', value='2014-07-08',inplace=True)  # Replaces a typograpical error\n",
        "df1.replace(to_replace='2016-01-13 AB008', value='2016-01-13',inplace=True)\n",
        "df1.replace(to_replace='2016-04-14 AB014', value='2016-01-13',inplace=True)\n",
        "df1.replace(to_replace='2019-08-19 PH133', value='2019-08-19',inplace=True)\n",
        "df1.replace(to_replace='2019-08-19 PH133, 2020-12-15 PH030, 2021-09-17 PH012, 2021-09-20 PH012, 2021-10-31 PH012', value='2019-08-19',inplace=True)"
      ],
      "metadata": {
        "colab": {
          "base_uri": "https://localhost:8080/"
        },
        "id": "NIkB7WLZmkKp",
        "outputId": "54901f2e-bb2e-48c5-f7f8-0e75490c842b"
      },
      "execution_count": 8,
      "outputs": [
        {
          "output_type": "stream",
          "name": "stderr",
          "text": [
            "/usr/local/lib/python3.8/dist-packages/pandas/core/frame.py:5238: SettingWithCopyWarning: \n",
            "A value is trying to be set on a copy of a slice from a DataFrame\n",
            "\n",
            "See the caveats in the documentation: https://pandas.pydata.org/pandas-docs/stable/user_guide/indexing.html#returning-a-view-versus-a-copy\n",
            "  return super().replace(\n"
          ]
        }
      ]
    },
    {
      "cell_type": "code",
      "source": [
        "df1.incidentdate.isna().sum()"
      ],
      "metadata": {
        "colab": {
          "base_uri": "https://localhost:8080/"
        },
        "id": "boOHoTqJmyhd",
        "outputId": "17143191-2b87-4d52-8128-44477da8473b"
      },
      "execution_count": 9,
      "outputs": [
        {
          "output_type": "execute_result",
          "data": {
            "text/plain": [
              "590"
            ]
          },
          "metadata": {},
          "execution_count": 9
        }
      ]
    },
    {
      "cell_type": "code",
      "source": [
        "df1.loc[pd.isnull(df1['incidentdate']), 'incidentdate'] = df1.reportdate\n",
        "df1.loc[pd.isnull(df1['incidentdate']), 'incidentdate'] = df1.formadate\n",
        "df1.loc[pd.isnull(df1['incidentdate']), 'incidentdate'] = df1.jivdate\n",
        "df1.loc[pd.isnull(df1['incidentdate']), 'incidentdate'] = df1.lastupdatedby"
      ],
      "metadata": {
        "colab": {
          "base_uri": "https://localhost:8080/"
        },
        "id": "PBfAcNrpnBLq",
        "outputId": "47a8db95-5f0c-4e60-ac04-13fc0889ec2d"
      },
      "execution_count": 10,
      "outputs": [
        {
          "output_type": "stream",
          "name": "stderr",
          "text": [
            "/usr/local/lib/python3.8/dist-packages/pandas/core/indexing.py:1773: SettingWithCopyWarning: \n",
            "A value is trying to be set on a copy of a slice from a DataFrame.\n",
            "Try using .loc[row_indexer,col_indexer] = value instead\n",
            "\n",
            "See the caveats in the documentation: https://pandas.pydata.org/pandas-docs/stable/user_guide/indexing.html#returning-a-view-versus-a-copy\n",
            "  self._setitem_single_column(ilocs[0], value, pi)\n"
          ]
        }
      ]
    },
    {
      "cell_type": "code",
      "source": [
        "df1.incidentdate.isna().sum()"
      ],
      "metadata": {
        "colab": {
          "base_uri": "https://localhost:8080/"
        },
        "id": "mONCBfX8nKvn",
        "outputId": "e27fe9ba-3d64-4bff-81ec-ea54c849488d"
      },
      "execution_count": 11,
      "outputs": [
        {
          "output_type": "execute_result",
          "data": {
            "text/plain": [
              "0"
            ]
          },
          "metadata": {},
          "execution_count": 11
        }
      ]
    },
    {
      "cell_type": "code",
      "source": [
        "df1['contaminant'] = df1['contaminant'].fillna('notavailable')\n",
        "df1.loc[df1['contaminant'].str.startswith('other'), 'contaminant'] = 'other'\n",
        "df1.loc[df1['contaminant'].str.startswith('oth'), 'contaminant'] = 'other'\n",
        "df1.loc[df1['contaminant'].str.startswith('re'), 'contaminant'] = 're'\n",
        "df1.loc[df1['contaminant'].str.startswith('Die'), 'contaminant'] = 're'\n",
        "df1.loc[df1['contaminant'].str.startswith('not'), 'contaminant'] = 'na'\n",
        "df1.loc[df1['contaminant'].str.startswith('Con'), 'contaminant'] = 'co'\n",
        "df1.loc[df1['contaminant'].str.startswith('CON'), 'contaminant'] = 'co'\n",
        "df1.loc[df1['contaminant'].str.startswith('co'), 'contaminant'] = 'co'\n",
        "df1.loc[df1['contaminant'].str.startswith('NIL'), 'contaminant'] = 'na'\n",
        "df1.loc[df1['contaminant'].str.startswith('LPFO'), 'contaminant'] = 're'\n",
        "df1.loc[df1['contaminant'].str.startswith('Pro'), 'contaminant'] = 'other'\n",
        "df1.loc[df1['contaminant'].str.startswith('sheen'), 'contaminant'] = 'other'\n",
        "df1.loc[df1['contaminant'].str.startswith('Ass'), 'contaminant'] = 'other'\n",
        "df1.loc[df1['contaminant'].str.startswith('gas'), 'contaminant'] = 'ga'\n",
        "df1.loc[df1['contaminant'].str.startswith('wa'), 'contaminant'] = 'na'\n",
        "df1.loc[df1['contaminant'].str.startswith('F'), 'contaminant'] = 'na'\n",
        "df1.loc[df1['contaminant'].str.startswith('0'), 'contaminant'] = 'na'\n",
        "df1.loc[df1['contaminant'].str.startswith('gs'), 'contaminant'] = 'ga'\n",
        "df1.loc[df1['contaminant'].str.startswith('Crude'), 'contaminant'] = 'cr'\n",
        "df1.loc[df1['contaminant'].str.startswith('crude'), 'contaminant'] = 'cr'"
      ],
      "metadata": {
        "colab": {
          "base_uri": "https://localhost:8080/"
        },
        "id": "lECQ9MAqnNF4",
        "outputId": "042186cc-528d-4551-f761-aa3a0f4a5766"
      },
      "execution_count": 12,
      "outputs": [
        {
          "output_type": "stream",
          "name": "stderr",
          "text": [
            "<ipython-input-12-25e6b16a420f>:1: SettingWithCopyWarning: \n",
            "A value is trying to be set on a copy of a slice from a DataFrame.\n",
            "Try using .loc[row_indexer,col_indexer] = value instead\n",
            "\n",
            "See the caveats in the documentation: https://pandas.pydata.org/pandas-docs/stable/user_guide/indexing.html#returning-a-view-versus-a-copy\n",
            "  df1['contaminant'] = df1['contaminant'].fillna('notavailable')\n",
            "/usr/local/lib/python3.8/dist-packages/pandas/core/indexing.py:1817: SettingWithCopyWarning: \n",
            "A value is trying to be set on a copy of a slice from a DataFrame.\n",
            "Try using .loc[row_indexer,col_indexer] = value instead\n",
            "\n",
            "See the caveats in the documentation: https://pandas.pydata.org/pandas-docs/stable/user_guide/indexing.html#returning-a-view-versus-a-copy\n",
            "  self._setitem_single_column(loc, value, pi)\n"
          ]
        }
      ]
    },
    {
      "cell_type": "code",
      "source": [
        "df1.loc[df1['contaminant'].str.startswith('GAS'), 'contaminant'] = 'ga'\n",
        "df1.loc[df1['contaminant'].str.startswith('None'), 'contaminant'] = 'no'"
      ],
      "metadata": {
        "id": "lUDctcd3pOwk"
      },
      "execution_count": 13,
      "outputs": []
    },
    {
      "cell_type": "code",
      "source": [
        "df1.contaminant.unique()"
      ],
      "metadata": {
        "colab": {
          "base_uri": "https://localhost:8080/"
        },
        "id": "KwQYiCTCp6SH",
        "outputId": "2ac861b5-c66a-400c-990b-1c0a8426d84b"
      },
      "execution_count": 14,
      "outputs": [
        {
          "output_type": "execute_result",
          "data": {
            "text/plain": [
              "array(['cr', 'ga', 'other', 'na', 'ch', 're', ' ', 'co', 'no',\n",
              "       'Non-Leaking', 'Non leaking'], dtype=object)"
            ]
          },
          "metadata": {},
          "execution_count": 14
        }
      ]
    },
    {
      "cell_type": "code",
      "source": [
        "df2 = df1.loc[df1['contaminant'].isin(['cr', 're', 'co', 'ch'])]"
      ],
      "metadata": {
        "id": "qGN_g-RhtIkL"
      },
      "execution_count": 15,
      "outputs": []
    },
    {
      "cell_type": "code",
      "source": [
        "df2.estimatedquantity.isna().sum()"
      ],
      "metadata": {
        "colab": {
          "base_uri": "https://localhost:8080/"
        },
        "id": "JBiJA91PtQPf",
        "outputId": "440f41a5-7527-416f-f5b4-022d483fef5f"
      },
      "execution_count": 16,
      "outputs": [
        {
          "output_type": "execute_result",
          "data": {
            "text/plain": [
              "2340"
            ]
          },
          "metadata": {},
          "execution_count": 16
        }
      ]
    },
    {
      "cell_type": "code",
      "source": [
        "df2.loc[df2['estimatedquantity'].str.startswith('0', na=False), 'estimatedquantity'] = df2['estimatedquantity'].replace(',', '.',  regex=True)\n",
        "df2['estimatedquantity'] = df2['estimatedquantity'].replace(',', '',  regex=True)\n",
        "df2['estimatedquantity'] = df2['estimatedquantity'].str.replace('bbl', '')\n",
        "df2['estimatedquantity'] = df2['estimatedquantity'].str.replace('BBL', '')\n",
        "df2['estimatedquantity'] = df2['estimatedquantity'].str.replace('Bbl', '')\n",
        "df2['estimatedquantity'] = df2['estimatedquantity'].str.replace('Barrel', '')\n",
        "df2['estimatedquantity'] = df2['estimatedquantity'].str.replace('BARREL', '')\n",
        "df2['estimatedquantity'] = df2['estimatedquantity'].str.replace('bblS', '')\n",
        "df2['estimatedquantity'] = df2['estimatedquantity'].str.replace('BBLS', '')\n",
        "df2['estimatedquantity'] = df2['estimatedquantity'].str.replace('barrels', '')\n",
        "df2['estimatedquantity'] = df2['estimatedquantity'].str.replace('Barrels', '')\n",
        "df2['estimatedquantity'] = df2['estimatedquantity'].str.replace('I', '1')"
      ],
      "metadata": {
        "colab": {
          "base_uri": "https://localhost:8080/"
        },
        "id": "-hSBrqCktaVS",
        "outputId": "d4d6795a-59b6-4a6b-f628-8758c5ba4676"
      },
      "execution_count": 17,
      "outputs": [
        {
          "output_type": "stream",
          "name": "stderr",
          "text": [
            "<ipython-input-17-bf50b7c2b421>:2: SettingWithCopyWarning: \n",
            "A value is trying to be set on a copy of a slice from a DataFrame.\n",
            "Try using .loc[row_indexer,col_indexer] = value instead\n",
            "\n",
            "See the caveats in the documentation: https://pandas.pydata.org/pandas-docs/stable/user_guide/indexing.html#returning-a-view-versus-a-copy\n",
            "  df2['estimatedquantity'] = df2['estimatedquantity'].replace(',', '',  regex=True)\n",
            "<ipython-input-17-bf50b7c2b421>:3: SettingWithCopyWarning: \n",
            "A value is trying to be set on a copy of a slice from a DataFrame.\n",
            "Try using .loc[row_indexer,col_indexer] = value instead\n",
            "\n",
            "See the caveats in the documentation: https://pandas.pydata.org/pandas-docs/stable/user_guide/indexing.html#returning-a-view-versus-a-copy\n",
            "  df2['estimatedquantity'] = df2['estimatedquantity'].str.replace('bbl', '')\n",
            "<ipython-input-17-bf50b7c2b421>:4: SettingWithCopyWarning: \n",
            "A value is trying to be set on a copy of a slice from a DataFrame.\n",
            "Try using .loc[row_indexer,col_indexer] = value instead\n",
            "\n",
            "See the caveats in the documentation: https://pandas.pydata.org/pandas-docs/stable/user_guide/indexing.html#returning-a-view-versus-a-copy\n",
            "  df2['estimatedquantity'] = df2['estimatedquantity'].str.replace('BBL', '')\n",
            "<ipython-input-17-bf50b7c2b421>:5: SettingWithCopyWarning: \n",
            "A value is trying to be set on a copy of a slice from a DataFrame.\n",
            "Try using .loc[row_indexer,col_indexer] = value instead\n",
            "\n",
            "See the caveats in the documentation: https://pandas.pydata.org/pandas-docs/stable/user_guide/indexing.html#returning-a-view-versus-a-copy\n",
            "  df2['estimatedquantity'] = df2['estimatedquantity'].str.replace('Bbl', '')\n",
            "<ipython-input-17-bf50b7c2b421>:6: SettingWithCopyWarning: \n",
            "A value is trying to be set on a copy of a slice from a DataFrame.\n",
            "Try using .loc[row_indexer,col_indexer] = value instead\n",
            "\n",
            "See the caveats in the documentation: https://pandas.pydata.org/pandas-docs/stable/user_guide/indexing.html#returning-a-view-versus-a-copy\n",
            "  df2['estimatedquantity'] = df2['estimatedquantity'].str.replace('Barrel', '')\n",
            "<ipython-input-17-bf50b7c2b421>:7: SettingWithCopyWarning: \n",
            "A value is trying to be set on a copy of a slice from a DataFrame.\n",
            "Try using .loc[row_indexer,col_indexer] = value instead\n",
            "\n",
            "See the caveats in the documentation: https://pandas.pydata.org/pandas-docs/stable/user_guide/indexing.html#returning-a-view-versus-a-copy\n",
            "  df2['estimatedquantity'] = df2['estimatedquantity'].str.replace('BARREL', '')\n",
            "<ipython-input-17-bf50b7c2b421>:8: SettingWithCopyWarning: \n",
            "A value is trying to be set on a copy of a slice from a DataFrame.\n",
            "Try using .loc[row_indexer,col_indexer] = value instead\n",
            "\n",
            "See the caveats in the documentation: https://pandas.pydata.org/pandas-docs/stable/user_guide/indexing.html#returning-a-view-versus-a-copy\n",
            "  df2['estimatedquantity'] = df2['estimatedquantity'].str.replace('bblS', '')\n",
            "<ipython-input-17-bf50b7c2b421>:9: SettingWithCopyWarning: \n",
            "A value is trying to be set on a copy of a slice from a DataFrame.\n",
            "Try using .loc[row_indexer,col_indexer] = value instead\n",
            "\n",
            "See the caveats in the documentation: https://pandas.pydata.org/pandas-docs/stable/user_guide/indexing.html#returning-a-view-versus-a-copy\n",
            "  df2['estimatedquantity'] = df2['estimatedquantity'].str.replace('BBLS', '')\n",
            "<ipython-input-17-bf50b7c2b421>:10: SettingWithCopyWarning: \n",
            "A value is trying to be set on a copy of a slice from a DataFrame.\n",
            "Try using .loc[row_indexer,col_indexer] = value instead\n",
            "\n",
            "See the caveats in the documentation: https://pandas.pydata.org/pandas-docs/stable/user_guide/indexing.html#returning-a-view-versus-a-copy\n",
            "  df2['estimatedquantity'] = df2['estimatedquantity'].str.replace('barrels', '')\n",
            "<ipython-input-17-bf50b7c2b421>:11: SettingWithCopyWarning: \n",
            "A value is trying to be set on a copy of a slice from a DataFrame.\n",
            "Try using .loc[row_indexer,col_indexer] = value instead\n",
            "\n",
            "See the caveats in the documentation: https://pandas.pydata.org/pandas-docs/stable/user_guide/indexing.html#returning-a-view-versus-a-copy\n",
            "  df2['estimatedquantity'] = df2['estimatedquantity'].str.replace('Barrels', '')\n",
            "<ipython-input-17-bf50b7c2b421>:12: SettingWithCopyWarning: \n",
            "A value is trying to be set on a copy of a slice from a DataFrame.\n",
            "Try using .loc[row_indexer,col_indexer] = value instead\n",
            "\n",
            "See the caveats in the documentation: https://pandas.pydata.org/pandas-docs/stable/user_guide/indexing.html#returning-a-view-versus-a-copy\n",
            "  df2['estimatedquantity'] = df2['estimatedquantity'].str.replace('I', '1')\n"
          ]
        }
      ]
    },
    {
      "cell_type": "code",
      "source": [
        "df2.loc[df2['estimatedquantity'].str.startswith('0', na=False), 'estimatedquantity'] = df2['estimatedquantity'].replace(',', '.',  regex=True)\n",
        "df2['estimatedquantity'] = df2['estimatedquantity'].replace(',', '',  regex=True)\n",
        "df2['estimatedquantity'] = df2['estimatedquantity'].str.replace('bbl', '')\n",
        "df2['estimatedquantity'] = df2['estimatedquantity'].str.replace('BBL', '')\n",
        "df2['estimatedquantity'] = df2['estimatedquantity'].str.replace('Bbl', '')\n",
        "df2['estimatedquantity'] = df2['estimatedquantity'].str.replace('Barrel', '')\n",
        "df2['estimatedquantity'] = df2['estimatedquantity'].str.replace('BARREL', '')\n",
        "df2['estimatedquantity'] = df2['estimatedquantity'].str.replace('bblS', '')\n",
        "df2['estimatedquantity'] = df2['estimatedquantity'].str.replace('BBLS', '')\n",
        "df2['estimatedquantity'] = df2['estimatedquantity'].str.replace('barrels', '')\n",
        "df2['estimatedquantity'] = df2['estimatedquantity'].str.replace('Barrels', '')\n",
        "df2['estimatedquantity'] = df2['estimatedquantity'].str.replace('I', '1')"
      ],
      "metadata": {
        "colab": {
          "base_uri": "https://localhost:8080/"
        },
        "id": "agGHaPh0rsYP",
        "outputId": "c0184bb6-fe19-4377-d5e2-f0bca96118f7"
      },
      "execution_count": 18,
      "outputs": [
        {
          "output_type": "stream",
          "name": "stderr",
          "text": [
            "<ipython-input-18-bf50b7c2b421>:2: SettingWithCopyWarning: \n",
            "A value is trying to be set on a copy of a slice from a DataFrame.\n",
            "Try using .loc[row_indexer,col_indexer] = value instead\n",
            "\n",
            "See the caveats in the documentation: https://pandas.pydata.org/pandas-docs/stable/user_guide/indexing.html#returning-a-view-versus-a-copy\n",
            "  df2['estimatedquantity'] = df2['estimatedquantity'].replace(',', '',  regex=True)\n",
            "<ipython-input-18-bf50b7c2b421>:3: SettingWithCopyWarning: \n",
            "A value is trying to be set on a copy of a slice from a DataFrame.\n",
            "Try using .loc[row_indexer,col_indexer] = value instead\n",
            "\n",
            "See the caveats in the documentation: https://pandas.pydata.org/pandas-docs/stable/user_guide/indexing.html#returning-a-view-versus-a-copy\n",
            "  df2['estimatedquantity'] = df2['estimatedquantity'].str.replace('bbl', '')\n",
            "<ipython-input-18-bf50b7c2b421>:4: SettingWithCopyWarning: \n",
            "A value is trying to be set on a copy of a slice from a DataFrame.\n",
            "Try using .loc[row_indexer,col_indexer] = value instead\n",
            "\n",
            "See the caveats in the documentation: https://pandas.pydata.org/pandas-docs/stable/user_guide/indexing.html#returning-a-view-versus-a-copy\n",
            "  df2['estimatedquantity'] = df2['estimatedquantity'].str.replace('BBL', '')\n",
            "<ipython-input-18-bf50b7c2b421>:5: SettingWithCopyWarning: \n",
            "A value is trying to be set on a copy of a slice from a DataFrame.\n",
            "Try using .loc[row_indexer,col_indexer] = value instead\n",
            "\n",
            "See the caveats in the documentation: https://pandas.pydata.org/pandas-docs/stable/user_guide/indexing.html#returning-a-view-versus-a-copy\n",
            "  df2['estimatedquantity'] = df2['estimatedquantity'].str.replace('Bbl', '')\n",
            "<ipython-input-18-bf50b7c2b421>:6: SettingWithCopyWarning: \n",
            "A value is trying to be set on a copy of a slice from a DataFrame.\n",
            "Try using .loc[row_indexer,col_indexer] = value instead\n",
            "\n",
            "See the caveats in the documentation: https://pandas.pydata.org/pandas-docs/stable/user_guide/indexing.html#returning-a-view-versus-a-copy\n",
            "  df2['estimatedquantity'] = df2['estimatedquantity'].str.replace('Barrel', '')\n",
            "<ipython-input-18-bf50b7c2b421>:7: SettingWithCopyWarning: \n",
            "A value is trying to be set on a copy of a slice from a DataFrame.\n",
            "Try using .loc[row_indexer,col_indexer] = value instead\n",
            "\n",
            "See the caveats in the documentation: https://pandas.pydata.org/pandas-docs/stable/user_guide/indexing.html#returning-a-view-versus-a-copy\n",
            "  df2['estimatedquantity'] = df2['estimatedquantity'].str.replace('BARREL', '')\n",
            "<ipython-input-18-bf50b7c2b421>:8: SettingWithCopyWarning: \n",
            "A value is trying to be set on a copy of a slice from a DataFrame.\n",
            "Try using .loc[row_indexer,col_indexer] = value instead\n",
            "\n",
            "See the caveats in the documentation: https://pandas.pydata.org/pandas-docs/stable/user_guide/indexing.html#returning-a-view-versus-a-copy\n",
            "  df2['estimatedquantity'] = df2['estimatedquantity'].str.replace('bblS', '')\n",
            "<ipython-input-18-bf50b7c2b421>:9: SettingWithCopyWarning: \n",
            "A value is trying to be set on a copy of a slice from a DataFrame.\n",
            "Try using .loc[row_indexer,col_indexer] = value instead\n",
            "\n",
            "See the caveats in the documentation: https://pandas.pydata.org/pandas-docs/stable/user_guide/indexing.html#returning-a-view-versus-a-copy\n",
            "  df2['estimatedquantity'] = df2['estimatedquantity'].str.replace('BBLS', '')\n",
            "<ipython-input-18-bf50b7c2b421>:10: SettingWithCopyWarning: \n",
            "A value is trying to be set on a copy of a slice from a DataFrame.\n",
            "Try using .loc[row_indexer,col_indexer] = value instead\n",
            "\n",
            "See the caveats in the documentation: https://pandas.pydata.org/pandas-docs/stable/user_guide/indexing.html#returning-a-view-versus-a-copy\n",
            "  df2['estimatedquantity'] = df2['estimatedquantity'].str.replace('barrels', '')\n",
            "<ipython-input-18-bf50b7c2b421>:11: SettingWithCopyWarning: \n",
            "A value is trying to be set on a copy of a slice from a DataFrame.\n",
            "Try using .loc[row_indexer,col_indexer] = value instead\n",
            "\n",
            "See the caveats in the documentation: https://pandas.pydata.org/pandas-docs/stable/user_guide/indexing.html#returning-a-view-versus-a-copy\n",
            "  df2['estimatedquantity'] = df2['estimatedquantity'].str.replace('Barrels', '')\n",
            "<ipython-input-18-bf50b7c2b421>:12: SettingWithCopyWarning: \n",
            "A value is trying to be set on a copy of a slice from a DataFrame.\n",
            "Try using .loc[row_indexer,col_indexer] = value instead\n",
            "\n",
            "See the caveats in the documentation: https://pandas.pydata.org/pandas-docs/stable/user_guide/indexing.html#returning-a-view-versus-a-copy\n",
            "  df2['estimatedquantity'] = df2['estimatedquantity'].str.replace('I', '1')\n"
          ]
        }
      ]
    },
    {
      "cell_type": "code",
      "source": [
        "df3 = df2.loc[(df2['incidentdate'] > '2015-12-31') & (df2['incidentdate'] < '2023-01-01')]"
      ],
      "metadata": {
        "id": "l_jN0i2et83G"
      },
      "execution_count": 19,
      "outputs": []
    },
    {
      "cell_type": "code",
      "source": [
        "df3['incidentdate'] = pd.DatetimeIndex(df3['incidentdate'])"
      ],
      "metadata": {
        "colab": {
          "base_uri": "https://localhost:8080/"
        },
        "id": "TFB3mAWo0WKO",
        "outputId": "57fd1fb4-7e2f-41d1-8f43-19b7e9ca1a25"
      },
      "execution_count": 20,
      "outputs": [
        {
          "output_type": "stream",
          "name": "stderr",
          "text": [
            "<ipython-input-20-3ce1f0b5bdb3>:1: SettingWithCopyWarning: \n",
            "A value is trying to be set on a copy of a slice from a DataFrame.\n",
            "Try using .loc[row_indexer,col_indexer] = value instead\n",
            "\n",
            "See the caveats in the documentation: https://pandas.pydata.org/pandas-docs/stable/user_guide/indexing.html#returning-a-view-versus-a-copy\n",
            "  df3['incidentdate'] = pd.DatetimeIndex(df3['incidentdate'])\n"
          ]
        }
      ]
    },
    {
      "cell_type": "code",
      "source": [
        "df3.estimatedquantity = pd.to_numeric(df3.estimatedquantity, errors = 'coerce')"
      ],
      "metadata": {
        "colab": {
          "base_uri": "https://localhost:8080/"
        },
        "id": "igN7epETeRKq",
        "outputId": "0e5c17cd-539d-4284-aacc-3b196555d9ba"
      },
      "execution_count": 21,
      "outputs": [
        {
          "output_type": "stream",
          "name": "stderr",
          "text": [
            "/usr/local/lib/python3.8/dist-packages/pandas/core/generic.py:5516: SettingWithCopyWarning: \n",
            "A value is trying to be set on a copy of a slice from a DataFrame.\n",
            "Try using .loc[row_indexer,col_indexer] = value instead\n",
            "\n",
            "See the caveats in the documentation: https://pandas.pydata.org/pandas-docs/stable/user_guide/indexing.html#returning-a-view-versus-a-copy\n",
            "  self[name] = value\n"
          ]
        }
      ]
    },
    {
      "cell_type": "code",
      "source": [
        "df3.columns"
      ],
      "metadata": {
        "colab": {
          "base_uri": "https://localhost:8080/"
        },
        "id": "JnDnKtDkqrhC",
        "outputId": "1a378aa1-6562-46da-a980-59d25b464aa1"
      },
      "execution_count": 22,
      "outputs": [
        {
          "output_type": "execute_result",
          "data": {
            "text/plain": [
              "Index(['id', 'status', 'company', 'incidentnumber', 'incidentdate', 'contaminant', 'estimatedquantity', 'sitelocationname', 'spillareahabitat', 'lastupdatedby', 'cause', 'updatefor', 'latitude', 'longitude', 'statesaffected', 'attachments', 'jivdate', 'lga', 'zonaloffice', 'certificatedate', 'certificatenumber', 'formadate', 'reportdate', 'spillstopdate', 'initialcontainmentmeasures', 'descriptionofimpact', 'formbdate', 'formcdate', 'jivpresent', 'typeoffacility', 'cleanupcompleteddate', 'cleanupmethods', 'cleanupdate', 'quantityrecovered', 'postcleanupinspectiondate', 'finalsamplingdate', 'estimatedspillarea', 'remediationstart', 'remediationtype', 'remediationend', 'postimpactassessmentdate', 'finallabresultsdate'], dtype='object')"
            ]
          },
          "metadata": {},
          "execution_count": 22
        }
      ]
    },
    {
      "cell_type": "code",
      "source": [
        "dfbi =  df3[['incidentdate','company','contaminant','estimatedquantity','spillareahabitat','cause']]\n",
        "dfbii = df3.set_index('incidentdate')"
      ],
      "metadata": {
        "id": "t3nU3-sBqRg9"
      },
      "execution_count": 23,
      "outputs": []
    },
    {
      "cell_type": "code",
      "source": [
        "from google.colab import files"
      ],
      "metadata": {
        "id": "RuXdHQ4EwCfV"
      },
      "execution_count": 24,
      "outputs": []
    },
    {
      "cell_type": "code",
      "source": [
        "dfbi.to_csv('dfbii.csv')"
      ],
      "metadata": {
        "id": "DLvrNpPJwjXO"
      },
      "execution_count": 25,
      "outputs": []
    },
    {
      "cell_type": "code",
      "source": [
        "#files.download('dfbii.csv')"
      ],
      "metadata": {
        "id": "RQnLhV5uwSoJ"
      },
      "execution_count": 26,
      "outputs": []
    },
    {
      "cell_type": "code",
      "source": [
        "df4w = df3.groupby([pd.Grouper(key='incidentdate', freq='W')])['estimatedquantity'].agg(['sum','size'])\n",
        "df4m = df3.groupby([pd.Grouper(key='incidentdate', freq='M')])['estimatedquantity'].agg(['sum','size'])"
      ],
      "metadata": {
        "id": "4kxgzKPNuSv2"
      },
      "execution_count": 27,
      "outputs": []
    },
    {
      "cell_type": "code",
      "source": [
        "df4m.tail()"
      ],
      "metadata": {
        "colab": {
          "base_uri": "https://localhost:8080/",
          "height": 238
        },
        "id": "LExj8xpJcG4g",
        "outputId": "f84698eb-d043-4439-b137-f7bc7894da69"
      },
      "execution_count": 28,
      "outputs": [
        {
          "output_type": "execute_result",
          "data": {
            "text/plain": [
              "                      sum  size\n",
              "incidentdate                   \n",
              "2022-08-31     863.269540    67\n",
              "2022-09-30     493.283100    60\n",
              "2022-10-31     538.790554    43\n",
              "2022-11-30    1240.313000    19\n",
              "2022-12-31     450.980580    16"
            ],
            "text/html": [
              "\n",
              "  <div id=\"df-8128fd92-8733-423d-8201-4b3b36221bb6\">\n",
              "    <div class=\"colab-df-container\">\n",
              "      <div>\n",
              "<style scoped>\n",
              "    .dataframe tbody tr th:only-of-type {\n",
              "        vertical-align: middle;\n",
              "    }\n",
              "\n",
              "    .dataframe tbody tr th {\n",
              "        vertical-align: top;\n",
              "    }\n",
              "\n",
              "    .dataframe thead th {\n",
              "        text-align: right;\n",
              "    }\n",
              "</style>\n",
              "<table border=\"1\" class=\"dataframe\">\n",
              "  <thead>\n",
              "    <tr style=\"text-align: right;\">\n",
              "      <th></th>\n",
              "      <th>sum</th>\n",
              "      <th>size</th>\n",
              "    </tr>\n",
              "    <tr>\n",
              "      <th>incidentdate</th>\n",
              "      <th></th>\n",
              "      <th></th>\n",
              "    </tr>\n",
              "  </thead>\n",
              "  <tbody>\n",
              "    <tr>\n",
              "      <th>2022-08-31</th>\n",
              "      <td>863.269540</td>\n",
              "      <td>67</td>\n",
              "    </tr>\n",
              "    <tr>\n",
              "      <th>2022-09-30</th>\n",
              "      <td>493.283100</td>\n",
              "      <td>60</td>\n",
              "    </tr>\n",
              "    <tr>\n",
              "      <th>2022-10-31</th>\n",
              "      <td>538.790554</td>\n",
              "      <td>43</td>\n",
              "    </tr>\n",
              "    <tr>\n",
              "      <th>2022-11-30</th>\n",
              "      <td>1240.313000</td>\n",
              "      <td>19</td>\n",
              "    </tr>\n",
              "    <tr>\n",
              "      <th>2022-12-31</th>\n",
              "      <td>450.980580</td>\n",
              "      <td>16</td>\n",
              "    </tr>\n",
              "  </tbody>\n",
              "</table>\n",
              "</div>\n",
              "      <button class=\"colab-df-convert\" onclick=\"convertToInteractive('df-8128fd92-8733-423d-8201-4b3b36221bb6')\"\n",
              "              title=\"Convert this dataframe to an interactive table.\"\n",
              "              style=\"display:none;\">\n",
              "        \n",
              "  <svg xmlns=\"http://www.w3.org/2000/svg\" height=\"24px\"viewBox=\"0 0 24 24\"\n",
              "       width=\"24px\">\n",
              "    <path d=\"M0 0h24v24H0V0z\" fill=\"none\"/>\n",
              "    <path d=\"M18.56 5.44l.94 2.06.94-2.06 2.06-.94-2.06-.94-.94-2.06-.94 2.06-2.06.94zm-11 1L8.5 8.5l.94-2.06 2.06-.94-2.06-.94L8.5 2.5l-.94 2.06-2.06.94zm10 10l.94 2.06.94-2.06 2.06-.94-2.06-.94-.94-2.06-.94 2.06-2.06.94z\"/><path d=\"M17.41 7.96l-1.37-1.37c-.4-.4-.92-.59-1.43-.59-.52 0-1.04.2-1.43.59L10.3 9.45l-7.72 7.72c-.78.78-.78 2.05 0 2.83L4 21.41c.39.39.9.59 1.41.59.51 0 1.02-.2 1.41-.59l7.78-7.78 2.81-2.81c.8-.78.8-2.07 0-2.86zM5.41 20L4 18.59l7.72-7.72 1.47 1.35L5.41 20z\"/>\n",
              "  </svg>\n",
              "      </button>\n",
              "      \n",
              "  <style>\n",
              "    .colab-df-container {\n",
              "      display:flex;\n",
              "      flex-wrap:wrap;\n",
              "      gap: 12px;\n",
              "    }\n",
              "\n",
              "    .colab-df-convert {\n",
              "      background-color: #E8F0FE;\n",
              "      border: none;\n",
              "      border-radius: 50%;\n",
              "      cursor: pointer;\n",
              "      display: none;\n",
              "      fill: #1967D2;\n",
              "      height: 32px;\n",
              "      padding: 0 0 0 0;\n",
              "      width: 32px;\n",
              "    }\n",
              "\n",
              "    .colab-df-convert:hover {\n",
              "      background-color: #E2EBFA;\n",
              "      box-shadow: 0px 1px 2px rgba(60, 64, 67, 0.3), 0px 1px 3px 1px rgba(60, 64, 67, 0.15);\n",
              "      fill: #174EA6;\n",
              "    }\n",
              "\n",
              "    [theme=dark] .colab-df-convert {\n",
              "      background-color: #3B4455;\n",
              "      fill: #D2E3FC;\n",
              "    }\n",
              "\n",
              "    [theme=dark] .colab-df-convert:hover {\n",
              "      background-color: #434B5C;\n",
              "      box-shadow: 0px 1px 3px 1px rgba(0, 0, 0, 0.15);\n",
              "      filter: drop-shadow(0px 1px 2px rgba(0, 0, 0, 0.3));\n",
              "      fill: #FFFFFF;\n",
              "    }\n",
              "  </style>\n",
              "\n",
              "      <script>\n",
              "        const buttonEl =\n",
              "          document.querySelector('#df-8128fd92-8733-423d-8201-4b3b36221bb6 button.colab-df-convert');\n",
              "        buttonEl.style.display =\n",
              "          google.colab.kernel.accessAllowed ? 'block' : 'none';\n",
              "\n",
              "        async function convertToInteractive(key) {\n",
              "          const element = document.querySelector('#df-8128fd92-8733-423d-8201-4b3b36221bb6');\n",
              "          const dataTable =\n",
              "            await google.colab.kernel.invokeFunction('convertToInteractive',\n",
              "                                                     [key], {});\n",
              "          if (!dataTable) return;\n",
              "\n",
              "          const docLinkHtml = 'Like what you see? Visit the ' +\n",
              "            '<a target=\"_blank\" href=https://colab.research.google.com/notebooks/data_table.ipynb>data table notebook</a>'\n",
              "            + ' to learn more about interactive tables.';\n",
              "          element.innerHTML = '';\n",
              "          dataTable['output_type'] = 'display_data';\n",
              "          await google.colab.output.renderOutput(dataTable, element);\n",
              "          const docLink = document.createElement('div');\n",
              "          docLink.innerHTML = docLinkHtml;\n",
              "          element.appendChild(docLink);\n",
              "        }\n",
              "      </script>\n",
              "    </div>\n",
              "  </div>\n",
              "  "
            ]
          },
          "metadata": {},
          "execution_count": 28
        }
      ]
    },
    {
      "cell_type": "code",
      "source": [
        "df4w = df4w.rename(columns={'sum':'estimatedqty', 'size':'spillno'})\n",
        "df4m = df4m.rename(columns={'sum':'estimatedqty', 'size':'spillno'})"
      ],
      "metadata": {
        "id": "PmN1_LleY1Fk"
      },
      "execution_count": 29,
      "outputs": []
    },
    {
      "cell_type": "code",
      "source": [
        "!pip install h2o -qq"
      ],
      "metadata": {
        "id": "XrMrI6eB1nWd",
        "colab": {
          "base_uri": "https://localhost:8080/"
        },
        "outputId": "ccbcbce9-105f-4b8e-eb97-169686e0d0e5"
      },
      "execution_count": 30,
      "outputs": [
        {
          "output_type": "stream",
          "name": "stdout",
          "text": [
            "\u001b[2K     \u001b[90m━━━━━━━━━━━━━━━━━━━━━━━━━━━━━━━━━━━━━━━\u001b[0m \u001b[32m177.7/177.7 MB\u001b[0m \u001b[31m6.6 MB/s\u001b[0m eta \u001b[36m0:00:00\u001b[0m\n",
            "\u001b[?25h"
          ]
        }
      ]
    },
    {
      "cell_type": "code",
      "source": [
        "import h2o\n",
        "from h2o.automl import H2OAutoML"
      ],
      "metadata": {
        "id": "pQYm89xelwk_"
      },
      "execution_count": 31,
      "outputs": []
    },
    {
      "cell_type": "code",
      "source": [
        "# Start the H2O cluster (locally)\n",
        "h2o.init()"
      ],
      "metadata": {
        "colab": {
          "base_uri": "https://localhost:8080/",
          "height": 544
        },
        "id": "3-5dBnjo5vkG",
        "outputId": "e07a77df-33ae-43b0-cd1b-67d8961f16bc"
      },
      "execution_count": 32,
      "outputs": [
        {
          "output_type": "stream",
          "name": "stdout",
          "text": [
            "Checking whether there is an H2O instance running at http://localhost:54321..... not found.\n",
            "Attempting to start a local H2O server...\n",
            "  Java Version: openjdk version \"11.0.17\" 2022-10-18; OpenJDK Runtime Environment (build 11.0.17+8-post-Ubuntu-1ubuntu220.04); OpenJDK 64-Bit Server VM (build 11.0.17+8-post-Ubuntu-1ubuntu220.04, mixed mode, sharing)\n",
            "  Starting server from /usr/local/lib/python3.8/dist-packages/h2o/backend/bin/h2o.jar\n",
            "  Ice root: /tmp/tmpwxzk1z0h\n",
            "  JVM stdout: /tmp/tmpwxzk1z0h/h2o_unknownUser_started_from_python.out\n",
            "  JVM stderr: /tmp/tmpwxzk1z0h/h2o_unknownUser_started_from_python.err\n",
            "  Server is running at http://127.0.0.1:54321\n",
            "Connecting to H2O server at http://127.0.0.1:54321 ... successful.\n"
          ]
        },
        {
          "output_type": "display_data",
          "data": {
            "text/plain": [
              "--------------------------  ----------------------------------\n",
              "H2O_cluster_uptime:         06 secs\n",
              "H2O_cluster_timezone:       Etc/UTC\n",
              "H2O_data_parsing_timezone:  UTC\n",
              "H2O_cluster_version:        3.40.0.1\n",
              "H2O_cluster_version_age:    7 hours and 53 minutes\n",
              "H2O_cluster_name:           H2O_from_python_unknownUser_3m7e13\n",
              "H2O_cluster_total_nodes:    1\n",
              "H2O_cluster_free_memory:    3.172 Gb\n",
              "H2O_cluster_total_cores:    2\n",
              "H2O_cluster_allowed_cores:  2\n",
              "H2O_cluster_status:         locked, healthy\n",
              "H2O_connection_url:         http://127.0.0.1:54321\n",
              "H2O_connection_proxy:       {\"http\": null, \"https\": null}\n",
              "H2O_internal_security:      False\n",
              "Python_version:             3.8.10 final\n",
              "--------------------------  ----------------------------------"
            ],
            "text/html": [
              "\n",
              "<style>\n",
              "\n",
              "#h2o-table-1.h2o-container {\n",
              "  overflow-x: auto;\n",
              "}\n",
              "#h2o-table-1 .h2o-table {\n",
              "  /* width: 100%; */\n",
              "  margin-top: 1em;\n",
              "  margin-bottom: 1em;\n",
              "}\n",
              "#h2o-table-1 .h2o-table caption {\n",
              "  white-space: nowrap;\n",
              "  caption-side: top;\n",
              "  text-align: left;\n",
              "  /* margin-left: 1em; */\n",
              "  margin: 0;\n",
              "  font-size: larger;\n",
              "}\n",
              "#h2o-table-1 .h2o-table thead {\n",
              "  white-space: nowrap; \n",
              "  position: sticky;\n",
              "  top: 0;\n",
              "  box-shadow: 0 -1px inset;\n",
              "}\n",
              "#h2o-table-1 .h2o-table tbody {\n",
              "  overflow: auto;\n",
              "}\n",
              "#h2o-table-1 .h2o-table th,\n",
              "#h2o-table-1 .h2o-table td {\n",
              "  text-align: right;\n",
              "  /* border: 1px solid; */\n",
              "}\n",
              "#h2o-table-1 .h2o-table tr:nth-child(even) {\n",
              "  /* background: #F5F5F5 */\n",
              "}\n",
              "\n",
              "</style>      \n",
              "<div id=\"h2o-table-1\" class=\"h2o-container\">\n",
              "  <table class=\"h2o-table\">\n",
              "    <caption></caption>\n",
              "    <thead></thead>\n",
              "    <tbody><tr><td>H2O_cluster_uptime:</td>\n",
              "<td>06 secs</td></tr>\n",
              "<tr><td>H2O_cluster_timezone:</td>\n",
              "<td>Etc/UTC</td></tr>\n",
              "<tr><td>H2O_data_parsing_timezone:</td>\n",
              "<td>UTC</td></tr>\n",
              "<tr><td>H2O_cluster_version:</td>\n",
              "<td>3.40.0.1</td></tr>\n",
              "<tr><td>H2O_cluster_version_age:</td>\n",
              "<td>7 hours and 53 minutes</td></tr>\n",
              "<tr><td>H2O_cluster_name:</td>\n",
              "<td>H2O_from_python_unknownUser_3m7e13</td></tr>\n",
              "<tr><td>H2O_cluster_total_nodes:</td>\n",
              "<td>1</td></tr>\n",
              "<tr><td>H2O_cluster_free_memory:</td>\n",
              "<td>3.172 Gb</td></tr>\n",
              "<tr><td>H2O_cluster_total_cores:</td>\n",
              "<td>2</td></tr>\n",
              "<tr><td>H2O_cluster_allowed_cores:</td>\n",
              "<td>2</td></tr>\n",
              "<tr><td>H2O_cluster_status:</td>\n",
              "<td>locked, healthy</td></tr>\n",
              "<tr><td>H2O_connection_url:</td>\n",
              "<td>http://127.0.0.1:54321</td></tr>\n",
              "<tr><td>H2O_connection_proxy:</td>\n",
              "<td>{\"http\": null, \"https\": null}</td></tr>\n",
              "<tr><td>H2O_internal_security:</td>\n",
              "<td>False</td></tr>\n",
              "<tr><td>Python_version:</td>\n",
              "<td>3.8.10 final</td></tr></tbody>\n",
              "  </table>\n",
              "</div>\n"
            ]
          },
          "metadata": {}
        }
      ]
    },
    {
      "cell_type": "code",
      "source": [
        "#Feature Engineering for the weekly datasets\n",
        "df4wi = df4w[[\"spillno\"]]\n",
        "df4wi= df4wi.reset_index()\n",
        "df4wi[\"month\"] = df4wi[\"incidentdate\"].dt.month\n",
        "df4wi[\"year\"] = df4wi[\"incidentdate\"].dt.year\n",
        "df4wi[\"week\"] = df4wi[\"incidentdate\"].dt.isocalendar().week\n",
        "df4wi = df4wi[[\"incidentdate\",\"spillno\",\"month\", \"year\",\"week\"]]\n",
        "df4wi = df4wi.set_index(\"incidentdate\")"
      ],
      "metadata": {
        "id": "Qaan4uSH7fe2"
      },
      "execution_count": 43,
      "outputs": []
    },
    {
      "cell_type": "code",
      "source": [
        "#Feature Engineering for the monthly datasets\n",
        "df4mi = df4m[[\"spillno\"]]\n",
        "df4mi= df4mi.reset_index()\n",
        "df4mi[\"month\"] = df4mi[\"incidentdate\"].dt.month\n",
        "df4mi[\"year\"] = df4mi[\"incidentdate\"].dt.year\n",
        "df4mi = df4mi[[\"incidentdate\",\"spillno\",\"month\", \"year\"]]\n",
        "df4mi = df4mi.set_index(\"incidentdate\")"
      ],
      "metadata": {
        "id": "SuqqNqOeFd4l"
      },
      "execution_count": 45,
      "outputs": []
    },
    {
      "cell_type": "code",
      "source": [
        "df4wi.tail()"
      ],
      "metadata": {
        "colab": {
          "base_uri": "https://localhost:8080/",
          "height": 238
        },
        "id": "foW7ojBp_Y-V",
        "outputId": "52ec0cf7-1c7d-41bb-f358-cb19755de636"
      },
      "execution_count": 46,
      "outputs": [
        {
          "output_type": "execute_result",
          "data": {
            "text/plain": [
              "              spillno  month  year  week\n",
              "incidentdate                            \n",
              "2022-12-04          3     12  2022    48\n",
              "2022-12-11          6     12  2022    49\n",
              "2022-12-18          7     12  2022    50\n",
              "2022-12-25          2     12  2022    51\n",
              "2023-01-01          1      1  2023    52"
            ],
            "text/html": [
              "\n",
              "  <div id=\"df-9f0213f2-0235-446a-be17-848ee905d029\">\n",
              "    <div class=\"colab-df-container\">\n",
              "      <div>\n",
              "<style scoped>\n",
              "    .dataframe tbody tr th:only-of-type {\n",
              "        vertical-align: middle;\n",
              "    }\n",
              "\n",
              "    .dataframe tbody tr th {\n",
              "        vertical-align: top;\n",
              "    }\n",
              "\n",
              "    .dataframe thead th {\n",
              "        text-align: right;\n",
              "    }\n",
              "</style>\n",
              "<table border=\"1\" class=\"dataframe\">\n",
              "  <thead>\n",
              "    <tr style=\"text-align: right;\">\n",
              "      <th></th>\n",
              "      <th>spillno</th>\n",
              "      <th>month</th>\n",
              "      <th>year</th>\n",
              "      <th>week</th>\n",
              "    </tr>\n",
              "    <tr>\n",
              "      <th>incidentdate</th>\n",
              "      <th></th>\n",
              "      <th></th>\n",
              "      <th></th>\n",
              "      <th></th>\n",
              "    </tr>\n",
              "  </thead>\n",
              "  <tbody>\n",
              "    <tr>\n",
              "      <th>2022-12-04</th>\n",
              "      <td>3</td>\n",
              "      <td>12</td>\n",
              "      <td>2022</td>\n",
              "      <td>48</td>\n",
              "    </tr>\n",
              "    <tr>\n",
              "      <th>2022-12-11</th>\n",
              "      <td>6</td>\n",
              "      <td>12</td>\n",
              "      <td>2022</td>\n",
              "      <td>49</td>\n",
              "    </tr>\n",
              "    <tr>\n",
              "      <th>2022-12-18</th>\n",
              "      <td>7</td>\n",
              "      <td>12</td>\n",
              "      <td>2022</td>\n",
              "      <td>50</td>\n",
              "    </tr>\n",
              "    <tr>\n",
              "      <th>2022-12-25</th>\n",
              "      <td>2</td>\n",
              "      <td>12</td>\n",
              "      <td>2022</td>\n",
              "      <td>51</td>\n",
              "    </tr>\n",
              "    <tr>\n",
              "      <th>2023-01-01</th>\n",
              "      <td>1</td>\n",
              "      <td>1</td>\n",
              "      <td>2023</td>\n",
              "      <td>52</td>\n",
              "    </tr>\n",
              "  </tbody>\n",
              "</table>\n",
              "</div>\n",
              "      <button class=\"colab-df-convert\" onclick=\"convertToInteractive('df-9f0213f2-0235-446a-be17-848ee905d029')\"\n",
              "              title=\"Convert this dataframe to an interactive table.\"\n",
              "              style=\"display:none;\">\n",
              "        \n",
              "  <svg xmlns=\"http://www.w3.org/2000/svg\" height=\"24px\"viewBox=\"0 0 24 24\"\n",
              "       width=\"24px\">\n",
              "    <path d=\"M0 0h24v24H0V0z\" fill=\"none\"/>\n",
              "    <path d=\"M18.56 5.44l.94 2.06.94-2.06 2.06-.94-2.06-.94-.94-2.06-.94 2.06-2.06.94zm-11 1L8.5 8.5l.94-2.06 2.06-.94-2.06-.94L8.5 2.5l-.94 2.06-2.06.94zm10 10l.94 2.06.94-2.06 2.06-.94-2.06-.94-.94-2.06-.94 2.06-2.06.94z\"/><path d=\"M17.41 7.96l-1.37-1.37c-.4-.4-.92-.59-1.43-.59-.52 0-1.04.2-1.43.59L10.3 9.45l-7.72 7.72c-.78.78-.78 2.05 0 2.83L4 21.41c.39.39.9.59 1.41.59.51 0 1.02-.2 1.41-.59l7.78-7.78 2.81-2.81c.8-.78.8-2.07 0-2.86zM5.41 20L4 18.59l7.72-7.72 1.47 1.35L5.41 20z\"/>\n",
              "  </svg>\n",
              "      </button>\n",
              "      \n",
              "  <style>\n",
              "    .colab-df-container {\n",
              "      display:flex;\n",
              "      flex-wrap:wrap;\n",
              "      gap: 12px;\n",
              "    }\n",
              "\n",
              "    .colab-df-convert {\n",
              "      background-color: #E8F0FE;\n",
              "      border: none;\n",
              "      border-radius: 50%;\n",
              "      cursor: pointer;\n",
              "      display: none;\n",
              "      fill: #1967D2;\n",
              "      height: 32px;\n",
              "      padding: 0 0 0 0;\n",
              "      width: 32px;\n",
              "    }\n",
              "\n",
              "    .colab-df-convert:hover {\n",
              "      background-color: #E2EBFA;\n",
              "      box-shadow: 0px 1px 2px rgba(60, 64, 67, 0.3), 0px 1px 3px 1px rgba(60, 64, 67, 0.15);\n",
              "      fill: #174EA6;\n",
              "    }\n",
              "\n",
              "    [theme=dark] .colab-df-convert {\n",
              "      background-color: #3B4455;\n",
              "      fill: #D2E3FC;\n",
              "    }\n",
              "\n",
              "    [theme=dark] .colab-df-convert:hover {\n",
              "      background-color: #434B5C;\n",
              "      box-shadow: 0px 1px 3px 1px rgba(0, 0, 0, 0.15);\n",
              "      filter: drop-shadow(0px 1px 2px rgba(0, 0, 0, 0.3));\n",
              "      fill: #FFFFFF;\n",
              "    }\n",
              "  </style>\n",
              "\n",
              "      <script>\n",
              "        const buttonEl =\n",
              "          document.querySelector('#df-9f0213f2-0235-446a-be17-848ee905d029 button.colab-df-convert');\n",
              "        buttonEl.style.display =\n",
              "          google.colab.kernel.accessAllowed ? 'block' : 'none';\n",
              "\n",
              "        async function convertToInteractive(key) {\n",
              "          const element = document.querySelector('#df-9f0213f2-0235-446a-be17-848ee905d029');\n",
              "          const dataTable =\n",
              "            await google.colab.kernel.invokeFunction('convertToInteractive',\n",
              "                                                     [key], {});\n",
              "          if (!dataTable) return;\n",
              "\n",
              "          const docLinkHtml = 'Like what you see? Visit the ' +\n",
              "            '<a target=\"_blank\" href=https://colab.research.google.com/notebooks/data_table.ipynb>data table notebook</a>'\n",
              "            + ' to learn more about interactive tables.';\n",
              "          element.innerHTML = '';\n",
              "          dataTable['output_type'] = 'display_data';\n",
              "          await google.colab.output.renderOutput(dataTable, element);\n",
              "          const docLink = document.createElement('div');\n",
              "          docLink.innerHTML = docLinkHtml;\n",
              "          element.appendChild(docLink);\n",
              "        }\n",
              "      </script>\n",
              "    </div>\n",
              "  </div>\n",
              "  "
            ]
          },
          "metadata": {},
          "execution_count": 46
        }
      ]
    }
  ]
}